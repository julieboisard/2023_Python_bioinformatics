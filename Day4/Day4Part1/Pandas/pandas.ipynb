{
 "cells": [
  {
   "cell_type": "markdown",
   "metadata": {},
   "source": [
    "### Lund University | Master's programme in Bioinformatics| BINP16 Bioinformatics: Programming in Python | Dr. Sara Behnamian| October 2022\n"
   ]
  },
  {
   "cell_type": "markdown",
   "metadata": {},
   "source": [
    "## LEARNING OBJECTIVES                                          \n",
    "| Jupyter Notebook | Pandas |                             \n",
    "| ----------- | ----------- |\n",
    "| Jupyter Notebook | Introduction | \n",
    "| Getting started | Getting started | \n",
    "| Installation | Installation | \n",
    "| Starting the Jupyter Notebook Server | Pandas data structures | \n",
    "| Creating a Notebook | GFF file format – Definition |\n",
    "| Naming | Working with a GFF DataFrames   | \n",
    "| Running cells | Reading a Tabular Data, Selecting a Subset of a Table, Filtering a Table, Creating Plots, doing some statistics, sharing the code, etc.|\n",
    "\n"
   ]
  },
  {
   "cell_type": "markdown",
   "metadata": {},
   "source": [
    "## What is Jupyter Notebook?\n",
    "![alt text](pics\\414px-Jupyter_logo.svg.png)"
   ]
  },
  {
   "cell_type": "markdown",
   "metadata": {},
   "source": [
    "### The Jupyter Notebook is an open source web application that you can use to create and share documents that contain live code, equations, visualizations, and text.\n",
    "\n",
    "### Jupyter Notebooks are a spin-off project from the IPython project, which used to have an IPython Notebook project itself. \n",
    "### The name, Jupyter, comes from the core supported programming languages that it supports: Julia, Python, and R. \n",
    "\n"
   ]
  },
  {
   "cell_type": "markdown",
   "metadata": {},
   "source": [
    "## Getting Up and Running With Jupyter Notebook\n",
    "### The Jupyter Notebook is not included with Python, so if you want to try it out, you will need to install Jupyter. There are many distributions of the Python language. Here we will focus on just two of them for the purposes of installing the Jupyter Notebook. "
   ]
  },
  {
   "cell_type": "markdown",
   "metadata": {},
   "source": [
    "![alt text](pics\\jup.png)"
   ]
  },
  {
   "cell_type": "markdown",
   "metadata": {},
   "source": [
    "### You can find other ways [here](https://jupyter.org/install)"
   ]
  },
  {
   "cell_type": "markdown",
   "metadata": {},
   "source": [
    "## Installation\n",
    "### You can use a handy tool that comes with Python called pip to install Jupyter Notebook like this:\n",
    "![alt text](pics\\Picture2.png)\n",
    "### The next most popular distribution of Python is [Anaconda](https://www.anaconda.com/). Anaconda has its own installer tool called conda that you could use for installing a third-party package. However, Anaconda comes with many scientific libraries preinstalled, including the Jupyter Notebook, so you don’t actually need to do anything other than install Anaconda itself.\n"
   ]
  },
  {
   "cell_type": "markdown",
   "metadata": {},
   "source": [
    "## Starting the Jupyter Notebook Server\n",
    "### Now that you have Jupyter installed, let’s learn how to use it. To get started, all you need to do is open up your terminal application and go to a folder of your choice. \n",
    "\n",
    "### Then just go to that location in your terminal and run the following command:\n",
    "![alt text](pics\\Picture3.png)\n",
    "### This will start up Jupyter and your default browser should start (or open a new tab) to the following URL: http://localhost:8888/tree\n",
    "\n",
    "### Your browser should now look like this:\n",
    "![alt text](pics\\Picture4.png)\n"
   ]
  },
  {
   "cell_type": "markdown",
   "metadata": {},
   "source": [
    "## Creating a Notebook\n",
    "### Let’s create a Notebook now! All you need to do is click on the New button (upper right, File -> New->Notebook), and it will open up a list of choices. \n",
    "### Your web page should now look like this:\n",
    "![alt text](pics\\Picture5.png)\n"
   ]
  },
  {
   "cell_type": "markdown",
   "metadata": {},
   "source": [
    "## Naming\n",
    "### You will notice that at the top of the page is the word Untitled. This is the title for the page and the name of your Notebook. Since that isn’t a very descriptive name, let’s change it!\n",
    "### Just move your mouse over the word Untitled and click on the text. You should now see an in-browser dialog titled Rename Notebook. Let’s rename this one to Hello Jupyter:\n",
    "![alt text](pics\\Picture6.png)\n"
   ]
  },
  {
   "cell_type": "markdown",
   "metadata": {},
   "source": [
    "## Running Cells\n",
    "### A Notebook’s cell defaults to using code whenever you first create one, and that cell uses the kernel that you chose when you started your Notebook.\n",
    "### I recommend that you start yours with Python 3 as your kernel, so that means you can write Python code in your code cells. \n",
    "\n",
    "### Running a cell means that you will execute the cell’s contents. To execute a cell, you can just select the cell and click the Run button that is in the row of buttons along the top. It’s towards the middle. If you prefer using your keyboard, you can just press Shift + Enter:\n",
    "![alt text](pics\\Picture7.png)\n"
   ]
  },
  {
   "cell_type": "markdown",
   "metadata": {},
   "source": [
    "## Want to share your code with your friends? \n",
    "### Colaboratory, or Colab for short allows you to write and execute Python code through your browser. \n",
    "\n",
    "### It is a hosted Jupyter notebook that requires no setup and has an excellent free version, which gives free access to Google computing resources such as GPUs and TPUs.\n",
    "\n",
    "### Another great feature that Google Colab offers is the collaboration feature. If you are working with your friends on a project, it is great to use a Google Colab notebook.  You can co-code together using a Google Colab notebook.\n",
    "![alt text](pics\\Picture8.jpg)\n",
    "\n",
    "### Today, after learning about Pandas and GFF file format, we will go to Google Colab to learn more about Jupyter and its features through a project using Pandas.\n"
   ]
  },
  {
   "cell_type": "markdown",
   "metadata": {},
   "source": [
    "## What is Pandas?\n",
    "![alt text](pics\\Picture11.jpg)\n",
    "### Pandas is a software library written for the Python programming language for data manipulation and analysis. \n",
    "\n",
    "### It contains data structures and data manipulation tools designed to make data cleaning and analysis fast and easy in Python.\n",
    "\n",
    "### Pandas is often used in tandem with numerical computing tools like NumPy and SciPy, analytical libraries like statsmodels and scikit-learn, and data visualization libraries like matplotlib. \n"
   ]
  },
  {
   "cell_type": "markdown",
   "metadata": {},
   "source": [
    "## Getting started\n",
    "## Installation\n",
    "### Working with conda?\n",
    "### pandas is part of the Anaconda distribution and can be installed with Anaconda or Miniconda:\n",
    "![alt text](pics\\Picture11.png)\n",
    "### Prefer pip?\n",
    "### pandas can be installed via pip from PyPI.\n",
    "![alt text](pics\\Picture12.png)\n",
    "### Other installation options can be found [here](https://pandas.pydata.org/docs/getting_started/install.h)\n"
   ]
  },
  {
   "cell_type": "markdown",
   "metadata": {},
   "source": [
    "## To load the pandas package and start working with it, import the package. The community agreed alias for pandas is pd, so loading pandas as pd is assumed standard practice for all of the pandas documentation. 🐼🐼"
   ]
  },
  {
   "cell_type": "code",
   "execution_count": 1,
   "metadata": {},
   "outputs": [],
   "source": [
    "import pandas as pd\n",
    "import matplotlib.pyplot as plt"
   ]
  },
  {
   "cell_type": "markdown",
   "metadata": {},
   "source": [
    "### I imported matplotlib.pyplot as plt for another reason that I will explain later"
   ]
  },
  {
   "cell_type": "markdown",
   "metadata": {},
   "source": [
    "## Introduction to pandas Data Structures \n",
    "### To get started with pandas, you will need to get comfortable with its two workhorse data structures, Series and DataFrame. \n",
    "## Series\n",
    "### Pandas Series is a one-dimensional labeled array capable of holding any data type (integers, strings, floating-point numbers, Python objects, etc.). The simplest Series is formed from only an array of data:\n",
    "\n"
   ]
  },
  {
   "cell_type": "code",
   "execution_count": 2,
   "metadata": {},
   "outputs": [
    {
     "data": {
      "text/plain": [
       "0    4\n",
       "1    7\n",
       "2   -5\n",
       "3    3\n",
       "dtype: int64"
      ]
     },
     "execution_count": 2,
     "metadata": {},
     "output_type": "execute_result"
    }
   ],
   "source": [
    "obj = pd.Series([4, 7, -5, 3])\n",
    "obj"
   ]
  },
  {
   "cell_type": "markdown",
   "metadata": {},
   "source": [
    "### Compared with NumPy arrays, you can use labels in the index when selecting single values or a set of values, for example, obj[1] = 7.\n",
    "\n"
   ]
  },
  {
   "cell_type": "code",
   "execution_count": 3,
   "metadata": {},
   "outputs": [
    {
     "data": {
      "text/plain": [
       "7"
      ]
     },
     "execution_count": 3,
     "metadata": {},
     "output_type": "execute_result"
    }
   ],
   "source": [
    "obj[1]"
   ]
  },
  {
   "cell_type": "markdown",
   "metadata": {},
   "source": [
    "### More information on the Pandas series can be accessed [here](https://pandas.pydata.org/docs/reference/api/pandas.Series.html)."
   ]
  },
  {
   "cell_type": "markdown",
   "metadata": {},
   "source": [
    "## DataFrame\n",
    "### A DataFrame represents a rectangular table of data and contains an ordered collection of columns, each of which can be a different value type (numeric, string, boolean, etc.).\n",
    "### The DataFrame has both a row and column index; it can be thought of as a dict of Series all sharing the same index. Under the hood, the data is stored as one or more two-dimensional blocks rather than a list, dict, or some other collection of one-dimensional arrays. \n",
    "![alt text](pics\\Picture1.png)"
   ]
  },
  {
   "cell_type": "markdown",
   "metadata": {},
   "source": [
    "### For getting started with pandas, let’s study and work on an example with real-world data together. Let's start by clarifying what a GFF file is.\n"
   ]
  },
  {
   "cell_type": "markdown",
   "metadata": {},
   "source": [
    "## GFF/GTF File Format - Definition and supported options"
   ]
  },
  {
   "cell_type": "markdown",
   "metadata": {},
   "source": [
    "### The GF𝐅^\"∗\"  format consists of one line per feature, each containing nine columns of data, plus optional track definition lines.\n",
    "### GFF2 is a supported format in GMOD^\"†\" , but it is now deprecated and if you have a choice you should use GFF3. \n",
    "### The GT𝐅^\"‡\"  is identical to GFF version 2.\n",
    "### Genome annotation files are provided in GFF3 format for all annotated assemblies included in NCBI's genomes FTP resource. GFF3 files are formatted according to the specifications described at Sequence [Ontology](https://github.com/The-Sequence-Ontology/Specifications/blob/master/gff3.md).\n",
    "### Before we learn how to read and manipulate it in Pandas, let's take a brief look at its columns.\n",
    "\n"
   ]
  },
  {
   "cell_type": "markdown",
   "metadata": {},
   "source": [
    " ## COLUMN SPECIFICATIONS \n",
    " - ### seqname - name of the chromosome or scaffold; chromosome names can be given with or without the 'chr' prefix. \n",
    " - ### source - name of the program that generated this feature, or the data source (database or project name).\n",
    " - ### feature - feature type name, e.g. Gene, Variation, Similarity.\n",
    " - ### start - Start position of the feature, with sequence numbering starting at 1.\n",
    " - ### end - End position of the feature, with sequence numbering starting at 1.\n",
    " - ### score - A floating point value.\n",
    " - ### strand - defined as + (forward) or - (reverse).\n",
    " - ### frame - One of '0', '1' or '2'. '0' indicates that the first base of the feature is the first base of a codon, '1' that the second base is the first - base of a codon, and so on.\n",
    " - ### attribute - A semicolon-separated list of tag-value pairs, providing additional information about each feature."
   ]
  },
  {
   "cell_type": "markdown",
   "metadata": {},
   "source": [
    "### 🐼🐼 Pandas supports the integration with many file formats or data sources out of the box (csv, excel, sql, json, parquet,…).\n",
    "### Importing data from each of these data sources is provided by function with the prefix *read_* Similarly, the *to_* methods are used to store data. \n",
    "\n",
    "### We will practice by loading a GFF file. We provide the argument comment=\"#\" below so it will skip the first few lines of the file that are not data but just comments, and we will enter in the column names by hand because it is easier than trying to parse them from the file in this case."
   ]
  },
  {
   "cell_type": "code",
   "execution_count": 4,
   "metadata": {},
   "outputs": [],
   "source": [
    "# read csv function with arguments to parse the file\n",
    "gff = pd.read_csv(\n",
    "    \"./NZ_GG770409.gff\", \n",
    "    sep=\"\\t\", \n",
    "    header=None,\n",
    "    comment=\"#\", \n",
    "    names=(\"seqname\", \"source\", \"feature\", \"start\",\n",
    "           \"end\", \"score\", \"strand\", \"frame\", \"attribute\"),\n",
    ")"
   ]
  },
  {
   "cell_type": "markdown",
   "metadata": {},
   "source": [
    "### <mark>Make sure to always have a check on the data after reading it.</mark> \n",
    "### When displaying a DataFrame, the first 5 rows will be shown by default:\n"
   ]
  },
  {
   "cell_type": "code",
   "execution_count": 5,
   "metadata": {},
   "outputs": [
    {
     "data": {
      "text/html": [
       "<div>\n",
       "<style scoped>\n",
       "    .dataframe tbody tr th:only-of-type {\n",
       "        vertical-align: middle;\n",
       "    }\n",
       "\n",
       "    .dataframe tbody tr th {\n",
       "        vertical-align: top;\n",
       "    }\n",
       "\n",
       "    .dataframe thead th {\n",
       "        text-align: right;\n",
       "    }\n",
       "</style>\n",
       "<table border=\"1\" class=\"dataframe\">\n",
       "  <thead>\n",
       "    <tr style=\"text-align: right;\">\n",
       "      <th></th>\n",
       "      <th>seqname</th>\n",
       "      <th>source</th>\n",
       "      <th>feature</th>\n",
       "      <th>start</th>\n",
       "      <th>end</th>\n",
       "      <th>score</th>\n",
       "      <th>strand</th>\n",
       "      <th>frame</th>\n",
       "      <th>attribute</th>\n",
       "    </tr>\n",
       "  </thead>\n",
       "  <tbody>\n",
       "    <tr>\n",
       "      <th>0</th>\n",
       "      <td>NZ_GG770409.1</td>\n",
       "      <td>RefSeq</td>\n",
       "      <td>region</td>\n",
       "      <td>1</td>\n",
       "      <td>6115515</td>\n",
       "      <td>.</td>\n",
       "      <td>+</td>\n",
       "      <td>.</td>\n",
       "      <td>ID=id0;Dbxref=Greengenes:253191,HMP:0004,taxon...</td>\n",
       "    </tr>\n",
       "    <tr>\n",
       "      <th>1</th>\n",
       "      <td>NZ_GG770409.1</td>\n",
       "      <td>RefSeq</td>\n",
       "      <td>gene</td>\n",
       "      <td>1</td>\n",
       "      <td>288</td>\n",
       "      <td>.</td>\n",
       "      <td>-</td>\n",
       "      <td>.</td>\n",
       "      <td>ID=gene0;Name=HMPREF0004_0003;gbkey=Gene;locus...</td>\n",
       "    </tr>\n",
       "    <tr>\n",
       "      <th>2</th>\n",
       "      <td>NZ_GG770409.1</td>\n",
       "      <td>RefSeq</td>\n",
       "      <td>CDS</td>\n",
       "      <td>1</td>\n",
       "      <td>288</td>\n",
       "      <td>.</td>\n",
       "      <td>-</td>\n",
       "      <td>0</td>\n",
       "      <td>ID=cds0;Name=ZP_06684427.1;Parent=gene0;Dbxref...</td>\n",
       "    </tr>\n",
       "    <tr>\n",
       "      <th>3</th>\n",
       "      <td>NZ_GG770409.1</td>\n",
       "      <td>RefSeq</td>\n",
       "      <td>gene</td>\n",
       "      <td>316</td>\n",
       "      <td>1767</td>\n",
       "      <td>.</td>\n",
       "      <td>-</td>\n",
       "      <td>.</td>\n",
       "      <td>ID=gene1;Name=HMPREF0004_0004;gbkey=Gene;locus...</td>\n",
       "    </tr>\n",
       "    <tr>\n",
       "      <th>4</th>\n",
       "      <td>NZ_GG770409.1</td>\n",
       "      <td>RefSeq</td>\n",
       "      <td>CDS</td>\n",
       "      <td>316</td>\n",
       "      <td>1767</td>\n",
       "      <td>.</td>\n",
       "      <td>-</td>\n",
       "      <td>0</td>\n",
       "      <td>ID=cds1;Name=ZP_06684428.1;Parent=gene1;Note=C...</td>\n",
       "    </tr>\n",
       "    <tr>\n",
       "      <th>5</th>\n",
       "      <td>NZ_GG770409.1</td>\n",
       "      <td>RefSeq</td>\n",
       "      <td>gene</td>\n",
       "      <td>1885</td>\n",
       "      <td>4315</td>\n",
       "      <td>.</td>\n",
       "      <td>-</td>\n",
       "      <td>.</td>\n",
       "      <td>ID=gene2;Name=HMPREF0004_0005;gbkey=Gene;locus...</td>\n",
       "    </tr>\n",
       "    <tr>\n",
       "      <th>6</th>\n",
       "      <td>NZ_GG770409.1</td>\n",
       "      <td>RefSeq</td>\n",
       "      <td>CDS</td>\n",
       "      <td>1885</td>\n",
       "      <td>4315</td>\n",
       "      <td>.</td>\n",
       "      <td>-</td>\n",
       "      <td>0</td>\n",
       "      <td>ID=cds2;Name=ZP_06684429.1;Parent=gene2;Note=C...</td>\n",
       "    </tr>\n",
       "    <tr>\n",
       "      <th>7</th>\n",
       "      <td>NZ_GG770409.1</td>\n",
       "      <td>RefSeq</td>\n",
       "      <td>gene</td>\n",
       "      <td>4408</td>\n",
       "      <td>5016</td>\n",
       "      <td>.</td>\n",
       "      <td>-</td>\n",
       "      <td>.</td>\n",
       "      <td>ID=gene3;Name=HMPREF0004_0006;gbkey=Gene;locus...</td>\n",
       "    </tr>\n",
       "  </tbody>\n",
       "</table>\n",
       "</div>"
      ],
      "text/plain": [
       "         seqname  source feature  start      end score strand frame  \\\n",
       "0  NZ_GG770409.1  RefSeq  region      1  6115515     .      +     .   \n",
       "1  NZ_GG770409.1  RefSeq    gene      1      288     .      -     .   \n",
       "2  NZ_GG770409.1  RefSeq     CDS      1      288     .      -     0   \n",
       "3  NZ_GG770409.1  RefSeq    gene    316     1767     .      -     .   \n",
       "4  NZ_GG770409.1  RefSeq     CDS    316     1767     .      -     0   \n",
       "5  NZ_GG770409.1  RefSeq    gene   1885     4315     .      -     .   \n",
       "6  NZ_GG770409.1  RefSeq     CDS   1885     4315     .      -     0   \n",
       "7  NZ_GG770409.1  RefSeq    gene   4408     5016     .      -     .   \n",
       "\n",
       "                                           attribute  \n",
       "0  ID=id0;Dbxref=Greengenes:253191,HMP:0004,taxon...  \n",
       "1  ID=gene0;Name=HMPREF0004_0003;gbkey=Gene;locus...  \n",
       "2  ID=cds0;Name=ZP_06684427.1;Parent=gene0;Dbxref...  \n",
       "3  ID=gene1;Name=HMPREF0004_0004;gbkey=Gene;locus...  \n",
       "4  ID=cds1;Name=ZP_06684428.1;Parent=gene1;Note=C...  \n",
       "5  ID=gene2;Name=HMPREF0004_0005;gbkey=Gene;locus...  \n",
       "6  ID=cds2;Name=ZP_06684429.1;Parent=gene2;Note=C...  \n",
       "7  ID=gene3;Name=HMPREF0004_0006;gbkey=Gene;locus...  "
      ]
     },
     "execution_count": 5,
     "metadata": {},
     "output_type": "execute_result"
    }
   ],
   "source": [
    "gff.head(8)"
   ]
  },
  {
   "cell_type": "markdown",
   "metadata": {},
   "source": [
    "### Use the head() method with the required number of rows (in this case 8) as an argument to see the first N rows of a DataFrame (the default is 5). If you want to see the last N rows, use the tail() method.\n",
    "### To see the last two rows, what should we type in the next cell?"
   ]
  },
  {
   "cell_type": "code",
   "execution_count": null,
   "metadata": {},
   "outputs": [],
   "source": []
  },
  {
   "cell_type": "markdown",
   "metadata": {},
   "source": [
    "### You can check how pandas interpreted each of the column data types  by dtypes attribute."
   ]
  },
  {
   "cell_type": "code",
   "execution_count": 6,
   "metadata": {},
   "outputs": [
    {
     "data": {
      "text/plain": [
       "seqname      object\n",
       "source       object\n",
       "feature      object\n",
       "start         int64\n",
       "end           int64\n",
       "score        object\n",
       "strand       object\n",
       "frame        object\n",
       "attribute    object\n",
       "dtype: object"
      ]
     },
     "execution_count": 6,
     "metadata": {},
     "output_type": "execute_result"
    }
   ],
   "source": [
    "gff.dtypes"
   ]
  },
  {
   "cell_type": "markdown",
   "metadata": {},
   "source": [
    "### If you are Interested in a technical summary of the DataFrame, use info()."
   ]
  },
  {
   "cell_type": "code",
   "execution_count": 7,
   "metadata": {},
   "outputs": [
    {
     "name": "stdout",
     "output_type": "stream",
     "text": [
      "<class 'pandas.core.frame.DataFrame'>\n",
      "RangeIndex: 11591 entries, 0 to 11590\n",
      "Data columns (total 9 columns):\n",
      " #   Column     Non-Null Count  Dtype \n",
      "---  ------     --------------  ----- \n",
      " 0   seqname    11591 non-null  object\n",
      " 1   source     11591 non-null  object\n",
      " 2   feature    11591 non-null  object\n",
      " 3   start      11591 non-null  int64 \n",
      " 4   end        11591 non-null  int64 \n",
      " 5   score      11591 non-null  object\n",
      " 6   strand     11591 non-null  object\n",
      " 7   frame      11591 non-null  object\n",
      " 8   attribute  11591 non-null  object\n",
      "dtypes: int64(2), object(7)\n",
      "memory usage: 815.1+ KB\n"
     ]
    }
   ],
   "source": [
    "gff.info()"
   ]
  },
  {
   "cell_type": "markdown",
   "metadata": {},
   "source": [
    "### Some of the columns may pique your interest at times. You can select a (some) specific column (s); for example, if you want to see the 'feature' column, you can do so as follows:"
   ]
  },
  {
   "cell_type": "code",
   "execution_count": 8,
   "metadata": {},
   "outputs": [
    {
     "data": {
      "text/plain": [
       "0    region\n",
       "1      gene\n",
       "2       CDS\n",
       "3      gene\n",
       "4       CDS\n",
       "Name: feature, dtype: object"
      ]
     },
     "execution_count": 8,
     "metadata": {},
     "output_type": "execute_result"
    }
   ],
   "source": [
    "features = gff['feature']\n",
    "features.head()"
   ]
  },
  {
   "cell_type": "markdown",
   "metadata": {},
   "source": [
    "###  A convenient way to filter or subselect part of a data set is to use a mask. You can create a boolean array to act as a mask for an entire column or row by asking a question with a True or False answer and broadcasting it across the row or column. For example, below we ask whether the feature is a CDS, which returns a True or False for every element in the 'feature' column."
   ]
  },
  {
   "cell_type": "code",
   "execution_count": 9,
   "metadata": {},
   "outputs": [
    {
     "data": {
      "text/plain": [
       "0    False\n",
       "1    False\n",
       "2     True\n",
       "3    False\n",
       "4     True\n",
       "5    False\n",
       "6     True\n",
       "7    False\n",
       "8     True\n",
       "9    False\n",
       "Name: feature, dtype: bool"
      ]
     },
     "execution_count": 9,
     "metadata": {},
     "output_type": "execute_result"
    }
   ],
   "source": [
    "# create a boolean mask of the feature column asking 'is it a CDS?'\n",
    "mask = gff.feature == \"CDS\"\n",
    "\n",
    "# show the first 10 values\n",
    "mask.head(10)"
   ]
  },
  {
   "cell_type": "markdown",
   "metadata": {},
   "source": [
    "### We can now apply the mask to the DataFrame as an index, or with.loc or.iloc, and it will select all rows with True, but not those with False. The index (row name) on the right is kept across the entire dataframe, so if you select only CDS, you'll get element 2, 4, 6, 8, and so on."
   ]
  },
  {
   "cell_type": "code",
   "execution_count": 10,
   "metadata": {},
   "outputs": [
    {
     "data": {
      "text/html": [
       "<div>\n",
       "<style scoped>\n",
       "    .dataframe tbody tr th:only-of-type {\n",
       "        vertical-align: middle;\n",
       "    }\n",
       "\n",
       "    .dataframe tbody tr th {\n",
       "        vertical-align: top;\n",
       "    }\n",
       "\n",
       "    .dataframe thead th {\n",
       "        text-align: right;\n",
       "    }\n",
       "</style>\n",
       "<table border=\"1\" class=\"dataframe\">\n",
       "  <thead>\n",
       "    <tr style=\"text-align: right;\">\n",
       "      <th></th>\n",
       "      <th>seqname</th>\n",
       "      <th>source</th>\n",
       "      <th>feature</th>\n",
       "      <th>start</th>\n",
       "      <th>end</th>\n",
       "      <th>score</th>\n",
       "      <th>strand</th>\n",
       "      <th>frame</th>\n",
       "      <th>attribute</th>\n",
       "    </tr>\n",
       "  </thead>\n",
       "  <tbody>\n",
       "    <tr>\n",
       "      <th>2</th>\n",
       "      <td>NZ_GG770409.1</td>\n",
       "      <td>RefSeq</td>\n",
       "      <td>CDS</td>\n",
       "      <td>1</td>\n",
       "      <td>288</td>\n",
       "      <td>.</td>\n",
       "      <td>-</td>\n",
       "      <td>0</td>\n",
       "      <td>ID=cds0;Name=ZP_06684427.1;Parent=gene0;Dbxref...</td>\n",
       "    </tr>\n",
       "    <tr>\n",
       "      <th>4</th>\n",
       "      <td>NZ_GG770409.1</td>\n",
       "      <td>RefSeq</td>\n",
       "      <td>CDS</td>\n",
       "      <td>316</td>\n",
       "      <td>1767</td>\n",
       "      <td>.</td>\n",
       "      <td>-</td>\n",
       "      <td>0</td>\n",
       "      <td>ID=cds1;Name=ZP_06684428.1;Parent=gene1;Note=C...</td>\n",
       "    </tr>\n",
       "    <tr>\n",
       "      <th>6</th>\n",
       "      <td>NZ_GG770409.1</td>\n",
       "      <td>RefSeq</td>\n",
       "      <td>CDS</td>\n",
       "      <td>1885</td>\n",
       "      <td>4315</td>\n",
       "      <td>.</td>\n",
       "      <td>-</td>\n",
       "      <td>0</td>\n",
       "      <td>ID=cds2;Name=ZP_06684429.1;Parent=gene2;Note=C...</td>\n",
       "    </tr>\n",
       "    <tr>\n",
       "      <th>8</th>\n",
       "      <td>NZ_GG770409.1</td>\n",
       "      <td>RefSeq</td>\n",
       "      <td>CDS</td>\n",
       "      <td>4408</td>\n",
       "      <td>5016</td>\n",
       "      <td>.</td>\n",
       "      <td>-</td>\n",
       "      <td>0</td>\n",
       "      <td>ID=cds3;Name=ZP_06684430.1;Parent=gene3;Note=C...</td>\n",
       "    </tr>\n",
       "    <tr>\n",
       "      <th>10</th>\n",
       "      <td>NZ_GG770409.1</td>\n",
       "      <td>RefSeq</td>\n",
       "      <td>CDS</td>\n",
       "      <td>5013</td>\n",
       "      <td>5294</td>\n",
       "      <td>.</td>\n",
       "      <td>-</td>\n",
       "      <td>0</td>\n",
       "      <td>ID=cds4;Name=ZP_06684431.1;Parent=gene4;Note=I...</td>\n",
       "    </tr>\n",
       "  </tbody>\n",
       "</table>\n",
       "</div>"
      ],
      "text/plain": [
       "          seqname  source feature  start   end score strand frame  \\\n",
       "2   NZ_GG770409.1  RefSeq     CDS      1   288     .      -     0   \n",
       "4   NZ_GG770409.1  RefSeq     CDS    316  1767     .      -     0   \n",
       "6   NZ_GG770409.1  RefSeq     CDS   1885  4315     .      -     0   \n",
       "8   NZ_GG770409.1  RefSeq     CDS   4408  5016     .      -     0   \n",
       "10  NZ_GG770409.1  RefSeq     CDS   5013  5294     .      -     0   \n",
       "\n",
       "                                            attribute  \n",
       "2   ID=cds0;Name=ZP_06684427.1;Parent=gene0;Dbxref...  \n",
       "4   ID=cds1;Name=ZP_06684428.1;Parent=gene1;Note=C...  \n",
       "6   ID=cds2;Name=ZP_06684429.1;Parent=gene2;Note=C...  \n",
       "8   ID=cds3;Name=ZP_06684430.1;Parent=gene3;Note=C...  \n",
       "10  ID=cds4;Name=ZP_06684431.1;Parent=gene4;Note=I...  "
      ]
     },
     "execution_count": 10,
     "metadata": {},
     "output_type": "execute_result"
    }
   ],
   "source": [
    "# use this mask to select only rows that are CDS\n",
    "CDSs = gff[mask]\n",
    "\n",
    "# return the first 10 value\n",
    "CDSs.head()"
   ]
  },
  {
   "cell_type": "code",
   "execution_count": 11,
   "metadata": {},
   "outputs": [
    {
     "data": {
      "text/html": [
       "<div>\n",
       "<style scoped>\n",
       "    .dataframe tbody tr th:only-of-type {\n",
       "        vertical-align: middle;\n",
       "    }\n",
       "\n",
       "    .dataframe tbody tr th {\n",
       "        vertical-align: top;\n",
       "    }\n",
       "\n",
       "    .dataframe thead th {\n",
       "        text-align: right;\n",
       "    }\n",
       "</style>\n",
       "<table border=\"1\" class=\"dataframe\">\n",
       "  <thead>\n",
       "    <tr style=\"text-align: right;\">\n",
       "      <th></th>\n",
       "      <th>seqname</th>\n",
       "      <th>source</th>\n",
       "      <th>feature</th>\n",
       "      <th>start</th>\n",
       "      <th>end</th>\n",
       "      <th>score</th>\n",
       "      <th>strand</th>\n",
       "      <th>frame</th>\n",
       "      <th>attribute</th>\n",
       "    </tr>\n",
       "  </thead>\n",
       "  <tbody>\n",
       "    <tr>\n",
       "      <th>2</th>\n",
       "      <td>NZ_GG770409.1</td>\n",
       "      <td>RefSeq</td>\n",
       "      <td>CDS</td>\n",
       "      <td>1</td>\n",
       "      <td>288</td>\n",
       "      <td>.</td>\n",
       "      <td>-</td>\n",
       "      <td>0</td>\n",
       "      <td>ID=cds0;Name=ZP_06684427.1;Parent=gene0;Dbxref...</td>\n",
       "    </tr>\n",
       "    <tr>\n",
       "      <th>4</th>\n",
       "      <td>NZ_GG770409.1</td>\n",
       "      <td>RefSeq</td>\n",
       "      <td>CDS</td>\n",
       "      <td>316</td>\n",
       "      <td>1767</td>\n",
       "      <td>.</td>\n",
       "      <td>-</td>\n",
       "      <td>0</td>\n",
       "      <td>ID=cds1;Name=ZP_06684428.1;Parent=gene1;Note=C...</td>\n",
       "    </tr>\n",
       "    <tr>\n",
       "      <th>6</th>\n",
       "      <td>NZ_GG770409.1</td>\n",
       "      <td>RefSeq</td>\n",
       "      <td>CDS</td>\n",
       "      <td>1885</td>\n",
       "      <td>4315</td>\n",
       "      <td>.</td>\n",
       "      <td>-</td>\n",
       "      <td>0</td>\n",
       "      <td>ID=cds2;Name=ZP_06684429.1;Parent=gene2;Note=C...</td>\n",
       "    </tr>\n",
       "    <tr>\n",
       "      <th>8</th>\n",
       "      <td>NZ_GG770409.1</td>\n",
       "      <td>RefSeq</td>\n",
       "      <td>CDS</td>\n",
       "      <td>4408</td>\n",
       "      <td>5016</td>\n",
       "      <td>.</td>\n",
       "      <td>-</td>\n",
       "      <td>0</td>\n",
       "      <td>ID=cds3;Name=ZP_06684430.1;Parent=gene3;Note=C...</td>\n",
       "    </tr>\n",
       "    <tr>\n",
       "      <th>10</th>\n",
       "      <td>NZ_GG770409.1</td>\n",
       "      <td>RefSeq</td>\n",
       "      <td>CDS</td>\n",
       "      <td>5013</td>\n",
       "      <td>5294</td>\n",
       "      <td>.</td>\n",
       "      <td>-</td>\n",
       "      <td>0</td>\n",
       "      <td>ID=cds4;Name=ZP_06684431.1;Parent=gene4;Note=I...</td>\n",
       "    </tr>\n",
       "  </tbody>\n",
       "</table>\n",
       "</div>"
      ],
      "text/plain": [
       "          seqname  source feature  start   end score strand frame  \\\n",
       "2   NZ_GG770409.1  RefSeq     CDS      1   288     .      -     0   \n",
       "4   NZ_GG770409.1  RefSeq     CDS    316  1767     .      -     0   \n",
       "6   NZ_GG770409.1  RefSeq     CDS   1885  4315     .      -     0   \n",
       "8   NZ_GG770409.1  RefSeq     CDS   4408  5016     .      -     0   \n",
       "10  NZ_GG770409.1  RefSeq     CDS   5013  5294     .      -     0   \n",
       "\n",
       "                                            attribute  \n",
       "2   ID=cds0;Name=ZP_06684427.1;Parent=gene0;Dbxref...  \n",
       "4   ID=cds1;Name=ZP_06684428.1;Parent=gene1;Note=C...  \n",
       "6   ID=cds2;Name=ZP_06684429.1;Parent=gene2;Note=C...  \n",
       "8   ID=cds3;Name=ZP_06684430.1;Parent=gene3;Note=C...  \n",
       "10  ID=cds4;Name=ZP_06684431.1;Parent=gene4;Note=I...  "
      ]
     },
     "execution_count": 11,
     "metadata": {},
     "output_type": "execute_result"
    }
   ],
   "source": [
    " # or, we could have written the above code more concisely as a single line:\n",
    "gff.loc[gff.feature == \"CDS\"].head()"
   ]
  },
  {
   "cell_type": "markdown",
   "metadata": {},
   "source": [
    "### In the code cells below we are just returning the filtered DataDrame rather than saving it to a variable so you can easily see the result of the operation. As you can see it is easy to explore the effect of our operations by filtering in various ways and calling the .head() function to show a small part of the result."
   ]
  },
  {
   "cell_type": "code",
   "execution_count": 12,
   "metadata": {},
   "outputs": [
    {
     "data": {
      "text/html": [
       "<div>\n",
       "<style scoped>\n",
       "    .dataframe tbody tr th:only-of-type {\n",
       "        vertical-align: middle;\n",
       "    }\n",
       "\n",
       "    .dataframe tbody tr th {\n",
       "        vertical-align: top;\n",
       "    }\n",
       "\n",
       "    .dataframe thead th {\n",
       "        text-align: right;\n",
       "    }\n",
       "</style>\n",
       "<table border=\"1\" class=\"dataframe\">\n",
       "  <thead>\n",
       "    <tr style=\"text-align: right;\">\n",
       "      <th></th>\n",
       "      <th>seqname</th>\n",
       "      <th>source</th>\n",
       "      <th>feature</th>\n",
       "      <th>start</th>\n",
       "      <th>end</th>\n",
       "      <th>score</th>\n",
       "      <th>strand</th>\n",
       "      <th>frame</th>\n",
       "      <th>attribute</th>\n",
       "    </tr>\n",
       "  </thead>\n",
       "  <tbody>\n",
       "    <tr>\n",
       "      <th>2</th>\n",
       "      <td>NZ_GG770409.1</td>\n",
       "      <td>RefSeq</td>\n",
       "      <td>CDS</td>\n",
       "      <td>1</td>\n",
       "      <td>288</td>\n",
       "      <td>.</td>\n",
       "      <td>-</td>\n",
       "      <td>0</td>\n",
       "      <td>ID=cds0;Name=ZP_06684427.1;Parent=gene0;Dbxref...</td>\n",
       "    </tr>\n",
       "    <tr>\n",
       "      <th>4</th>\n",
       "      <td>NZ_GG770409.1</td>\n",
       "      <td>RefSeq</td>\n",
       "      <td>CDS</td>\n",
       "      <td>316</td>\n",
       "      <td>1767</td>\n",
       "      <td>.</td>\n",
       "      <td>-</td>\n",
       "      <td>0</td>\n",
       "      <td>ID=cds1;Name=ZP_06684428.1;Parent=gene1;Note=C...</td>\n",
       "    </tr>\n",
       "    <tr>\n",
       "      <th>6</th>\n",
       "      <td>NZ_GG770409.1</td>\n",
       "      <td>RefSeq</td>\n",
       "      <td>CDS</td>\n",
       "      <td>1885</td>\n",
       "      <td>4315</td>\n",
       "      <td>.</td>\n",
       "      <td>-</td>\n",
       "      <td>0</td>\n",
       "      <td>ID=cds2;Name=ZP_06684429.1;Parent=gene2;Note=C...</td>\n",
       "    </tr>\n",
       "    <tr>\n",
       "      <th>8</th>\n",
       "      <td>NZ_GG770409.1</td>\n",
       "      <td>RefSeq</td>\n",
       "      <td>CDS</td>\n",
       "      <td>4408</td>\n",
       "      <td>5016</td>\n",
       "      <td>.</td>\n",
       "      <td>-</td>\n",
       "      <td>0</td>\n",
       "      <td>ID=cds3;Name=ZP_06684430.1;Parent=gene3;Note=C...</td>\n",
       "    </tr>\n",
       "    <tr>\n",
       "      <th>10</th>\n",
       "      <td>NZ_GG770409.1</td>\n",
       "      <td>RefSeq</td>\n",
       "      <td>CDS</td>\n",
       "      <td>5013</td>\n",
       "      <td>5294</td>\n",
       "      <td>.</td>\n",
       "      <td>-</td>\n",
       "      <td>0</td>\n",
       "      <td>ID=cds4;Name=ZP_06684431.1;Parent=gene4;Note=I...</td>\n",
       "    </tr>\n",
       "  </tbody>\n",
       "</table>\n",
       "</div>"
      ],
      "text/plain": [
       "          seqname  source feature  start   end score strand frame  \\\n",
       "2   NZ_GG770409.1  RefSeq     CDS      1   288     .      -     0   \n",
       "4   NZ_GG770409.1  RefSeq     CDS    316  1767     .      -     0   \n",
       "6   NZ_GG770409.1  RefSeq     CDS   1885  4315     .      -     0   \n",
       "8   NZ_GG770409.1  RefSeq     CDS   4408  5016     .      -     0   \n",
       "10  NZ_GG770409.1  RefSeq     CDS   5013  5294     .      -     0   \n",
       "\n",
       "                                            attribute  \n",
       "2   ID=cds0;Name=ZP_06684427.1;Parent=gene0;Dbxref...  \n",
       "4   ID=cds1;Name=ZP_06684428.1;Parent=gene1;Note=C...  \n",
       "6   ID=cds2;Name=ZP_06684429.1;Parent=gene2;Note=C...  \n",
       "8   ID=cds3;Name=ZP_06684430.1;Parent=gene3;Note=C...  \n",
       "10  ID=cds4;Name=ZP_06684431.1;Parent=gene4;Note=I...  "
      ]
     },
     "execution_count": 12,
     "metadata": {},
     "output_type": "execute_result"
    }
   ],
   "source": [
    "gff[gff.feature == \"CDS\"].head()"
   ]
  },
  {
   "cell_type": "code",
   "execution_count": 13,
   "metadata": {},
   "outputs": [
    {
     "data": {
      "text/plain": [
       "2     ID=cds0;Name=ZP_06684427.1;Parent=gene0;Dbxref...\n",
       "4     ID=cds1;Name=ZP_06684428.1;Parent=gene1;Note=C...\n",
       "6     ID=cds2;Name=ZP_06684429.1;Parent=gene2;Note=C...\n",
       "8     ID=cds3;Name=ZP_06684430.1;Parent=gene3;Note=C...\n",
       "10    ID=cds4;Name=ZP_06684431.1;Parent=gene4;Note=I...\n",
       "Name: attribute, dtype: object"
      ]
     },
     "execution_count": 13,
     "metadata": {},
     "output_type": "execute_result"
    }
   ],
   "source": [
    "# select attributes of those rows\n",
    "gff[gff.feature == \"CDS\"][\"attribute\"].head(5)"
   ]
  },
  {
   "cell_type": "markdown",
   "metadata": {},
   "source": [
    "###  you can count the number of genes in the DataFrame in the code cell below."
   ]
  },
  {
   "cell_type": "code",
   "execution_count": 14,
   "metadata": {},
   "outputs": [
    {
     "data": {
      "text/plain": [
       "5761"
      ]
     },
     "execution_count": 14,
     "metadata": {},
     "output_type": "execute_result"
    }
   ],
   "source": [
    "gff.loc[gff.feature == \"gene\"].shape[0]"
   ]
  },
  {
   "cell_type": "markdown",
   "metadata": {},
   "source": [
    "### We can also use the iloc[] attribute to specify the position of the passed integers. Because iloc is integer position-based, you must specify rows and columns by their integer position values (0-based integer position).\n",
    "### loc is label-based, which means that you have to specify rows and columns based on their row and column labels."
   ]
  },
  {
   "cell_type": "code",
   "execution_count": 15,
   "metadata": {},
   "outputs": [
    {
     "data": {
      "text/html": [
       "<div>\n",
       "<style scoped>\n",
       "    .dataframe tbody tr th:only-of-type {\n",
       "        vertical-align: middle;\n",
       "    }\n",
       "\n",
       "    .dataframe tbody tr th {\n",
       "        vertical-align: top;\n",
       "    }\n",
       "\n",
       "    .dataframe thead th {\n",
       "        text-align: right;\n",
       "    }\n",
       "</style>\n",
       "<table border=\"1\" class=\"dataframe\">\n",
       "  <thead>\n",
       "    <tr style=\"text-align: right;\">\n",
       "      <th></th>\n",
       "      <th>start</th>\n",
       "      <th>end</th>\n",
       "      <th>score</th>\n",
       "      <th>strand</th>\n",
       "    </tr>\n",
       "  </thead>\n",
       "  <tbody>\n",
       "    <tr>\n",
       "      <th>2</th>\n",
       "      <td>1</td>\n",
       "      <td>288</td>\n",
       "      <td>.</td>\n",
       "      <td>-</td>\n",
       "    </tr>\n",
       "    <tr>\n",
       "      <th>3</th>\n",
       "      <td>316</td>\n",
       "      <td>1767</td>\n",
       "      <td>.</td>\n",
       "      <td>-</td>\n",
       "    </tr>\n",
       "    <tr>\n",
       "      <th>4</th>\n",
       "      <td>316</td>\n",
       "      <td>1767</td>\n",
       "      <td>.</td>\n",
       "      <td>-</td>\n",
       "    </tr>\n",
       "  </tbody>\n",
       "</table>\n",
       "</div>"
      ],
      "text/plain": [
       "   start   end score strand\n",
       "2      1   288     .      -\n",
       "3    316  1767     .      -\n",
       "4    316  1767     .      -"
      ]
     },
     "execution_count": 15,
     "metadata": {},
     "output_type": "execute_result"
    }
   ],
   "source": [
    "#gff.iloc[rowindex, column index]\n",
    "gff.iloc[2:5, 3:7]"
   ]
  },
  {
   "cell_type": "markdown",
   "metadata": {},
   "source": [
    "### What should I write if I want rows 2 to 6 and all the columns?"
   ]
  },
  {
   "cell_type": "code",
   "execution_count": null,
   "metadata": {},
   "outputs": [],
   "source": []
  },
  {
   "cell_type": "code",
   "execution_count": 16,
   "metadata": {},
   "outputs": [
    {
     "data": {
      "text/plain": [
       "seqname                                          NZ_GG770409.1\n",
       "source                                                  RefSeq\n",
       "feature                                                   gene\n",
       "start                                                      316\n",
       "end                                                       1767\n",
       "score                                                        .\n",
       "strand                                                       -\n",
       "frame                                                        .\n",
       "attribute    ID=gene1;Name=HMPREF0004_0004;gbkey=Gene;locus...\n",
       "Name: 3, dtype: object"
      ]
     },
     "execution_count": 16,
     "metadata": {},
     "output_type": "execute_result"
    }
   ],
   "source": [
    "# 3 is the label of row 4\n",
    "gff.loc[3]"
   ]
  },
  {
   "cell_type": "markdown",
   "metadata": {},
   "source": [
    "### A DataFrame can be filtered to show only specific rows. For example, if you're looking for samples with a starting position greater than 4408:\n"
   ]
  },
  {
   "cell_type": "code",
   "execution_count": 17,
   "metadata": {},
   "outputs": [
    {
     "data": {
      "text/html": [
       "<div>\n",
       "<style scoped>\n",
       "    .dataframe tbody tr th:only-of-type {\n",
       "        vertical-align: middle;\n",
       "    }\n",
       "\n",
       "    .dataframe tbody tr th {\n",
       "        vertical-align: top;\n",
       "    }\n",
       "\n",
       "    .dataframe thead th {\n",
       "        text-align: right;\n",
       "    }\n",
       "</style>\n",
       "<table border=\"1\" class=\"dataframe\">\n",
       "  <thead>\n",
       "    <tr style=\"text-align: right;\">\n",
       "      <th></th>\n",
       "      <th>seqname</th>\n",
       "      <th>source</th>\n",
       "      <th>feature</th>\n",
       "      <th>start</th>\n",
       "      <th>end</th>\n",
       "      <th>score</th>\n",
       "      <th>strand</th>\n",
       "      <th>frame</th>\n",
       "      <th>attribute</th>\n",
       "    </tr>\n",
       "  </thead>\n",
       "  <tbody>\n",
       "    <tr>\n",
       "      <th>9</th>\n",
       "      <td>NZ_GG770409.1</td>\n",
       "      <td>RefSeq</td>\n",
       "      <td>gene</td>\n",
       "      <td>5013</td>\n",
       "      <td>5294</td>\n",
       "      <td>.</td>\n",
       "      <td>-</td>\n",
       "      <td>.</td>\n",
       "      <td>ID=gene4;Name=HMPREF0004_0007;gbkey=Gene;locus...</td>\n",
       "    </tr>\n",
       "    <tr>\n",
       "      <th>10</th>\n",
       "      <td>NZ_GG770409.1</td>\n",
       "      <td>RefSeq</td>\n",
       "      <td>CDS</td>\n",
       "      <td>5013</td>\n",
       "      <td>5294</td>\n",
       "      <td>.</td>\n",
       "      <td>-</td>\n",
       "      <td>0</td>\n",
       "      <td>ID=cds4;Name=ZP_06684431.1;Parent=gene4;Note=I...</td>\n",
       "    </tr>\n",
       "    <tr>\n",
       "      <th>11</th>\n",
       "      <td>NZ_GG770409.1</td>\n",
       "      <td>RefSeq</td>\n",
       "      <td>gene</td>\n",
       "      <td>5569</td>\n",
       "      <td>5838</td>\n",
       "      <td>.</td>\n",
       "      <td>+</td>\n",
       "      <td>.</td>\n",
       "      <td>ID=gene5;Name=coxA;gbkey=Gene;gene=coxA;locus_...</td>\n",
       "    </tr>\n",
       "  </tbody>\n",
       "</table>\n",
       "</div>"
      ],
      "text/plain": [
       "          seqname  source feature  start   end score strand frame  \\\n",
       "9   NZ_GG770409.1  RefSeq    gene   5013  5294     .      -     .   \n",
       "10  NZ_GG770409.1  RefSeq     CDS   5013  5294     .      -     0   \n",
       "11  NZ_GG770409.1  RefSeq    gene   5569  5838     .      +     .   \n",
       "\n",
       "                                            attribute  \n",
       "9   ID=gene4;Name=HMPREF0004_0007;gbkey=Gene;locus...  \n",
       "10  ID=cds4;Name=ZP_06684431.1;Parent=gene4;Note=I...  \n",
       "11  ID=gene5;Name=coxA;gbkey=Gene;gene=coxA;locus_...  "
      ]
     },
     "execution_count": 17,
     "metadata": {},
     "output_type": "execute_result"
    }
   ],
   "source": [
    "above_4408 = gff[gff['start']> 4408]\n",
    "above_4408.head(3)"
   ]
  },
  {
   "cell_type": "markdown",
   "metadata": {},
   "source": [
    "### Pandas plots your data using Matplotlib's power. You can select the appropriate plot type (scatter, bar, boxplot, etc.) based on your data.\n",
    "### I've brought two different plot types, but there are many more. If you want to see them, go to this [website](https://pandas.pydata.org/pandas-docs/stable/user_guide/visualization.html)"
   ]
  },
  {
   "cell_type": "code",
   "execution_count": 18,
   "metadata": {},
   "outputs": [
    {
     "data": {
      "text/plain": [
       "<AxesSubplot:ylabel='Frequency'>"
      ]
     },
     "execution_count": 18,
     "metadata": {},
     "output_type": "execute_result"
    },
    {
     "data": {
      "image/png": "[encoded data removed]",
      "text/plain": [
       "<Figure size 432x288 with 1 Axes>"
      ]
     },
     "metadata": {
      "needs_background": "light"
     },
     "output_type": "display_data"
    }
   ],
   "source": [
    "gff['start'].plot(kind='hist', bins = 50, color=\"b\")"
   ]
  },
  {
   "cell_type": "markdown",
   "metadata": {},
   "source": [
    "## Box Plot"
   ]
  },
  {
   "cell_type": "markdown",
   "metadata": {},
   "source": [
    "![Box Plot](pics\\boxplot.png)"
   ]
  },
  {
   "cell_type": "code",
   "execution_count": 19,
   "metadata": {},
   "outputs": [
    {
     "data": {
      "text/plain": [
       "<AxesSubplot:>"
      ]
     },
     "execution_count": 19,
     "metadata": {},
     "output_type": "execute_result"
    },
    {
     "data": {
      "image/png": "[encoded data removed]",
      "text/plain": [
       "<Figure size 432x288 with 1 Axes>"
      ]
     },
     "metadata": {
      "needs_background": "light"
     },
     "output_type": "display_data"
    }
   ],
   "source": [
    "gff['start'].plot.box()"
   ]
  },
  {
   "cell_type": "markdown",
   "metadata": {},
   "source": [
    "###  You can use Pandas library to generate basic statistical insights from data. For example, you can compute mean, standard deviation, correlation, minimum and maximum values, and so on.\n",
    "### Here, the mean of the starting positions is computed."
   ]
  },
  {
   "cell_type": "code",
   "execution_count": 20,
   "metadata": {},
   "outputs": [
    {
     "data": {
      "text/plain": [
       "3023697.813734794"
      ]
     },
     "execution_count": 20,
     "metadata": {},
     "output_type": "execute_result"
    }
   ],
   "source": [
    "gff['start'].mean()"
   ]
  },
  {
   "cell_type": "markdown",
   "metadata": {},
   "source": [
    "### Find maximum and minimum of starting positions"
   ]
  },
  {
   "cell_type": "code",
   "execution_count": null,
   "metadata": {},
   "outputs": [],
   "source": []
  },
  {
   "cell_type": "code",
   "execution_count": null,
   "metadata": {},
   "outputs": [],
   "source": []
  },
  {
   "cell_type": "markdown",
   "metadata": {},
   "source": [
    "### What is the median of the starting and ending positions?"
   ]
  },
  {
   "cell_type": "code",
   "execution_count": 21,
   "metadata": {},
   "outputs": [
    {
     "data": {
      "text/plain": [
       "start    2989232.0\n",
       "end      2991801.0\n",
       "dtype: float64"
      ]
     },
     "execution_count": 21,
     "metadata": {},
     "output_type": "execute_result"
    }
   ],
   "source": [
    "gff[['start','end']].median()"
   ]
  },
  {
   "cell_type": "markdown",
   "metadata": {},
   "source": [
    "### Some basic statistics are shown here. "
   ]
  },
  {
   "cell_type": "code",
   "execution_count": 22,
   "metadata": {},
   "outputs": [
    {
     "data": {
      "text/plain": [
       "count    1.159100e+04\n",
       "mean     3.023698e+06\n",
       "std      1.772444e+06\n",
       "min      1.000000e+00\n",
       "25%      1.488480e+06\n",
       "50%      2.989232e+06\n",
       "75%      4.574117e+06\n",
       "max      6.113694e+06\n",
       "Name: start, dtype: float64"
      ]
     },
     "execution_count": 22,
     "metadata": {},
     "output_type": "execute_result"
    }
   ],
   "source": [
    "gff['start'].describe()"
   ]
  },
  {
   "cell_type": "markdown",
   "metadata": {},
   "source": [
    "### value_counts() function returns object containing counts of unique values.The number of genes, CDSs, tRNAs, and so on can be seen here.\n"
   ]
  },
  {
   "cell_type": "code",
   "execution_count": 23,
   "metadata": {},
   "outputs": [
    {
     "data": {
      "text/plain": [
       "gene            5761\n",
       "CDS             5700\n",
       "exon              61\n",
       "tRNA              53\n",
       "binding_site       6\n",
       "ncRNA              4\n",
       "rRNA               3\n",
       "region             1\n",
       "tmRNA              1\n",
       "STS                1\n",
       "Name: feature, dtype: int64"
      ]
     },
     "execution_count": 23,
     "metadata": {},
     "output_type": "execute_result"
    }
   ],
   "source": [
    "gff['feature'].value_counts()"
   ]
  },
  {
   "cell_type": "markdown",
   "metadata": {},
   "source": [
    "### DataFrames are iterable, as are their columns or rows. Below we iterate over the elements in the 'attribute' column of the rows where feature=='gene'. The iteration is done using a list-comprehension. We can do something which each selected element as it is created during the for-loop that is happening within the list-comprehension. Here, because the selected elements are strings, we perform a string operation, .split(), to split the string every time a semi-colon appears. The result is a list of lists of the items in the string that were split.\n",
    "### We operated on a DataFrame column full of strings and got in return a list of lists of strings! This is why it is important to understand the object types in Python, since it allows you to understand how and why this was possible."
   ]
  },
  {
   "cell_type": "code",
   "execution_count": 24,
   "metadata": {},
   "outputs": [
    {
     "data": {
      "text/plain": [
       "[['ID=gene0',\n",
       "  'Name=HMPREF0004_0003',\n",
       "  'gbkey=Gene',\n",
       "  'locus_tag=HMPREF0004_0003',\n",
       "  'partial=true'],\n",
       " ['ID=gene1',\n",
       "  'Name=HMPREF0004_0004',\n",
       "  'gbkey=Gene',\n",
       "  'locus_tag=HMPREF0004_0004'],\n",
       " ['ID=gene2',\n",
       "  'Name=HMPREF0004_0005',\n",
       "  'gbkey=Gene',\n",
       "  'locus_tag=HMPREF0004_0005',\n",
       "  'partial=true'],\n",
       " ['ID=gene3',\n",
       "  'Name=HMPREF0004_0006',\n",
       "  'gbkey=Gene',\n",
       "  'locus_tag=HMPREF0004_0006'],\n",
       " ['ID=gene4',\n",
       "  'Name=HMPREF0004_0007',\n",
       "  'gbkey=Gene',\n",
       "  'locus_tag=HMPREF0004_0007']]"
      ]
     },
     "execution_count": 24,
     "metadata": {},
     "output_type": "execute_result"
    }
   ],
   "source": [
    "# split the string objects of those attribute rows\n",
    "[i.split(\";\") for i in gff[gff.feature == \"gene\"][\"attribute\"].head()]"
   ]
  },
  {
   "cell_type": "markdown",
   "metadata": {},
   "source": [
    "### The functions of pandas are not limited to those I've listed. If you're keen to know, you can learn more by visiting this  [website](https://pandas.pydata.org/pandas-docs/stable/reference/general_functions.html#)  or reading Chapter 5 of the book (Python for Data Analysis-DATA WRANGLING WITH PANDAS, NUMPY, AND IPYTHON-, Wes McKinney ) I'll send you.\n"
   ]
  },
  {
   "cell_type": "markdown",
   "metadata": {},
   "source": [
    "## gffpandas library\n",
    "### The Python library gffpandas ([gffpandas tutorial]( https://gffpandas.readthedocs.io/en/latest/tutorial.html#)  ) facilitates the work with GFF3 files. Thereby, different conditions can be choosen to process the annotation data, as e.g. to retain only the entries of a specific feature. The big advantages are that several functions and thus options, can be combined and that a GFF3 file or even csv or tsv file can be returned. "
   ]
  },
  {
   "cell_type": "markdown",
   "metadata": {},
   "source": [
    "## Supporting Materials:\n",
    "### Please click on the topics to be directed to the websites or book that were used in this notebook.\n",
    "[Jupyter Notebook](https://realpython.com/jupyter-notebook-introduction/)\n",
    "\n",
    "[Pandas Introduction, Series](https://www.programmer-books.com/wp-content/uploads/2019/04/Python-for-Data-Analysis-2nd-Ed)\n",
    "\n",
    "[Pandas DataFrame](https://pandas.pydata.org/docs/getting_started/install.html#installing-pandas)\n",
    "\n",
    "[Google Colab](https://towardsdatascience.com/4-reasons-why-you-should-use-google-colab-for-your-next-project-b0c4aaad39ed)\n",
    "\n",
    "[GFF File Format](https://plants.ensembl.org/info/website/upload/gff.html)\n",
    "\n",
    "[Example](https://eaton-lab.org/slides/genomics/answers/nb-4.2-pandas-GFF.html)"
   ]
  }
 ],
 "metadata": {
  "kernelspec": {
   "display_name": "Python 3.10.6 64-bit",
   "language": "python",
   "name": "python3"
  },
  "language_info": {
   "codemirror_mode": {
    "name": "ipython",
    "version": 3
   },
   "file_extension": ".py",
   "mimetype": "text/x-python",
   "name": "python",
   "nbconvert_exporter": "python",
   "pygments_lexer": "ipython3",
   "version": "3.10.6"
  },
  "orig_nbformat": 4,
  "vscode": {
   "interpreter": {
    "hash": "23742a4e8944d48a93d44bd4da51eaf469d5ab386391183f487f05d3ea4bf65b"
   }
  }
 },
 "nbformat": 4,
 "nbformat_minor": 2
}
