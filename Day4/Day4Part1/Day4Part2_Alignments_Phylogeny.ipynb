{
 "cells": [
  {
   "cell_type": "markdown",
   "id": "55ad06d4-b76b-4f6f-88b5-6a4db236739c",
   "metadata": {},
   "source": [
    "# Day 4 Part 1\n",
    "---\n",
    "\n",
    "## Multiple sequence aligners + Phylogenetics\n",
    "\n",
    "For more information about the theory behind of multiple sequence alignment, please see these resources:\n",
    "\n",
    "- https://academic.oup.com/bib/article/17/6/1009/2606431\n",
    "- https://www.hindawi.com/journals/isrn/2013/615630/\n",
    "\n",
    "Note: There is a user-friend tool called MEGA that is likely sufficient for analyzing closely related species (within a phylum). However, it lacks some of the more sophisticated phylogenetic methods https://www.megasoftware.net/\n",
    "\n",
    "### Aligners\n",
    "\n",
    "Here is a list of recommended aligners (non-exhaustive). Unfortunately, most do not have Windows packages, however some of them do have webservers.  \n",
    "- [MAFFT](https://mafft.cbrc.jp/alignment/software/) \n",
    "- [T-COFFEE](http://www.tcoffee.org/Projects/tcoffee/workshops/tcoffeetutorials/installation.html)\n",
    "- [MUSCLE](https://www.drive5.com/muscle/) -- Has a windows distribution!\n",
    "- [HMMER](http://hmmer.org/) *great for aligning distantly related proteins*\n",
    "  - Profile alignment, guides the alignment of your sequences using a well curated template file. \n",
    "\n",
    "### Alignment viewers\n",
    "\n",
    "The most popular viewer on the market is [Jalview](https://www.jalview.org/), but there are older alternatives such as [SeaView](http://doua.prabi.fr/software/seaview).\n",
    "\n",
    "### Masking alignments\n",
    "\n",
    "If you want to proceed to phylogenetic analysis you can treat your alignment with a 'masking' method. This is a way to 'mask' or 'hide' regions of the alignment that might be misaligned (and therefore non-homologous). Historically, this was done by eye (yep..) but now we have tools to help us out! My favourites are: \n",
    "\n",
    "- [BMGE](https://bmcecolevol.biomedcentral.com/articles/10.1186/1471-2148-10-210)\n",
    "- [trimal](http://trimal.cgenomics.org/) -- has a windows distribution\n",
    "- [divvier](https://github.com/simonwhelan/Divvier) # advanced user\n",
    "\n",
    "### Phylogenetic Analyses\n",
    "\n",
    "Finally, for phylogenetic analyses, I recommend Maximum-likelihood or Bayesian methods:\n",
    "\n",
    "- [IQTREE](http://www.iqtree.org/)\n",
    "- [RAxML](https://cme.h-its.org/exelixis/web/software/raxml/)\n",
    "- [PhyloBayes](http://www.atgc-montpellier.fr/phylobayes/)\n",
    "\n",
    "### TreeViewers\n",
    "\n",
    "- [FIGTREE](http://tree.bio.ed.ac.uk/software/figtree/)\n",
    "- [iTOL](https://itol.embl.de/)\n",
    "\n"
   ]
  },
  {
   "cell_type": "markdown",
   "id": "c7bb5a53-7f33-4e09-a7a2-cdfbbcf2a226",
   "metadata": {},
   "source": [
    "Since muscle has a windows distribution let's try and get that working.  Mac/unix/colab users head to the next section\n",
    "\n",
    "### Windows\n",
    "\n",
    "Window's folks head to this link and download the executable (tar.gz again): \n",
    "\n",
    "https://www.drive5.com/muscle/downloads.htm\n",
    "\n",
    "http://trimal.cgenomics.org/downloads\n",
    "\n",
    "http://www.iqtree.org/#download\n",
    "\n",
    "\n",
    "Note the path where you have downlodaded these including the \\bin\\\n"
   ]
  },
  {
   "cell_type": "code",
   "execution_count": null,
   "id": "06f2b420-be4f-4554-afdb-c452095e9bd5",
   "metadata": {},
   "outputs": [],
   "source": [
    "# Muscle installation\n",
    "\n",
    "# Windows/Mac \n",
    "# follow instructions\n",
    "\n",
    "# windows path setting\n",
    "!set PATH=%PATH%;C:\\your\\path\\here\\\n",
    "\n",
    "# mac path setting\n",
    "export PATH=$PATH:/your/path/here\n",
    "\n",
    "# Linux\n",
    "# download file\n",
    "# make it executable chmod 755 file\n",
    "# run the file ./file\n",
    "# not"
   ]
  },
  {
   "cell_type": "code",
   "execution_count": null,
   "id": "782091cc-cf7a-474f-8691-3cfdd185ae82",
   "metadata": {
    "tags": []
   },
   "outputs": [],
   "source": [
    "## Run the aligner using muscle\n",
    "## It will save to the file SDHA_ncbi_align.fasta \n",
    "\n",
    "import subprocess\n",
    "muscle = \"/home/julieb/SOFTS/muscle5.1.linux_intel64\" # write here the path of your muscle install\n",
    "in_file = \"SDHA_ncbi.fasta\"\n",
    "out_file = \"SDHA_ncbi_align.fasta\"\n",
    "muscle_result=subprocess.run([muscle, \"-align\", in_file, \"-output\", out_file])"
   ]
  },
  {
   "cell_type": "code",
   "execution_count": null,
   "id": "0159a466-17cf-4bcb-b820-faf13338ca84",
   "metadata": {},
   "outputs": [],
   "source": [
    "# Jalview installation \n",
    "\n",
    "# windows/mac\n",
    "# should be like muscle \n",
    "\n",
    "\n",
    "# Linux\n",
    "# download .sh\n",
    "# make it executable chmod 755 sh_file\n",
    "# run the .sh file ./sh_file\n",
    "# follow instruction"
   ]
  },
  {
   "cell_type": "code",
   "execution_count": null,
   "id": "180baeb1-4f5b-4df0-9a9e-bdecde449c0a",
   "metadata": {},
   "outputs": [],
   "source": [
    "# open from a console or by clicking on the icon shortcut\n",
    "# jalview "
   ]
  },
  {
   "cell_type": "code",
   "execution_count": null,
   "id": "9726eb2b-25fc-43b6-ab12-0e0bdc3ab09d",
   "metadata": {
    "tags": []
   },
   "outputs": [],
   "source": [
    "### windows\n",
    "# should be like muscle \n",
    "\n",
    "### MAC/UNIX/COLLAB\n",
    "!conda install -c bioconda --yes trimal\n",
    "!conda install --yes -c bioconda iqtree"
   ]
  },
  {
   "cell_type": "code",
   "execution_count": null,
   "id": "53833254-f628-4cff-8e2d-f5ae9d9a0d55",
   "metadata": {},
   "outputs": [],
   "source": [
    "## Run the 'masking' or 'trimming' tool\n",
    "\n",
    "!trimal -gappyout -in SDHA_ncbi_align.fasta  -out SDHA_ncbi_align_trim.fasta \n"
   ]
  },
  {
   "cell_type": "code",
   "execution_count": null,
   "id": "666e2c98-e62a-417e-a71b-f1974f3f33c2",
   "metadata": {},
   "outputs": [],
   "source": [
    "## if it does not work, try \n",
    "\n",
    "trimal = \"/home/julieb/anaconda3/bin/trimal\" # write here the path of your muscle install\n",
    "in_file = \"SDHA_ncbi_align.fasta\"\n",
    "out_file = \"SDHA_ncbi_align_trim2.fasta\"\n",
    "trimal_result=subprocess.run([trimal, \"-gappyout\", \"-in\", in_file, \"-out\", out_file])\n",
    "\n"
   ]
  },
  {
   "cell_type": "code",
   "execution_count": null,
   "id": "9fb3e582-cfb3-4a59-90ea-37fbbe78d2ab",
   "metadata": {},
   "outputs": [],
   "source": [
    "# then look at your alignment in jalview"
   ]
  },
  {
   "cell_type": "code",
   "execution_count": null,
   "id": "24866bba-69e7-45b8-beeb-d6d6c9f25784",
   "metadata": {},
   "outputs": [],
   "source": [
    "## Run the tree making tool \n",
    "\n",
    "!iqtree -s SDHA_ncbi_align_trim.fasta --mset LG,WAG --mrate G,I -bb 1000 -pre SDHA_ncbi_align_trim -quiet\n"
   ]
  },
  {
   "cell_type": "code",
   "execution_count": null,
   "id": "ab36df8c-6db6-4c37-a5bc-146f0bc3b962",
   "metadata": {},
   "outputs": [],
   "source": [
    "## if it does not work, try \n",
    "iqtree = \"/home/julieb/anaconda3/bin/iqtree\" # write here the path of your iqtree install\n",
    "in_file = \"SDHA_ncbi_align_trim.fasta\"\n",
    "pre = \"SDHA_ncbi_align_trim2\"\n",
    "model = \"LG,WAG\"\n",
    "rate = \"G,I\"\n",
    "bt = \"1000\"\n",
    "iqtree_result=subprocess.run([iqtree,\"-s\", in_file, \"-mset\", model, \"-mrate\", rate, \"-bb\", bt, \"-pre\", out_file])"
   ]
  },
  {
   "cell_type": "code",
   "execution_count": null,
   "id": "57a26952-d409-484c-8bfa-744ab4b93541",
   "metadata": {},
   "outputs": [],
   "source": [
    "# install figtree \n",
    "# in a console, type\n",
    "# conda install -c bioconda figtree\n",
    "\n",
    "# run figtree from a consome\n",
    "# figtree"
   ]
  },
  {
   "cell_type": "code",
   "execution_count": null,
   "id": "5e76f912-283c-41c3-9821-d4ca1827236b",
   "metadata": {},
   "outputs": [],
   "source": [
    "# if you struggle with figtree install, you can view your .contree file using Jalview\n",
    "# in the mafft window, choose File > Load associated tree"
   ]
  }
 ],
 "metadata": {
  "kernelspec": {
   "display_name": "Python 3 (ipykernel)",
   "language": "python",
   "name": "python3"
  },
  "language_info": {
   "codemirror_mode": {
    "name": "ipython",
    "version": 3
   },
   "file_extension": ".py",
   "mimetype": "text/x-python",
   "name": "python",
   "nbconvert_exporter": "python",
   "pygments_lexer": "ipython3",
   "version": "3.9.7"
  }
 },
 "nbformat": 4,
 "nbformat_minor": 5
}
