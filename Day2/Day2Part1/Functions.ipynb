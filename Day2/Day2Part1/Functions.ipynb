{
 "cells": [
  {
   "cell_type": "markdown",
   "metadata": {},
   "source": []
  },
  {
   "cell_type": "markdown",
   "metadata": {},
   "source": [
    "## Function:\n",
    "A function is a <mark>block of organized, reusable code that is used to perform a single, related action</mark>. Functions provide better modularity for your application and a high degree of code reusing.\n",
    "As you already know, Python gives you many built-in functions like print(), etc. But you can also create your own functions. \n",
    "\n"
   ]
  },
  {
   "cell_type": "markdown",
   "metadata": {},
   "source": [
    "## Defining a Function\n",
    "Here are simple rules to define a function in Python.\n",
    "* Function blocks begin with the <mark>keyword def</mark> followed by the function name and parentheses.\n",
    "* Any input <mark>parameters or arguments should be placed within these parentheses</mark>. You can also define parameters inside these parentheses.\n",
    "* The code block within every function starts with a <mark>colon (:) and is indented</mark>.\n",
    "* The statement return [expression] exits a function, optionally passing back an expression to the caller. A return # * statement with no arguments is the same as return None. \n"
   ]
  },
  {
   "cell_type": "code",
   "execution_count": 20,
   "metadata": {},
   "outputs": [
    {
     "name": "stdout",
     "output_type": "stream",
     "text": [
      "arg=3\n"
     ]
    }
   ],
   "source": [
    "def foo(arg):\n",
    "    print(f'arg={arg}')\n",
    "\n",
    "foo(3)    "
   ]
  },
  {
   "cell_type": "code",
   "execution_count": 1,
   "metadata": {},
   "outputs": [
    {
     "name": "stdout",
     "output_type": "stream",
     "text": [
      "The count of A is 2.\n"
     ]
    }
   ],
   "source": [
    "def count_nucleotide(dna_sequence, nucleotide):\n",
    "    count = dna_sequence.count(nucleotide)\n",
    "    print(f\"The count of {nucleotide} is {count}.\")\n",
    "\n",
    "# Example usage:\n",
    "dna_sample = \"AGCTAGC\"\n",
    "count_nucleotide(dna_sample, 'A')\n"
   ]
  },
  {
   "cell_type": "code",
   "execution_count": null,
   "metadata": {},
   "outputs": [],
   "source": [
    "def is_valid_dna(dna_sequence):\n",
    "    valid_nucleotides = \"ACGT\"\n",
    "    for nucleotide in dna_sequence:\n",
    "        if nucleotide not in valid_nucleotides:\n",
    "            print(f\"{dna_sequence} is not a valid DNA sequence.\")\n",
    "            return\n",
    "    print(f\"{dna_sequence} is a valid DNA sequence.\")\n",
    "\n",
    "# Example usage:\n",
    "dna_sample1 = \"AGCTAGC\"\n",
    "dna_sample2 = \"AGCTXAGC\"\n",
    "\n",
    "is_valid_dna(dna_sample1)\n",
    "is_valid_dna(dna_sample2)\n"
   ]
  },
  {
   "cell_type": "markdown",
   "metadata": {},
   "source": [
    "Now, it’s your turn. Please write a piece of code that displays the Fibonacci sequence using a recursive function.\n",
    "\n",
    "In the Fibonacci sequence, each number is the sum of two numbers that precede it."
   ]
  },
  {
   "cell_type": "markdown",
   "metadata": {},
   "source": [
    "![](recursive.png)"
   ]
  },
  {
   "cell_type": "markdown",
   "metadata": {},
   "source": [
    "![](fibo.png)"
   ]
  },
  {
   "cell_type": "code",
   "execution_count": 21,
   "metadata": {},
   "outputs": [],
   "source": [
    "# Fibonacci numbers module\n",
    "\n",
    "def fib(n):    # write Fibonacci series up to n\n",
    "    a, b = 0, 1\n",
    "    while a < n:\n",
    "        print(a, end=' ')\n",
    "        a, b = b, a+b\n",
    "    print()\n",
    "\n",
    "def fib2(n):   # return Fibonacci series up to n\n",
    "    result = []\n",
    "    a, b = 0, 1\n",
    "    while a < n:\n",
    "        result.append(a)\n",
    "        a, b = b, a+b\n",
    "    return result"
   ]
  }
 ],
 "metadata": {
  "kernelspec": {
   "display_name": "Python 3.10.6 64-bit",
   "language": "python",
   "name": "python3"
  },
  "language_info": {
   "codemirror_mode": {
    "name": "ipython",
    "version": 3
   },
   "file_extension": ".py",
   "mimetype": "text/x-python",
   "name": "python",
   "nbconvert_exporter": "python",
   "pygments_lexer": "ipython3",
   "version": "3.11.0"
  },
  "orig_nbformat": 4,
  "vscode": {
   "interpreter": {
    "hash": "23742a4e8944d48a93d44bd4da51eaf469d5ab386391183f487f05d3ea4bf65b"
   }
  }
 },
 "nbformat": 4,
 "nbformat_minor": 2
}
