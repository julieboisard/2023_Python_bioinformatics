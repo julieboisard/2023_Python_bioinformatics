{
 "cells": [
  {
   "cell_type": "markdown",
   "id": "d65df64f",
   "metadata": {},
   "source": [
    "# Day2 - Part1 - More Exercises -- SOLUTIONS\n",
    "---\n",
    "\n",
    "## Learning Objectives for Part 1\n",
    "\n",
    "- Strengthen python skills\n",
    "- Debugging code\n",
    "\n",
    "---\n",
    "\n",
    "### Rosalind Exercises\n",
    "\n",
    "Please visit [Rosalind.info](http://rosalind.info/) and create an account. Once done, complete the first 6 exercises available at [Python Village](http://rosalind.info/problems/list-view/?location=python-village).\n",
    "\n",
    "---\n",
    "\n",
    "### Instructions:\n",
    "\n",
    "1. Fill in the code blocks below with your solutions.\n",
    "2. Remember to include comments in your code.\n",
    "3. If you wish, you can add a description before each block in Markdown format.\n",
    "\n",
    "We will be sharing our solutions later today. Good luck!\n"
   ]
  },
  {
   "cell_type": "code",
   "execution_count": 6,
   "id": "1c11db6d-ff67-4141-b645-b7a836253e49",
   "metadata": {},
   "outputs": [],
   "source": [
    "# INSTALLING PYTHON\n",
    "\n",
    "# Python has a philosophy which is beautifully expressed when you run the command `import this`. \n",
    "# It's known as the \"Zen of Python\".\n",
    "import this\n"
   ]
  },
  {
   "cell_type": "code",
   "execution_count": 7,
   "id": "f45294bc-033c-4b12-a440-7f2bddf12153",
   "metadata": {},
   "outputs": [
    {
     "data": {
      "text/plain": [
       "34"
      ]
     },
     "execution_count": 7,
     "metadata": {},
     "output_type": "execute_result"
    }
   ],
   "source": [
    "# VARIABLES AND SOME ARITHMETIC\n",
    "\n",
    "# In Python, you can perform arithmetic operations easily. \n",
    "# Here, we're squaring two numbers and then summing them up.\n",
    "a = 5 \n",
    "b = 3\n",
    "\n",
    "result = a**2 + b**2\n",
    "result\n"
   ]
  },
  {
   "cell_type": "code",
   "execution_count": 8,
   "id": "82de70b2-61d9-400b-87a1-eff3c751587a",
   "metadata": {},
   "outputs": [
    {
     "data": {
      "text/plain": [
       "'Humpty Dumpty'"
      ]
     },
     "execution_count": 8,
     "metadata": {},
     "output_type": "execute_result"
    }
   ],
   "source": [
    "# STRINGS AND LISTS\n",
    "\n",
    "# Strings in Python are quite flexible. You can easily slice them, concatenate them, and more. \n",
    "# In this example, we're extracting specific substrings from a given string.\n",
    "s = \"HumptyDumptysatonawallHumptyDumptyhadagreatfallAlltheKingshorsesandalltheKingsmenCouldntputHumptyDumptyinhisplaceagain.\"\n",
    "a, b, c, d = 22, 27, 97, 102\n",
    "\n",
    "extracted_string = s[a:b+1] + \" \" +  s[c:d+1]\n",
    "extracted_string\n"
   ]
  },
  {
   "cell_type": "code",
   "execution_count": 9,
   "id": "f3637013",
   "metadata": {},
   "outputs": [
    {
     "data": {
      "text/plain": [
       "17274400"
      ]
     },
     "execution_count": 9,
     "metadata": {},
     "output_type": "execute_result"
    }
   ],
   "source": [
    "# CONDITIONS AND LOOPS\n",
    "\n",
    "# Python provides a variety of control structures. \n",
    "# Here, we're using a while loop to sum up all the odd numbers between two given numbers.\n",
    "a, b = 4734, 9566\n",
    "c = 0\n",
    "\n",
    "while a <= b:\n",
    "    if a % 2 == 1:\n",
    "        c += a\n",
    "    a += 1\n",
    "\n",
    "c\n"
   ]
  },
  {
   "cell_type": "code",
   "execution_count": 10,
   "id": "b8397c38-a672-479f-a77e-17b037fa6f56",
   "metadata": {},
   "outputs": [
    {
     "name": "stdout",
     "output_type": "stream",
     "text": [
      "Yes, brave Sir Robin turned about\n",
      "And gallantly he chickened out\n",
      "Bravely talking to his feet\n",
      "He beat a very brave retreat\n"
     ]
    }
   ],
   "source": [
    "# WORKING WITH FILES\n",
    "\n",
    "# Python makes file operations straightforward. \n",
    "# In this example, we're reading a file and printing every alternate line from it.\n",
    "f = open(\"rosalind.txt\").readlines()\n",
    "\n",
    "#The `open()` function is used to open a file.  \n",
    "# The `readlines()` method reads the content of the file and returns a list of lines.\n",
    "\n",
    "for x in range(len(f)):\n",
    "    if x % 2 == 1:\n",
    "        print(f[x].strip())\n",
    "\n",
    "\"\"\"\n",
    "The condition x % 2 == 1 checks if the index x is odd.\n",
    "This ensures that only alternate lines (specifically the 2nd, 4th, 6th, etc.) are considered.\n",
    "print(f[x].strip()): The code prints the line without extra spaces or newline characters at the beginning or end.\n",
    "Result:\n",
    "The first line (index 0) is skipped.\n",
    "The second line (index 1) is printed.\n",
    "The third line (index 2) is skipped.\n",
    "The fourth line (index 3) is printed.\n",
    "... and so on.\n",
    "\"\"\""
   ]
  },
  {
   "cell_type": "markdown",
   "id": "fa66c106",
   "metadata": {},
   "source": [
    "## `strip()` Function\n",
    "\n",
    "The `strip()` function is used to remove unwanted characters, like spaces, from the start and end of a string."
   ]
  },
  {
   "cell_type": "code",
   "execution_count": 1,
   "id": "9ab49b15",
   "metadata": {},
   "outputs": [
    {
     "name": "stdout",
     "output_type": "stream",
     "text": [
      "Hello, World!\n"
     ]
    }
   ],
   "source": [
    "text = \"   Hello, World!   \"\n",
    "clean_text = text.strip()\n",
    "print(clean_text)  # Output: Hello, World!\n"
   ]
  },
  {
   "cell_type": "code",
   "execution_count": 3,
   "id": "affb25dc",
   "metadata": {},
   "outputs": [
    {
     "name": "stdout",
     "output_type": "stream",
     "text": [
      "ATGCGTA\n"
     ]
    }
   ],
   "source": [
    "dna_sequence = \"   ATGCGTA   \"\n",
    "cleaned_sequence = dna_sequence.strip()\n",
    "print(cleaned_sequence)  # Output: ATGCGTA"
   ]
  },
  {
   "cell_type": "code",
   "execution_count": 2,
   "id": "effe18d5",
   "metadata": {},
   "outputs": [
    {
     "name": "stdout",
     "output_type": "stream",
     "text": [
      "TGCGTATTT\n"
     ]
    }
   ],
   "source": [
    "dna = \"AAAATGCGTATTT\"\n",
    "clean_dna = dna.strip('A')\n",
    "print(clean_dna)  # Output: TGCGTAT\n"
   ]
  },
  {
   "cell_type": "markdown",
   "id": "35d511aa",
   "metadata": {},
   "source": [
    "# DICTIONARIES\n",
    "\n",
    "In Python, dictionaries are a versatile data structure that allows you to store key-value pairs. Here, we're using a dictionary to count the occurrence of each word in a given string.\n"
   ]
  },
  {
   "cell_type": "code",
   "execution_count": 11,
   "id": "3c8a0cf3-03e7-4ac8-b633-967779d0b5b3",
   "metadata": {},
   "outputs": [
    {
     "name": "stdout",
     "output_type": "stream",
     "text": [
      "We 1\n",
      "tried 3\n",
      "list 1\n",
      "and 1\n",
      "we 2\n",
      "dicts 1\n",
      "also 1\n",
      "Zen 1\n"
     ]
    }
   ],
   "source": [
    "s = \"We tried list and we tried dicts also we tried Zen\"\n",
    "myDict = {}\n",
    "\n",
    "for word in s.split(\" \"):\n",
    "    if word in myDict:\n",
    "        myDict[word] += 1\n",
    "    else:\n",
    "        myDict[word] = 1\n",
    "\n",
    "for x in myDict:\n",
    "    print(x + \" \" + str(myDict[x]))\n"
   ]
  },
  {
   "cell_type": "markdown",
   "id": "71b942b9",
   "metadata": {},
   "source": [
    "### Debugging exercises\n",
    "\n",
    "Fix the mistakes in the following code blocks. Hint, press 'play' to see what sort of error is generated? We will go over the answers together.\n"
   ]
  },
  {
   "cell_type": "code",
   "execution_count": 12,
   "id": "53132e23-cbe1-4519-94e9-09c296ee342a",
   "metadata": {},
   "outputs": [
    {
     "ename": "SyntaxError",
     "evalue": "expected ':' (1928514902.py, line 5)",
     "output_type": "error",
     "traceback": [
      "\u001b[1;36m  Cell \u001b[1;32mIn[12], line 5\u001b[1;36m\u001b[0m\n\u001b[1;33m    for x in myList\u001b[0m\n\u001b[1;37m                   ^\u001b[0m\n\u001b[1;31mSyntaxError\u001b[0m\u001b[1;31m:\u001b[0m expected ':'\n"
     ]
    }
   ],
   "source": [
    "# DEBUGGING EXERCISE 1 (1 error)\n",
    "\n",
    "myList = [0,1,2,3]\n",
    "\n",
    "for x in myList\n",
    "    print(x)\n"
   ]
  },
  {
   "cell_type": "code",
   "execution_count": null,
   "id": "00b22833-9092-4bac-b116-52e2cdbbaf5f",
   "metadata": {},
   "outputs": [],
   "source": [
    "# DEBUGGING EXERCISE 2 \n",
    "\n",
    "greeting = input(\"Hello, possible pirate! What's the password?)\n",
    "                 \n",
    "if greeting in [\"Arrr!\"):\n",
    "print(\"Go away, pirate.\")\n",
    "elif\n",
    "print(\"Greetings, hater of pirates!\")"
   ]
  },
  {
   "cell_type": "code",
   "execution_count": null,
   "id": "950c64fc-d6bf-4996-9566-588eb8297fcf",
   "metadata": {},
   "outputs": [
    {
     "ename": "SyntaxError",
     "evalue": "closing parenthesis ')' does not match opening parenthesis '{' on line 9 (3617114992.py, line 12)",
     "output_type": "error",
     "traceback": [
      "\u001b[1;36m  Cell \u001b[1;32mIn[5], line 12\u001b[1;36m\u001b[0m\n\u001b[1;33m    print author + \" died in \" + authors(author))\u001b[0m\n\u001b[1;37m                                                ^\u001b[0m\n\u001b[1;31mSyntaxError\u001b[0m\u001b[1;31m:\u001b[0m closing parenthesis ')' does not match opening parenthesis '{' on line 9\n"
     ]
    }
   ],
   "source": [
    "# DEBUGGING EXERCISE 3\n",
    "\n",
    "# Create a collection of these authors and\n",
    "# the year they kicked the bucket;\n",
    "# print the collection in the following format e.g.,:\n",
    "\n",
    "# Charles Dickens died in 1870.\n",
    "\n",
    "authrs = {\"Charles Dickens\": \"1870\", \"William Thackeray\": \"1863\",\"Anthony Trollope\": \"1882\", \"Gerard Manley Hopkins\": \"1889\"\n",
    "\n",
    "for author in authors:\n",
    "    print author + \" died in \" + authors(author))"
   ]
  },
  {
   "cell_type": "code",
   "execution_count": null,
   "id": "016696f4",
   "metadata": {},
   "outputs": [],
   "source": [
    "# DEBUGGING EXERCISE 3\n",
    "\n",
    "# Create a collection of these authors and\n",
    "# the year they kicked the bucket;\n",
    "# print the collection in the following format e.g.,:\n",
    "\n",
    "# Charles Dickens died in 1870.\n",
    "\n",
    "authors = {\n",
    "    \"Charles Dickens\": \"1870\",\n",
    "    \"William Thackeray\": \"1863\",\n",
    "    \"Anthony Trollope\": \"1882\",\n",
    "    \"Gerard Manley Hopkins\": \"1889\"\n",
    "}\n",
    "\n",
    "for author in authors:\n",
    "    print(author + \" died in \" + authors[author])\n"
   ]
  },
  {
   "cell_type": "code",
   "execution_count": null,
   "id": "5baaf009-96f7-4f40-adf2-ad3dbe96beaf",
   "metadata": {},
   "outputs": [],
   "source": [
    "# DEBUGGING EXERCISE 4\n",
    "\n",
    "\n",
    "# A time traveler has suddenly appeared in your classroom!\n",
    "\n",
    "# Create a variable representing the traveler's\n",
    "# year of origin (e.g., year = 2000)\n",
    "# and greet our strange visitor with a different message\n",
    "# if he is from the distant past (before 1900),\n",
    "# the present era (1900-2020) or from the far future (beyond 2020).\n",
    "\n",
    "year == int.input(\"Greetings! What is your year of origin? '))\n",
    "\n",
    "if year <= 1900\n",
    "    print ('Woah, that's the past!')\n",
    "elif year > 1900 and year < 2021:\n",
    "    print (\"That's totally the present!\")\n",
    "elif:\n",
    "    print (\"Far out, that's the future!!\")"
   ]
  },
  {
   "cell_type": "code",
   "execution_count": null,
   "id": "f168b251",
   "metadata": {},
   "outputs": [],
   "source": [
    "# DEBUGGING EXERCISE 4\n",
    "\n",
    "# A time traveler has suddenly appeared in your classroom!\n",
    "\n",
    "# Create a variable representing the traveler's\n",
    "# year of origin (e.g., year = 2000)\n",
    "# and greet our strange visitor with a different message\n",
    "# if he is from the distant past (before 1900),\n",
    "# the present era (1900-2020) or from the far future (beyond 2020).\n",
    "\n",
    "year = int(input(\"Greetings! What is your year of origin? \"))\n",
    "\n",
    "if year <= 1900:\n",
    "    print('Woah, that\\'s the past!')\n",
    "elif year > 1900 and year < 2021:\n",
    "    print(\"That's totally the present!\")\n",
    "else:\n",
    "    print(\"Far out, that's the future!!\")\n"
   ]
  }
 ],
 "metadata": {
  "kernelspec": {
   "display_name": "Python 3.10.6 64-bit",
   "language": "python",
   "name": "python3"
  },
  "language_info": {
   "codemirror_mode": {
    "name": "ipython",
    "version": 3
   },
   "file_extension": ".py",
   "mimetype": "text/x-python",
   "name": "python",
   "nbconvert_exporter": "python",
   "pygments_lexer": "ipython3",
   "version": "3.11.0"
  },
  "vscode": {
   "interpreter": {
    "hash": "23742a4e8944d48a93d44bd4da51eaf469d5ab386391183f487f05d3ea4bf65b"
   }
  }
 },
 "nbformat": 4,
 "nbformat_minor": 5
}
