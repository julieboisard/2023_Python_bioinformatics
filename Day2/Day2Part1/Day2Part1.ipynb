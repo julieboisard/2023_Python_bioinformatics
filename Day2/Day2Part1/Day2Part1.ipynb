{
 "cells": [
  {
   "cell_type": "markdown",
   "id": "62acd98f-31ef-4ac6-ac28-27d87414ac2b",
   "metadata": {},
   "source": [
    "# Day2 - Part1 - More Exercises -- SOLUTIONS\n",
    "---\n",
    "\n",
    "## Learning objectives for Part 1\n",
    "\n",
    "- Strengthen python skills\n",
    "- Debugging code\n",
    "\n",
    "\n",
    "Go to Rosalind.info and make an account. Complete the first 6 exercises in http://rosalind.info/problems/list-view/?location=python-village\n",
    "\n",
    "Fill in the the code blocks below with your solutions - remember to include comments! Add a desciption before each block if you wish in Markdown format.  We will share our solutions later today."
   ]
  },
  {
   "cell_type": "code",
   "execution_count": null,
   "id": "1c11db6d-ff67-4141-b645-b7a836253e49",
   "metadata": {},
   "outputs": [],
   "source": [
    "# INSTALLING PYTHON\n",
    "\n",
    "import this"
   ]
  },
  {
   "cell_type": "code",
   "execution_count": null,
   "id": "f45294bc-033c-4b12-a440-7f2bddf12153",
   "metadata": {},
   "outputs": [],
   "source": [
    "# VARIABLES AND SOME ARITHMETIC\n",
    "a = 5 \n",
    "b = 3\n",
    "\n",
    "a**2 + b**2"
   ]
  },
  {
   "cell_type": "code",
   "execution_count": null,
   "id": "82de70b2-61d9-400b-87a1-eff3c751587a",
   "metadata": {},
   "outputs": [],
   "source": [
    "# STRINGS AND LISTS\n",
    "\n",
    "s=\"HumptyDumptysatonawallHumptyDumptyhadagreatfallAlltheKingshorsesandalltheKingsmenCouldntputHumptyDumptyinhisplaceagain.\"\n",
    "a,b,c,d = 22, 27, 97, 102\n",
    "\n",
    "s[a:b+1] + \" \" +  s[c:d+1]"
   ]
  },
  {
   "cell_type": "code",
   "execution_count": null,
   "id": "4b77921b-997b-4c8c-85f5-e7e3b9889a76",
   "metadata": {},
   "outputs": [],
   "source": [
    "# CONDITIONS AND LOOPS\n",
    "\n",
    "a, b = 4734, 9566\n",
    "c = 0\n",
    "while a <= b:\n",
    "    if a % 2 ==1:\n",
    "        c += a\n",
    "    a += 1\n",
    "c"
   ]
  },
  {
   "cell_type": "code",
   "execution_count": null,
   "id": "b8397c38-a672-479f-a77e-17b037fa6f56",
   "metadata": {},
   "outputs": [],
   "source": [
    "# WORKING WITH FILES\n",
    "\n",
    "f = open(\"rosalind.txt\").readlines()\n",
    "for x in range(len(f)):\n",
    "    if x % 2 == 1:\n",
    "        print (f[x].strip())"
   ]
  },
  {
   "cell_type": "code",
   "execution_count": null,
   "id": "3c8a0cf3-03e7-4ac8-b633-967779d0b5b3",
   "metadata": {},
   "outputs": [],
   "source": [
    "# DICTIONARIES\n",
    "\n",
    "s=\"We tried list and we tried dicts also we tried Zen\"\n",
    "myDict={}\n",
    "for word in s.split(\" \"):\n",
    "    if word in myDict:\n",
    "        myDict[word] +=1\n",
    "    else:\n",
    "        myDict[word] =1\n",
    "for x in myDict:\n",
    "    print(x + str(myDict[x]))"
   ]
  },
  {
   "cell_type": "markdown",
   "id": "6c357519-147f-4df7-b220-543109c85809",
   "metadata": {},
   "source": [
    "### Debugging exercises\n",
    "\n",
    "Fix the mistakes in the following code blocks. Hint, press 'play' to see what sort of error is generated? We will go over the answers together."
   ]
  },
  {
   "cell_type": "code",
   "execution_count": null,
   "id": "53132e23-cbe1-4519-94e9-09c296ee342a",
   "metadata": {},
   "outputs": [],
   "source": [
    "# DEBUGGING EXERCISE 1 (1 error)\n",
    "\n",
    "myList = [0,1,2,3]\n",
    "\n",
    "for x in myList\n",
    "    print(x)\n"
   ]
  },
  {
   "cell_type": "code",
   "execution_count": null,
   "id": "00b22833-9092-4bac-b116-52e2cdbbaf5f",
   "metadata": {},
   "outputs": [],
   "source": [
    "# DEBUGGING EXERCISE 2 \n",
    "\n",
    "greeting = input(\"Hello, possible pirate! What's the password?)\n",
    "                 \n",
    "if greeting in [\"Arrr!\"):\n",
    "print(\"Go away, pirate.\")\n",
    "elif\n",
    "print(\"Greetings, hater of pirates!\")"
   ]
  },
  {
   "cell_type": "code",
   "execution_count": null,
   "id": "950c64fc-d6bf-4996-9566-588eb8297fcf",
   "metadata": {},
   "outputs": [],
   "source": [
    "# DEBUGGING EXERCISE 3\n",
    "\n",
    "# Create a collection of these authors and\n",
    "# the year they kicked the bucket;\n",
    "# print the collection in the following format e.g.,:\n",
    "\n",
    "# Charles Dickens died in 1870.\n",
    "\n",
    "authrs = {\"Charles Dickens\": \"1870\", \"William Thackeray\": \"1863\",\"Anthony Trollope\": \"1882\", \"Gerard Manley Hopkins\": \"1889\"\n",
    "\n",
    "for author in authors:\n",
    "    print author + \" died in \" + authors(author))"
   ]
  },
  {
   "cell_type": "code",
   "execution_count": null,
   "id": "5baaf009-96f7-4f40-adf2-ad3dbe96beaf",
   "metadata": {},
   "outputs": [],
   "source": [
    "# DEBUGGING EXERCISE 4\n",
    "\n",
    "\n",
    "# A time traveler has suddenly appeared in your classroom!\n",
    "\n",
    "# Create a variable representing the traveler's\n",
    "# year of origin (e.g., year = 2000)\n",
    "# and greet our strange visitor with a different message\n",
    "# if he is from the distant past (before 1900),\n",
    "# the present era (1900-2020) or from the far future (beyond 2020).\n",
    "\n",
    "year == int.input(\"Greetings! What is your year of origin? '))\n",
    "\n",
    "if year <= 1900\n",
    "    print ('Woah, that's the past!')\n",
    "elif year > 1900 and year < 2021:\n",
    "    print (\"That's totally the present!\")\n",
    "elif:\n",
    "    print (\"Far out, that's the future!!\")"
   ]
  },
  {
   "cell_type": "code",
   "execution_count": 9,
   "id": "50b55637-0599-4dbd-864e-21adea2f033d",
   "metadata": {},
   "outputs": [
    {
     "name": "stdout",
     "output_type": "stream",
     "text": [
      "3 is not there.\n",
      "1 is odd\n",
      "[1, 2, 4, 's']\n"
     ]
    }
   ],
   "source": [
    "# HAND-IN 1 combine what you have learned\n",
    "\n",
    "myList = [1,2,3,4]\n",
    "\n",
    "# Add a string 's' to to myList\n",
    "\n",
    "myList.append(\"s\")\n",
    "\n",
    "# Delete the third item\n",
    "myList.pop(2)\n",
    "\n",
    "# Make an if/else statement to check if the third item is still present\n",
    "if 3 in myList:\n",
    "    print(\"3 is still there!\")\n",
    "else:\n",
    "    print(\"3 is not there.\")\n",
    "\n",
    "# Write another if/else statement to check if the first item is odd or even\n",
    "    \n",
    "if myList[0] % 2 == 0:\n",
    "    print(str(myList[0]) + \" is even\")\n",
    "else:\n",
    "    print(str(myList[0]) + \" is odd\")\n",
    "    \n",
    "# print your list and check your answer\n",
    "print(myList)"
   ]
  },
  {
   "cell_type": "code",
   "execution_count": 14,
   "id": "f7cd0b54-186e-42d2-883e-eba7f0fd6cdb",
   "metadata": {},
   "outputs": [
    {
     "name": "stdout",
     "output_type": "stream",
     "text": [
      "<class 'int'>\n",
      "<class 'str'>\n",
      "<class 'list'>\n",
      "{'a': 1, 'b': 'Lund', 'c': [1, 2, 3]}\n"
     ]
    }
   ],
   "source": [
    "# HAND-IN 2 combine what you have learned\n",
    "\n",
    "myDictionary = {\"a\":1, \"b\":\"Lund\", \"c\":[1,2,3]}\n",
    "\n",
    "# write a for loop to read a dictionary that will print the \n",
    "# value for each key and what type of element it is (string, integer, list) \n",
    "\n",
    "for key in myDictionary:\n",
    "    value = myDictionary[key]\n",
    "    type_value = type(value)\n",
    "    print(type_value)\n",
    "\n",
    "\n",
    "# replace the value of type 'list' with a string \"s\"\n",
    "\n",
    "for key in myDictionary:\n",
    "    value = myDictionary[key]\n",
    "    type_value = type(value)\n",
    "    if type_value == list:\n",
    "        myDictionary[key] == \"s\"\n",
    "        \n",
    "\n",
    "# Your resulting dictionary should be: {'a': 1, 'b': 'Lund', 'c': 's'}\n",
    "print(myDictionary)"
   ]
  },
  {
   "cell_type": "code",
   "execution_count": 24,
   "id": "b34288fc-1f48-4c8c-b199-6520f62a0b0a",
   "metadata": {},
   "outputs": [],
   "source": [
    "# HAND-IN 3\n",
    "\n",
    "# Open the file lines_copy.txt and write the even lines to a new file \"even_lines.txt\"\n",
    "# hint: you can apply '.index('item')' to a list to get the index number of 'item'\n",
    "# hint: don't forget the 0-index\n",
    "# using the hint:\n",
    "\n",
    "outfile = open(\"even_lines.txt\", \"w\")\n",
    "file_readlines = open(\"lines_copy.txt\").readlines()\n",
    "for line in file_readlines:\n",
    "    line_num = file_readlines.index(line) +1\n",
    "    if line_num % 2 == 0:\n",
    "        outfile.write(line)\n",
    "outfile.close()"
   ]
  },
  {
   "cell_type": "code",
   "execution_count": 24,
   "id": "bf906b3f-cb55-4c8f-b087-90199cbff33b",
   "metadata": {},
   "outputs": [],
   "source": [
    "# other methods\n",
    "\n",
    "outfile = open(\"even_lines.txt\", \"w\")\n",
    "file_readlines = open(\"lines_copy.txt\").readlines()\n",
    "line_counter = 0 \n",
    "for line in file_readlines:\n",
    "    line_counter +=1. # first time in\n",
    "    if line_counter % 2 ==0:\n",
    "        outfile.write(line)\n",
    "        line_counter +1\n",
    "outfile.close()        "
   ]
  },
  {
   "cell_type": "code",
   "execution_count": 26,
   "id": "edc782b5-9b67-43b6-aae4-3257cfe1fa5d",
   "metadata": {},
   "outputs": [],
   "source": [
    "# using functions\n",
    "\n",
    "def is_even(num):\n",
    "    if num % 2 ==0:\n",
    "        return True\n",
    "    \n",
    "outfile = open(\"even_lines.txt\", \"w\")\n",
    "for line in file_readlines:\n",
    "    line_num = file_readlines.index(line) +1\n",
    "    if is_even(line_num):\n",
    "        outfile.write(line)\n",
    "\n",
    "outfile.close()       \n"
   ]
  },
  {
   "cell_type": "code",
   "execution_count": 25,
   "id": "a21d5ead-49fa-4869-8e48-5b3e50b73748",
   "metadata": {},
   "outputs": [],
   "source": [
    "# with with\n",
    "outfile = open(\"even_lines.txt\", \"w\")\n",
    "with open(\"lines_copy.txt\",\"r\") as file:\n",
    "    line_counter = 0 \n",
    "    for line in file:\n",
    "        line_counter +=1\n",
    "        if is_even(line_counter):\n",
    "            outfile.write(line) \n",
    "outfile.close()"
   ]
  },
  {
   "cell_type": "code",
   "execution_count": null,
   "id": "b31aab32-2ec0-4b4c-b199-08c5035e44f5",
   "metadata": {},
   "outputs": [],
   "source": []
  }
 ],
 "metadata": {
  "kernelspec": {
   "display_name": "Python 3.10.6 64-bit",
   "language": "python",
   "name": "python3"
  },
  "language_info": {
   "codemirror_mode": {
    "name": "ipython",
    "version": 3
   },
   "file_extension": ".py",
   "mimetype": "text/x-python",
   "name": "python",
   "nbconvert_exporter": "python",
   "pygments_lexer": "ipython3",
   "version": "3.10.6"
  },
  "vscode": {
   "interpreter": {
    "hash": "23742a4e8944d48a93d44bd4da51eaf469d5ab386391183f487f05d3ea4bf65b"
   }
  }
 },
 "nbformat": 4,
 "nbformat_minor": 5
}
