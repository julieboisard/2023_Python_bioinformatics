{
 "cells": [
  {
   "cell_type": "markdown",
   "id": "83b613fc-30c1-4bfb-af79-5dc46812ef1d",
   "metadata": {},
   "source": [
    "# **Day 2 - Part 2** \n",
    "\n",
    "## Learning objectives\n",
    "\n",
    "- Solve problems using python core\n",
    "- Introduction to biopython\n",
    "\n"
   ]
  },
  {
   "cell_type": "markdown",
   "id": "164c7e63-53e2-48c2-938a-21f75c9340be",
   "metadata": {
    "tags": []
   },
   "source": [
    "## Reminder: Lists and Dictionaries and the 0-index\n",
    "---\n",
    "\n",
    "### Lists\n",
    "**Lists** (also called 'arrays' or 'vectors' in other languages) are a collection of ordered items. Lists are represented with square parentheses separated by commas."
   ]
  },
  {
   "cell_type": "code",
   "execution_count": null,
   "id": "1ce77959-dff7-4f25-9b57-8086d039d660",
   "metadata": {},
   "outputs": [],
   "source": [
    "this_is_a_list_of_integers = [1,2,3,4]\n",
    "this_is_a_list_of_strings = [\"a\",\"c\",\"b\"]\n",
    "\n",
    "# You can also have lists within lists\n",
    "this_is_a_list_of_integers_strings_and_lists = [1,2,3,4,\"a\",\"c\",\"b\",this_is_a_list_of_strings]\n",
    "print(this_is_a_list_of_integers_strings_and_lists)"
   ]
  },
  {
   "cell_type": "markdown",
   "id": "63e8a284-a1c7-44c7-94f7-dd9bd738f896",
   "metadata": {},
   "source": [
    "You can retrieve items from a list based on their position in the list. However, python uses a 0-index, which means the first item in the list is 'item 0' and the second item is 'item 1' the last item is the length of the list - 1."
   ]
  },
  {
   "cell_type": "code",
   "execution_count": null,
   "id": "4ad7ff9c-7c3e-4e2f-bdac-10b6138282fa",
   "metadata": {
    "tags": []
   },
   "outputs": [],
   "source": [
    "myList = [1,2,3,4]\n",
    "\n",
    "# first item in the list\n",
    "first = myList[0] \n",
    "print(\"First item is\", first)\n",
    "\n",
    "# last item in the list\n",
    "last = myList[-1]  \n",
    "print(\"Last item is\", last)\n",
    "\n",
    "# second last item in the list\n",
    "second_last = myList[-2]\n",
    "print(\"Second last item is\", second_last)\n",
    "\n",
    "# provide the list starting with the 2nd item (index 1)\n",
    "skip_first = myList[1:] \n",
    "print(\"List without first item is\", skip_first)\n",
    "\n",
    "# provide the last two items in the list\n",
    "last_two = myList[-2:] \n",
    "print(\"Last two items are\", last_two)\n",
    "\n",
    "# provide item 2 and item 3 in the list\n",
    "print(\"Items 2 and 3 in the list are\", myList[1:3])\n"
   ]
  },
  {
   "cell_type": "markdown",
   "id": "02a03aac-9a4b-4c05-9e3f-d2cf11f63cf7",
   "metadata": {},
   "source": [
    "You can add an item to a list using `.append()` or remove items from a list using `.pop()` or `del` or `.remove()`"
   ]
  },
  {
   "cell_type": "code",
   "execution_count": null,
   "id": "c4eb2375-f411-4b71-9507-ea95a86d0153",
   "metadata": {},
   "outputs": [],
   "source": [
    "myList = [1,2,3,4]\n",
    "myList.append(\"apple\")\n",
    "print(myList)\n",
    "\n",
    "myList.pop(1) # 'pops' out the 2nd item in myList\n",
    "print(myList)\n",
    "\n",
    "del myList[1] # deletes the 2nd item in the new myList\n",
    "print(myList)\n",
    "\n",
    "myList.remove(\"apple\") # removes the item called 'apple'\n",
    "print(myList)"
   ]
  },
  {
   "cell_type": "code",
   "execution_count": null,
   "id": "9e7871d0-529a-4857-bc4a-29786cdac4d8",
   "metadata": {},
   "outputs": [],
   "source": [
    "myList = [1,2,3,4]\n",
    "myList.append(\"apple\")\n",
    "print(myList)\n",
    "\n",
    "myList.pop(1) # 'pops' out the 2nd item in myList\n",
    "print(myList)"
   ]
  },
  {
   "cell_type": "markdown",
   "id": "a05245ce-5070-454a-b393-9473c6533677",
   "metadata": {
    "tags": []
   },
   "source": [
    "### Dictionaries \n",
    "\n",
    "Dictionaries are incredibly powerful tools for storing information. A dictionary is a list of keys (=entries) and values (=attributes) you would like to store with each key separated with a ':'.  They are stored in {}."
   ]
  },
  {
   "cell_type": "code",
   "execution_count": null,
   "id": "0509bedc-d22e-4b80-94e1-c7122a99d358",
   "metadata": {},
   "outputs": [],
   "source": [
    "myDictionary = {\"a\":1,\"b\":2,\"c\":3}\n",
    "\n",
    "# You can access the value of key 'b' using the following syntax.  \n",
    "print(\"The value for key b is:\", myDictionary[\"b\"])\n",
    "\n",
    "# You can add elements to a dictionary\n",
    "myDictionary[\"d\"] = 4\n",
    "print(myDictionary)\n",
    "\n",
    "# Overwrite elements of a key \n",
    "myDictionary[\"d\"] = 5\n",
    "print(myDictionary)\n",
    "\n",
    "# Add/subtract elements of a keys\n",
    "myDictionary[\"d\"] += 5\n",
    "print(myDictionary)\n",
    "\n",
    "# Remove keys from a dictionary \n",
    "del myDictionary[\"d\"] \n",
    "myDictionary.pop(\"a\")\n",
    "print(myDictionary)"
   ]
  },
  {
   "cell_type": "markdown",
   "id": "8df83589-4d04-44c8-aa2c-3a1324fb43b3",
   "metadata": {},
   "source": [
    "### Section 01 - Analyzing biological data with python core\n",
    "---\n",
    "\n",
    "We are going to start playing with actual biological data. \n",
    "\n",
    "[Here](https://perso.limsi.fr/pointal/_media/python:cours:mementopython3-english.pdf) you can find a useful cheat sheet with common python core functions.\n",
    "\n",
    "\n",
    "Let's reverse complement a DNA sequence. Hint, you can reverse strings using \"[::-1]\" or .reverse()"
   ]
  },
  {
   "cell_type": "code",
   "execution_count": null,
   "id": "1807b073-17bc-4295-99c5-6e5eb8fcf247",
   "metadata": {},
   "outputs": [],
   "source": [
    "myDNA = \"agttgcccag\"\n",
    "print(\"Original sequence is:\", myDNA)\n",
    "\n",
    "RC_dict = {\"a\":\"t\",\"t\":\"a\",\"c\":\"g\",\"g\":\"c\"} # dictionnary with each base complement\n",
    "\n",
    "myDNA_RC =\"\" #new string to store the reverse complemented sequence\n",
    "\n",
    "for i in myDNA:\n",
    "    myDNA_RC += RC_dict[i] # for each base in myDNA, the complement base will be added in the new list using the dictionnary\n",
    "\n",
    "print(\"Complement is:\", myDNA_RC) # the complemented sequence\n",
    "print(\"Reverse complement is:\", myDNA_RC[::-1]) # we can reverse the string in the new list to get the reverse complement"
   ]
  },
  {
   "cell_type": "markdown",
   "id": "230c6997-ec06-4068-be80-bb7b3c00b0c0",
   "metadata": {},
   "source": [
    "Work on the following problems:"
   ]
  },
  {
   "cell_type": "markdown",
   "id": "e12b5b49-0958-438f-b16e-6341af4a052e",
   "metadata": {},
   "source": [
    "### Rosalind Problem - Complementing a Strand of DNA\n",
    "\n",
    "Go on [Rosalind](http://rosalind.info/problems/revc/) website.\n",
    "\n",
    "> In DNA strings, symbols 'A' and 'T' are complements of each other, as are 'C' and 'G'.\n",
    "\n",
    "> The reverse complement of a DNA string 's' is the string 'sc' formed by reversing the symbols of 's', then taking the complement of each symbol (e.g., the reverse complement of \"GTCA\" is \"TGAC\").\n",
    "\n",
    "> Given: A DNA string 's' of length at most 1000 bp.\n",
    "\n",
    "> Return: The reverse complement 'sc' of 's'.\n",
    "\n",
    "Try to find other ways to reverse complement a sequence (without a dictionnary)."
   ]
  },
  {
   "cell_type": "code",
   "execution_count": null,
   "id": "c3ef1cfd-c010-4966-a4e4-65c68291620f",
   "metadata": {},
   "outputs": [],
   "source": [
    "## Correction\n",
    "\n",
    "S = open('rosalind_revc_1_dataset.txt', 'r')\n",
    "S = S.read()\n",
    "\n",
    "print(\"Original sequence\", S)\n",
    "\n",
    "#method1 using a for loop\n",
    "\n",
    "revS = S[::-1] # reverse the string\n",
    "\n",
    "print(\"Reversed sequence\", revS)\n",
    "\n",
    "comp=\"\" #new string to store the complement\n",
    "\n",
    "for i in revS:\n",
    "    if i == 'A':              \n",
    "        comp+='T'             \n",
    "    elif i == 'C':            \n",
    "        comp+='G'             \n",
    "    elif i == 'T':            \n",
    "        comp+='A'             \n",
    "    elif i == 'G':            \n",
    "        comp+='C' \n",
    "\n",
    "        \n",
    "print(\"\\nReverse complement\", comp)\n",
    "\n"
   ]
  },
  {
   "cell_type": "code",
   "execution_count": null,
   "id": "18db6600-5e6b-48db-ac55-48a830082938",
   "metadata": {},
   "outputs": [],
   "source": [
    "#method2 using a built-in function\n",
    "S = open('rosalind_revc_1_dataset.txt', 'r')\n",
    "S = S.read()\n",
    "\n",
    "print(\"Original sequence\", S)\n",
    "\n",
    "revS = S[::-1]\n",
    "print(\"Reversed sequence\", revS)\n",
    "\n",
    "revS = revS.replace('A', 't') # why are we using lower case here?\n",
    "print(\"All A are replaced by t\", revS)\n",
    "revS = revS.replace('T', 'a')\n",
    "print(\"All T are replaced by a\", revS)\n",
    "revS = revS.replace('C', 'g')\n",
    "print(\"All C are replaced by g\", revS)\n",
    "revS = revS.replace('G', 'c')\n",
    "print(\"All G are replaced by c\", revS)\n",
    "revS = revS.upper() # get all characters back upper\n",
    "\n",
    "print(\"Reverse complement #1 \", revS)\n",
    "\n",
    "#method2 simplified\n",
    "S = open('rosalind_revc_1_dataset.txt', 'r')\n",
    "S = S.read()\n",
    "\n",
    "S = S.replace('A', 't').replace('T', 'a').replace('C', 'g').replace('G', 'c').upper()[::-1]\n",
    "print(\"Reverse complement #2\", S)"
   ]
  },
  {
   "cell_type": "markdown",
   "id": "5d94a14e-9381-4d48-966f-2c933347abed",
   "metadata": {},
   "source": [
    "### Rosalind Problem - Counting DNA nucleotides\n",
    "\n",
    "Go on [Rosalind](http://rosalind.info/problems/dna/) website.\n",
    "\n",
    "> A string is simply an ordered collection of symbols selected from some alphabet and formed into a word\n",
    "\n",
    "> The length of a string is the number of symbols that it contains.\n",
    "\n",
    "> An example of a length 21 DNA string (whose alphabet contains the symbols 'A', 'C', 'G', and 'T') is \"ATGCTTCAGAAAGGTCTTACG.\"\n",
    "\n",
    "> Given: A DNA string 's' of length at most 1000 nt.\n",
    "\n",
    "> Return: Four integers (separated by spaces) counting the respective number of times that the symbols 'A', 'C', 'G', and 'T' occur in 's'.\n"
   ]
  },
  {
   "cell_type": "code",
   "execution_count": null,
   "id": "ebfe177f-65ea-444c-b3f5-ce4b6418d03d",
   "metadata": {},
   "outputs": [],
   "source": [
    "## Correction\n",
    "\n",
    "seq = open('rosalind_dna_1_dataset.txt', 'r')\n",
    "seq = seq.read()\n",
    "print(\"Original sequence:\", seq)\n",
    "\n",
    "countA = 0\n",
    "countC = 0\n",
    "countG = 0\n",
    "countT = 0\n",
    "\n",
    "for n in seq:\n",
    "    if n == 'A':\n",
    "        countA += 1\n",
    "    if n == 'C':\n",
    "        countC += 1\n",
    "    if n == 'G':\n",
    "        countG += 1\n",
    "    if n == 'T':\n",
    "        countT += 1\n",
    "\n",
    "print(\"Count A is\", str(countA), \", Count C is \" + str(countC), \", Count G is \", str(countG), \", Count T is\",  str(countT))"
   ]
  },
  {
   "cell_type": "markdown",
   "id": "f9bf7fe4-2419-488a-8cd6-dcde39af298c",
   "metadata": {},
   "source": [
    "### Rosalind Problem - Transcribing DNA into RNA\n",
    "\n",
    "Go on [Rosalind](http://rosalind.info/problems/rna/) website.\n",
    "\n",
    "> An RNA string is a string formed from the alphabet containing 'A', 'C', 'G', and 'U'.\n",
    "\n",
    "> Given a DNA string 't' corresponding to a coding strand, its transcribed RNA string u is formed by replacing all occurrences of 'T' in t with 'U' in u\n",
    "\n",
    "> Given: A DNA string 't' having length at most 1000 nt.\n",
    "\n",
    "> Return: The transcribed RNA string of 't'"
   ]
  },
  {
   "cell_type": "code",
   "execution_count": null,
   "id": "64473243-0487-4d18-a1c1-514b035a7dcc",
   "metadata": {},
   "outputs": [],
   "source": [
    "## Correction\n",
    "\n",
    "#method1\n",
    "dna = open('rosalind_rna_1_dataset.txt', 'r')\n",
    "dna = dna.read()\n",
    "print(\"DNA sequence\", dna)\n",
    "\n",
    "rna = dna.replace(\"T\", \"U\")\n",
    "print(\"RNA sequence\", rna)\n"
   ]
  },
  {
   "cell_type": "markdown",
   "id": "0647dfa8-0f9d-4210-a46a-31657f545fde",
   "metadata": {},
   "source": [
    "### Rosalind Problem - Counting Point Mutations\n",
    "\n",
    "Go on [Rosalind](http://rosalind.info/problems/hamm/) website.\n",
    "\n",
    "> Given two strings 's' and 't' of equal length, the Hamming distance between 's' and 't', denoted dH(s,t), is the number of corresponding symbols that differ in 's' and 't'\n",
    "\n",
    "> Given: Two DNA strings 's' and 't' of equal length (not exceeding 1 kbp).\n",
    "\n",
    "> Return: The Hamming distance dH(s,t).\n",
    "\n"
   ]
  },
  {
   "cell_type": "code",
   "execution_count": null,
   "id": "705196f7-a5b0-4cde-9627-835d45746708",
   "metadata": {},
   "outputs": [],
   "source": [
    "## Correction\n",
    "\n",
    "#method1 with a while loop\n",
    "a = \"TTAGTTTCAATCGTCCCTAATGCCTTTCCTGGAAATCCAGTCTACGCTGGGCTATTAACGCCGGAACTTTTAGAGTGCCTCGACCTGTTCCTAAA\"\n",
    "b = \"TTATACGAAATCATCAGTTGTTACAGTCCAGGTAAACCAATGGGACCGTCGGTATCCCCGAGGAAGCTCATACGAAGGGGCGCAATGTGAACCAT\"\n",
    "n = 0\n",
    "hamming = 0\n",
    "\n",
    "while n <= len(a)-1: # as long as n is <= than length of seq A minus 1\n",
    "    if a[n] != b[n]: # compare each base from A with related base from B\n",
    "        hamming += 1 # if different, we add 1 to the hamming counter\n",
    "    n += 1 # the loop will run as long as n <= len(a)-1, then stop    \n",
    "    \n",
    "print(\"The number of mutations between sequence A and B is\", hamming)\n",
    "\n",
    "#method2 with a function\n",
    "def hamming(a, b):\n",
    "    return len(list(filter(lambda pair: pair[0]!=pair[1], zip(a,b))))\n",
    "\n",
    "hamming(a,b) "
   ]
  },
  {
   "cell_type": "markdown",
   "id": "a8078d01-c3b9-4d7b-abff-56bd8a6348f2",
   "metadata": {},
   "source": [
    "### Rosalind Problem - Finding a Motif in DNA\n",
    "\n",
    "Go on [Rosalind](http://rosalind.info/problems/subs/) website.\n",
    "\n",
    "> Given two strings 's' and 't', 't' is a substring of 's' if 't' is contained as a contiguous collection of symbols in 's' (as a result, t must be no longer than s).\n",
    "\n",
    "> The position of a symbol in a string is the total number of symbols found to its left, including itself (e.g., the positions of all occurrences of 'U' in \"AUGCUUCAGAAAGGUCUUACG\" are 2, 5, 6, 15, 17, and 18). \n",
    "\n",
    "> The symbol at position i of 's' is denoted by s[i]\n",
    "\n",
    "> A substring of s can be represented as s[j:k], where j and k represent the starting and ending positions of the substring in s; \n",
    "\n",
    "> for example, if s = \"AUGCUUCAGAAAGGUCUUACG\", then s[2:5] = \"UGCU\".\n",
    "\n",
    "> The location of a substring s[j:k] is its beginning position j; note that t will have multiple locations in 's' if it occurs more than once as a substring of 's' \n",
    "\n",
    "> Given: Two DNA strings 's' and 't' (each of length at most 1 kbp).\n",
    "\n",
    "> Return: All locations of 't' as a substring of 's'."
   ]
  },
  {
   "cell_type": "code",
   "execution_count": null,
   "id": "8e11e888-5757-4e0c-9152-83572f4e9546",
   "metadata": {},
   "outputs": [],
   "source": [
    "## Correction\n",
    "s,t = open('rosalind_subs_1_dataset.txt').read().split()\n",
    "print(\"Sequence is\", s)\n",
    "print(\"Motif to find is\", t)\n",
    "\n",
    "loc = []\n",
    "for i in range(len(s)):\n",
    "    if s[i:].startswith(t):\n",
    "        print(i+1) # why? hint: python starts counting at 0\n",
    "        loc.append(i+1)\n",
    "\n",
    "print(\"The motif can be find at positions:\", loc)\n",
    "        \n"
   ]
  },
  {
   "cell_type": "markdown",
   "id": "a09f48ec-1cc5-4ef5-83ce-feee6149c1dc",
   "metadata": {
    "tags": []
   },
   "source": [
    "### Section 02 - Biopython\n",
    "---\n",
    "\n",
    "When starting to code, chances are you on not the first person to try and write code to solve that problem. Some very clever biologists wrote a package called biopython that has most of the functionality one would ever need in a python program. \n",
    "\n",
    "[See the cookbook for biopython](http://biopython.org/DIST/docs/tutorial/Tutorial.html)\n",
    "\n"
   ]
  },
  {
   "cell_type": "code",
   "execution_count": null,
   "id": "f9267987-ac3f-4de4-946f-ed16cdcee6cd",
   "metadata": {},
   "outputs": [],
   "source": [
    "# if biopython not installed\n",
    "!pip install biopython"
   ]
  },
  {
   "cell_type": "code",
   "execution_count": null,
   "id": "6a6e7fad-ed0e-4bba-aa66-6c4356c1b8f2",
   "metadata": {},
   "outputs": [],
   "source": [
    "# if no pip (but you should have it automatically installed with python3)\n",
    "# !python -m ensurepip --upgrade"
   ]
  },
  {
   "cell_type": "code",
   "execution_count": null,
   "id": "07deb7f8-c5ca-4253-8c7a-444e9a62fe73",
   "metadata": {},
   "outputs": [],
   "source": [
    "# Check the installation and path\n",
    "from Bio import SeqIO\n",
    "print(SeqIO.__file__)\n",
    "\n"
   ]
  },
  {
   "cell_type": "code",
   "execution_count": null,
   "id": "9954241f-9431-481a-902a-7a7961eef311",
   "metadata": {},
   "outputs": [],
   "source": [
    "# For example\n",
    "from Bio.Seq import Seq\n",
    "\n",
    "# we can convert a string into a sequence object using Seq()\n",
    "myDNA = Seq(\"agttgcccag\")\n",
    "\n",
    "# Use the function 'reverse_complement()'\n",
    "print(myDNA.reverse_complement())"
   ]
  },
  {
   "cell_type": "markdown",
   "id": "e91605ca-5c69-4fd6-8922-5645a8a3b830",
   "metadata": {},
   "source": [
    "### Rosalind Problem - Transcribing DNA into RNA\n",
    "\n",
    "Repeat this [Rosalind](http://rosalind.info/problems/rna/) exercice using a biopython function.\n",
    "\n",
    "> An RNA string is a string formed from the alphabet containing 'A', 'C', 'G', and 'U'.\n",
    "\n",
    "> Given a DNA string 't' corresponding to a coding strand, its transcribed RNA string u is formed by replacing all occurrences of 'T' in t with 'U' in u\n",
    "\n",
    "> Given: A DNA string 't' having length at most 1000 nt.\n",
    "\n",
    "> Return: The transcribed RNA string of 't'"
   ]
  },
  {
   "cell_type": "code",
   "execution_count": null,
   "id": "40dbdfa0-bbc8-40f6-94fc-1c60b2b47991",
   "metadata": {},
   "outputs": [],
   "source": [
    "dna = open('rosalind_rna_1_dataset.txt', 'r').read()\n",
    "#dna = dna.read()\n",
    "dna = Seq(dna)\n",
    "\n",
    "#dna = Seq(\"GTGCTTAGACACTACCCTGCTGCTACGTTTGTTACGACGTGTCTATACCTGTTATCTAGACTTTACAAACCGAAGTAGGCCAACATTTGCGAAATTTAAAGTGACGAGTGCCAG\")\n",
    "print(dna)\n",
    "print(dna.transcribe())"
   ]
  },
  {
   "cell_type": "markdown",
   "id": "d814aa76-1626-4d42-bee4-7299b36dc074",
   "metadata": {},
   "source": [
    "To convert between DNA and RNA we can use the `transcribe()` function and to convert between DNA/RNA and amino acids we can use the `translate()` function:"
   ]
  },
  {
   "cell_type": "code",
   "execution_count": null,
   "id": "aae8aad0-9318-4a59-b2a7-ec7b3a4edca7",
   "metadata": {},
   "outputs": [],
   "source": [
    "myDNA = Seq(\"agtcaatcccaacgggagccccag\")\n",
    "\n",
    "\n",
    "myRNA = myDNA.transcribe()\n",
    "myProtein = myDNA.translate()\n",
    "\n",
    "print(myRNA)\n",
    "print(myProtein)"
   ]
  },
  {
   "cell_type": "markdown",
   "id": "3a916c2b-90f8-4d3a-9a2c-e9b73e16445d",
   "metadata": {},
   "source": [
    "### Reading fasta files - Python Core\n",
    "\n",
    "One of the most common methods to store DNA and protein information is in FASTA files. The consist of two main elements: \n",
    "\n",
    "- the title of the sequence (also called header) preceded by a '>'\n",
    "- the sequence\n"
   ]
  },
  {
   "cell_type": "raw",
   "id": "d1f492c1-fc32-49ed-a271-236b4a428ec3",
   "metadata": {},
   "source": [
    ">Wrapped_seq\n",
    "GGGAAAGGAAGGGGAAAAAAAAATTTTAAAGGAATTAAAGGAATGGAATTTAAAGGAGGAAATTTAAAAGAAAGAAGGGAATTGGTAAGGAAAGGAAAGGAA\n",
    "\n",
    ">MultiLine_seq\n",
    "GGGAATTTGGGGAAATTTAAAAGAAAGAAGGGAATTTGGGGAAATTTAAAAGAAAGAA\n",
    "GGAATTTAAAGGAGGAAATTTAAAAGAAAGAAGGGAATTGGTAAGGAAAGGAAAGGAA"
   ]
  },
  {
   "cell_type": "markdown",
   "id": "1c650d63-b087-4db5-80c9-62ffe2c57324",
   "metadata": {},
   "source": [
    "Notice how the the sequence can be wrapped or multiple lines? This can be frustrating whey trying to read fasta files using the core python functions.  "
   ]
  },
  {
   "cell_type": "code",
   "execution_count": null,
   "id": "884b713c-6308-4c5b-8bed-9e563ba2eb7e",
   "metadata": {},
   "outputs": [],
   "source": [
    "# Let's try and make a dictionary storing \n",
    "# the sequence title as a key and the sequence as the value\n",
    "seqDict={}\n",
    "myLines = open(\"MyFastaLines.txt\").readlines()\n",
    "\n",
    "print(myLines) # you can see there are /n characters? these are 'end-of-line characters'\n",
    "# we can remove these using '.strip()' function\n",
    "\n",
    "for line in myLines:\n",
    "    print(line)  \n",
    "    l = line.strip()\n",
    "    if  l.startswith(\">\"):\n",
    "        #Easy, if the line starts with a > then it must be the header\n",
    "        titleline= l\n",
    "        seqDict[titleline]=\"\" # here the first line is set as the key in the dictionnary\n",
    "    else:\n",
    "        # The next line must be part of the sequence\n",
    "        seqDict[titleline]+= l # the other lines are set as value in the dictionnary\n",
    "        \n",
    "# does this look right?\n",
    "print(seqDict)\n",
    "\n",
    "# How you could fix this code? \n",
    "# seqDict[titleline]+= l"
   ]
  },
  {
   "cell_type": "markdown",
   "id": "7ead6fa1-edb3-41de-b8f4-a0fccd4006f7",
   "metadata": {},
   "source": [
    "### Writing fasta files - Python Core\n",
    "\n",
    "You can create a fasta file using python core from variables of your choosing. "
   ]
  },
  {
   "cell_type": "code",
   "execution_count": null,
   "id": "0510dd31-05ec-45a8-8fc3-73732837dafd",
   "metadata": {},
   "outputs": [],
   "source": [
    "seqDict = {\"seq1\":\"AGTCGTA\", \"seq2\":\"GTCACTGC\"}\n",
    "\n",
    "#one way\n",
    "with open(\"myoutputSeq.fasta\",\"w\") as output:\n",
    "    for seq in seqDict:\n",
    "        output.write(\">\" + seq + \"\\n\" + seqDict[seq] + \"\\n\")\n",
    "        \n",
    "#another way using % operator\n",
    "with open(\"myoutputSeq.fasta\",\"w\") as output:\n",
    "    for seq in seqDict:\n",
    "        # %s operator is read as a placeholder for the strings in the parentheses \n",
    "        # after the string\n",
    "        output.write(\">%s\\n%s\\n\" % (seq, seqDict[seq]))\n"
   ]
  },
  {
   "cell_type": "markdown",
   "id": "b0001565-8188-46cf-9b23-b4f73914e004",
   "metadata": {},
   "source": [
    "### Biopython and Fasta files \n",
    "\n",
    "Of course, there is a much easier way to read and write fasta files using biopython using the `SeqIO` module. "
   ]
  },
  {
   "cell_type": "code",
   "execution_count": null,
   "id": "dd10ed6b-0f38-4be5-8957-bb89da4e104d",
   "metadata": {},
   "outputs": [],
   "source": [
    "from Bio import SeqIO\n",
    "\n",
    "# SeqIO.read takes two arguments, the file and the format of the file\n",
    "# you can use 'read' when you file has one sequence\n",
    "record = SeqIO.read(\"myFavouriteProtein_ncbi.fasta\", 'fasta')\n",
    "\n",
    "#Here is some information available in the 'record' object\n",
    "header = record.description\n",
    "id = record.id\n",
    "sequence = record.seq\n",
    "\n",
    "print(header)\n",
    "print(id)\n",
    "print(sequence)\n",
    "\n",
    "# You can write this record to another file\n",
    "SeqIO.write(record, \"myFavouriteProtein_ncbi_copy.fasta\", \"fasta\")"
   ]
  },
  {
   "cell_type": "code",
   "execution_count": null,
   "id": "3d33d1de-6f64-4f56-9e2f-1941e92b0958",
   "metadata": {},
   "outputs": [],
   "source": [
    "# You can read a file with more than one sequence using  SeqIO.parse()\n",
    "outputList = []\n",
    "for record in SeqIO.parse(\"NFU1_proteins.fasta\", 'fasta'):\n",
    "    outputList.append(record)\n",
    "    # however, to write more than one sequence to a file using SeqIO, \n",
    "    # you have to save the record objects in a list and write them later\n",
    "\n",
    "SeqIO.write(outputList, \"NFU1_proteins_copy.fasta\", \"fasta\")"
   ]
  },
  {
   "cell_type": "code",
   "execution_count": null,
   "id": "1516dacf-9bfd-455a-894f-f6cfc7c8f265",
   "metadata": {},
   "outputs": [],
   "source": [
    "# HAND IN #5\n",
    "\n",
    "# Write a fasta parser for the fastafile 'NFU1_proteins.fasta'\n",
    "# Use this parser to indicate how many sequences are in the file\n",
    "\n",
    "# make a file with the longest sequence called 'NFU1_longestSeq.fasta'\n",
    "\n",
    "# save the lengths of all the proteins as a list 'all_seq_lengths\n",
    "\n",
    "\n"
   ]
  },
  {
   "cell_type": "code",
   "execution_count": null,
   "id": "32bd4009-ecfe-4d13-867f-90ef53c3bf6f",
   "metadata": {},
   "outputs": [],
   "source": [
    "from Bio import SeqIO\n",
    "\n",
    "maxSeqs=[] # the records of the longest sequences\n",
    "maxSeq_length = 0 # a list in wich we will store the length of the longest sequence\n",
    "all_seq_lengths = [] # a list to store all the different lengths\n",
    "\n",
    "for record in SeqIO.parse(\"NFU1_proteins.fasta\", 'fasta'):\n",
    "    all_seq_lengths.append(len(record.seq))\n",
    "    if len(record.seq) > maxSeq_length:\n",
    "        # wipe the list! we found a new winner!\n",
    "        maxSeqs=[]\n",
    "        maxSeq_length = len(record.seq)\n",
    "        maxSeqs.append(record)\n",
    "    elif len(record.seq) == maxSeq_length:\n",
    "        # we found something the same lenght as the best, add it to the list!\n",
    "        maxSeqs.append(record)\n",
    "        \n",
    "print(\"There are %i sequences in the file\" % (len(all_seq_lengths)))\n",
    "\n",
    "print(\"The longest sequence as a lenght of\", maxSeq_length)\n",
    "print(\"Here are all the sequences length\", all_seq_lengths)\n",
    "\n",
    "SeqIO.write(maxSeqs, \"NFU1_longestSeq.fasta\", \"fasta\")"
   ]
  }
 ],
 "metadata": {
  "kernelspec": {
   "display_name": "Python 3 (ipykernel)",
   "language": "python",
   "name": "python3"
  },
  "language_info": {
   "codemirror_mode": {
    "name": "ipython",
    "version": 3
   },
   "file_extension": ".py",
   "mimetype": "text/x-python",
   "name": "python",
   "nbconvert_exporter": "python",
   "pygments_lexer": "ipython3",
   "version": "3.9.7"
  }
 },
 "nbformat": 4,
 "nbformat_minor": 5
}
