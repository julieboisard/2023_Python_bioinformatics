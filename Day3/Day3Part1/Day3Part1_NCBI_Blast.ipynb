{
 "cells": [
  {
   "cell_type": "markdown",
   "id": "4b764281-682b-499f-89bb-e1f92914b1ef",
   "metadata": {
    "tags": []
   },
   "source": [
    "# Day 3 Part 1\n",
    "\n",
    "Learning objectives\n",
    "- Use NCBI e-utilities with biopython\n",
    "- Use BLAST with the command line\n"
   ]
  },
  {
   "cell_type": "markdown",
   "id": "9b7b023c-7d4c-4aeb-ae36-9f5ae0430877",
   "metadata": {
    "tags": []
   },
   "source": [
    "## Section 01 - e-utilities with biopython \n",
    "---\n",
    "\n",
    "You can access the NCBI databases using e-utilities. There is a standalone version of e-utilities you can use from the command line, but there are also ways to exectue e-utilities from within python. See section 9.6 in the biopython cookbook. \n",
    "\n",
    "Here, we will import e-utilities 'Entrez' module from the Bio package. You should put in your email address to tell them who you are. We first have to generate a search term and tell the program which database we would like to access.  This search strategy is often called a 'handle'. Here, we are querying the protein database (db=\"protein\") for the accession number AKA62179, (id=\"AKA62179\") and we would like to retrieve this in genbank format (rettype=gb) as text (retmode=text).  "
   ]
  },
  {
   "cell_type": "code",
   "execution_count": null,
   "id": "f93027b9-69a0-4c12-b745-dbb46caa8110",
   "metadata": {
    "tags": []
   },
   "outputs": [],
   "source": [
    "from Bio import SeqIO\n",
    "from Bio import Entrez\n",
    "Entrez.email = \"A.N.Other@example.com\"  # tell NCBI who you are \n",
    "handle = Entrez.efetch(db=\"protein\", id=\"AKA62179\", rettype=\"gb\", retmode=\"text\")"
   ]
  },
  {
   "cell_type": "markdown",
   "id": "c6c49b86-2ba2-4aa7-984d-aea6faabc483",
   "metadata": {
    "tags": []
   },
   "source": [
    "This 'handle' can be read by read function within the SeqIO module (we used this above for reading fasta files). Just like before, we should tell .read() what the format of the input object is. In this case, it is in genbank format. Now, all the information from genbank for the AKA62179 sequence is stored in `record`. "
   ]
  },
  {
   "cell_type": "code",
   "execution_count": null,
   "id": "d758383a-393a-4308-8770-4cda0b09d12b",
   "metadata": {},
   "outputs": [],
   "source": [
    "record = SeqIO.read(handle, \"genbank\")\n",
    "\n",
    "# file = SeqIO.read(\"Myfasta.fasta\", \"fasta\")\n",
    "\n",
    "# As before, this sequence record has attributes associated with it such as \n",
    "# .id, .description, .seq\n",
    "print(record.id)\n",
    "print(record.description)\n",
    "print(record.seq)"
   ]
  },
  {
   "cell_type": "markdown",
   "id": "0bb383e8-c6d4-4029-b32b-adc878b6211d",
   "metadata": {},
   "source": [
    "But since we retrieved the entire record of this sequence from the internet, we can also access other information stored as a dictionary in `record.annotations`. Let's see what information is stored in the keys of the dictionary"
   ]
  },
  {
   "cell_type": "code",
   "execution_count": null,
   "id": "4b7ca686-2df2-4407-8dbf-34657d9a7672",
   "metadata": {},
   "outputs": [],
   "source": [
    "record.annotations.keys()"
   ]
  },
  {
   "cell_type": "code",
   "execution_count": null,
   "id": "feecdb8e-30c4-4926-abd1-338347184214",
   "metadata": {},
   "outputs": [],
   "source": [
    "## print two annotations associated with this record. \n",
    "## Remember how to work with dictionaries?\n",
    "\n",
    "record.annotations[\"source\"]\n"
   ]
  },
  {
   "cell_type": "markdown",
   "id": "420c59c2-2bd6-4571-8935-109fee654031",
   "metadata": {},
   "source": [
    "Rarely will we want to retrieve only one sequence at a time. Thankfully it is possible to `efetch` multiple IDs by providing a list, here as `desired_ids`. "
   ]
  },
  {
   "cell_type": "code",
   "execution_count": null,
   "id": "9bca5429-2610-4138-99b0-63373a7fe753",
   "metadata": {},
   "outputs": [],
   "source": [
    "desired_ids  = [\"B4S1U9\",\"AKA62179\"]\n",
    "handle = Entrez.efetch(db=\"protein\", id=desired_ids, rettype=\"gb\", retmode=\"text\")\n"
   ]
  },
  {
   "cell_type": "markdown",
   "id": "815d7ec2-0044-42e1-b274-2ae97577eb4d",
   "metadata": {},
   "source": [
    "Now the search results for all elements of the list are stored in `handle`. \n",
    "\n",
    "However, remember what we had to do when trying to read a fasta file with more than one entry? \n",
    "\n",
    "Which `SeqIO` function did we have to use? Fill in the '????' below."
   ]
  },
  {
   "cell_type": "code",
   "execution_count": null,
   "id": "1274dc8b-1146-463c-b2de-cf0de8e0497f",
   "metadata": {},
   "outputs": [],
   "source": [
    "records = SeqIO.parse(handle, \"genbank\")\n",
    "\n",
    "# Like above, let's collect the record for each of these accessions in a list\n",
    "# For writing\n",
    "\n",
    "seqList = []\n",
    "\n",
    "for record in records:\n",
    "    seqList.append(record)\n",
    "        \n",
    "SeqIO.write(seqList, \"efetched_sequences.fasta\", \"fasta\")"
   ]
  },
  {
   "cell_type": "code",
   "execution_count": null,
   "id": "a068d3f4-482c-454b-98d8-4f4cd69667d8",
   "metadata": {},
   "outputs": [],
   "source": [
    "# PRACTICE\n",
    "# Do this exercice again using proteins of interest to you\n",
    "# Write the efetched sequences in a new fasta file\n",
    "\n"
   ]
  },
  {
   "cell_type": "code",
   "execution_count": null,
   "id": "53f7e533-9f56-4623-bfdf-092178930c14",
   "metadata": {},
   "outputs": [],
   "source": [
    "### Hand-in #6\n",
    "\n",
    "#  the file 'accessions.txt' is a list of accession numbers\n",
    "#  With one accession number per line\n",
    "\n",
    "\n",
    "# Use efetch to produce a fasta file of these accession numbers\n",
    "\n",
    "\n",
    "\n",
    "\n",
    "\n",
    "\n",
    "\n",
    "\n",
    "\n",
    "\n"
   ]
  },
  {
   "cell_type": "code",
   "execution_count": null,
   "id": "a8c71891-5abe-4934-b785-5a0d3b3bb276",
   "metadata": {},
   "outputs": [],
   "source": [
    "acc = open(\"accessions.txt\", \"r\")\n",
    "acc = acc.readlines()\n",
    "\n",
    "myList = []\n",
    "\n",
    "for i in acc:\n",
    "    myList.append(i.strip())\n",
    "#print(myList)\n",
    "\n",
    "for i in myList:\n",
    "  print(i)\n",
    "  handle = Entrez.efetch(db=\"protein\", id=myList, rettype=\"gb\", retmode=\"text\")\n",
    "\n",
    "records = SeqIO.parse(handle, \"genbank\")\n",
    "\n",
    "seqList = []\n",
    "\n",
    "for record in records:\n",
    "   seqList.append(record)\n",
    "\n",
    "print(seqList)\n",
    "\n",
    "SeqIO.write(seqList, \"efetched_sequences_from_accession_list.fasta\", \"fasta\")\n"
   ]
  },
  {
   "cell_type": "markdown",
   "id": "15a44fe5-9620-4f76-8261-feebf8c413ca",
   "metadata": {},
   "source": [
    "### Section 02 - Protein Analysis with biopython\n",
    "---\n",
    "\n",
    "We are going to use another biopython tool called 'ProteinAnalysis'"
   ]
  },
  {
   "cell_type": "code",
   "execution_count": null,
   "id": "92befdb5-77d3-461f-be1d-756290d97b65",
   "metadata": {
    "tags": []
   },
   "outputs": [],
   "source": [
    "from Bio.SeqUtils.ProtParam import ProteinAnalysis\n",
    "from Bio import SeqIO\n",
    "\n",
    "record = SeqIO.read(\"myFavouriteProtein_ncbi.fasta\", \"fasta\")\n",
    "sequence_str = str(record.seq)\n",
    "analyze_this = ProteinAnalysis(sequence_str)"
   ]
  },
  {
   "cell_type": "markdown",
   "id": "6a23d284-b829-46a3-bb74-f06035a1d886",
   "metadata": {
    "tags": []
   },
   "source": [
    "Here we stored the ProteinAnalysis of our sequence in 'analyze_this'.  Let's see what sort of analyses are available. Try the following:"
   ]
  },
  {
   "cell_type": "code",
   "execution_count": null,
   "id": "e29ec959-1320-43d4-8ec2-0ae91833edeb",
   "metadata": {
    "tags": []
   },
   "outputs": [],
   "source": [
    "vars(analyze_this)"
   ]
  },
  {
   "cell_type": "markdown",
   "id": "d94c3f1f-7d8d-49c8-8d96-b699bbb8794a",
   "metadata": {},
   "source": [
    "You will see that There are a couple elements that are already computed \n",
    "- Length\n",
    "- sequence\n",
    "\n",
    "But some entries like amino_acid_content/percentage are 'None'. \n",
    "\n",
    "We have to ask biopython to do those actions.  For example:"
   ]
  },
  {
   "cell_type": "code",
   "execution_count": null,
   "id": "f6e5a4fc-a800-4785-94cd-306a3d7ee163",
   "metadata": {
    "tags": []
   },
   "outputs": [],
   "source": [
    "analyze_this.count_amino_acids()"
   ]
  },
  {
   "cell_type": "markdown",
   "id": "59f89aa0-cab2-4680-b421-213b28534b2c",
   "metadata": {},
   "source": [
    "Store the counts of the amino acids in a dictionary called 'myAAcounts':"
   ]
  },
  {
   "cell_type": "code",
   "execution_count": null,
   "id": "51e6d573-75a6-43c9-a9d5-a7737bbde369",
   "metadata": {},
   "outputs": [],
   "source": [
    "myAAcounts = analyze_this.count_amino_acids()"
   ]
  },
  {
   "cell_type": "code",
   "execution_count": null,
   "id": "bfc75c14-2cea-4cca-8a69-2c2075eab4f1",
   "metadata": {
    "tags": []
   },
   "outputs": [],
   "source": [
    "myAAfreq = analyze_this.get_amino_acids_percent()"
   ]
  },
  {
   "cell_type": "markdown",
   "id": "24e0d8a9-e669-4442-b0f1-2c29492c45da",
   "metadata": {},
   "source": [
    "Let's check how analyze_this looks like now!"
   ]
  },
  {
   "cell_type": "code",
   "execution_count": null,
   "id": "4be52b49-d520-4a04-9c2e-4f207236c66e",
   "metadata": {
    "tags": []
   },
   "outputs": [],
   "source": [
    "vars(analyze_this)"
   ]
  },
  {
   "cell_type": "markdown",
   "id": "2b0ce01f-3846-4c08-929a-51e65e05d763",
   "metadata": {},
   "source": [
    "The `ProteinAnalysis` tool can also be used to calulate the aromaticity:"
   ]
  },
  {
   "cell_type": "code",
   "execution_count": null,
   "id": "b4c33cf1-24c0-4046-bd51-437416ecc0fd",
   "metadata": {},
   "outputs": [],
   "source": [
    "analyze_this.aromaticity()"
   ]
  },
  {
   "cell_type": "code",
   "execution_count": null,
   "id": "4b0a91d6-fc93-4bf8-982b-00e729f9b6df",
   "metadata": {},
   "outputs": [],
   "source": [
    "vars(analyze_this)"
   ]
  },
  {
   "cell_type": "code",
   "execution_count": null,
   "id": "f7c9ec8d-dba2-499a-89c2-886d1512c7f3",
   "metadata": {},
   "outputs": [],
   "source": [
    "gravy = analyze_this.gravy() # Grand Average of Hydropathy"
   ]
  },
  {
   "cell_type": "markdown",
   "id": "1d0affbb-e84a-40a1-8ce2-2c85ebfac4e8",
   "metadata": {},
   "source": [
    "GRAVY is a measure of hydrophobicity, the more positive the number is, the more hydrophobic the protein. Let's write a code block to parse our NFU1 proteins and find the most hydrophobic protein. "
   ]
  },
  {
   "cell_type": "code",
   "execution_count": null,
   "id": "f763d1cd-d7ef-4c95-96c2-c56deda46807",
   "metadata": {
    "tags": []
   },
   "outputs": [],
   "source": [
    "\n",
    "def find_gravy(record):\n",
    "    sequence_str = str(record.seq)\n",
    "    analyze_this = ProteinAnalysis(sequence_str)\n",
    "    return analyze_this.gravy()\n",
    "\n",
    "# Empty variables\n",
    "maxGravy = 0\n",
    "maxGravyList = []\n",
    "allGravy = []\n",
    "\n",
    "\n",
    "#for loop to iterate over fasta file\n",
    "for record in SeqIO.parse(\"NFU1_proteins.fasta\", \"fasta\"):\n",
    "    gravy = find_gravy(record)\n",
    "    allGravy.append(gravy)\n",
    "    if gravy >= maxGravy:\n",
    "        # new winner!\n",
    "        maxGravyList = []\n",
    "        maxGravy = gravy\n",
    "        maxGravyList.append(record)\n",
    "print(\"Sequence %s had the highest gravy score of %s\" % (record.id, str(maxGravy)))\n",
    "print(maxGravyList)\n"
   ]
  },
  {
   "cell_type": "markdown",
   "id": "e2081a2a-8559-4280-9868-c1f4b4a9998e",
   "metadata": {},
   "source": [
    "### Install matplotlib\n",
    "\n",
    "Type in the terminal in your environment: `conda install matplotlib`\n",
    "\n",
    "Let's plot all the gravy scores in a histogram!\n"
   ]
  },
  {
   "cell_type": "code",
   "execution_count": null,
   "id": "254ceee0-7b14-46b3-aa35-b216b5afb920",
   "metadata": {},
   "outputs": [],
   "source": [
    "#!conda install matplotlib"
   ]
  },
  {
   "cell_type": "code",
   "execution_count": null,
   "id": "dfd84974-dbdd-44d6-80d6-c6d0897831c3",
   "metadata": {
    "tags": []
   },
   "outputs": [],
   "source": [
    "import pylab\n",
    "pylab.hist(allGravy,bins=20)"
   ]
  },
  {
   "cell_type": "code",
   "execution_count": null,
   "id": "eed795f2-1099-44da-8e0b-d9c17248b87f",
   "metadata": {},
   "outputs": [],
   "source": [
    "## PRACTICE\n",
    "# Repeat the exercise using another sequence that you will fetch from NCBI. \n",
    "handle = Entrez.efetch(db=\"protein\", id=\"your protein of choise\", rettype=\"gb\", retmode=\"text\")\n",
    "\n"
   ]
  },
  {
   "cell_type": "markdown",
   "id": "4e031ebc-8e25-4225-9241-5be586d9cf0d",
   "metadata": {},
   "source": [
    "## Section 03 - BLAST\n",
    "---\n",
    "\n",
    "### Installing BLAST locally \n",
    "\n",
    "Let's install BLAST locally using conda.  \n",
    "\n",
    "Windows folks, please go here and download/install, keep track of where it installs in case we need to access the PATH: https://ftp.ncbi.nlm.nih.gov/blast/executables/blast+/LATEST/ncbi-blast-2.13.0+-x64-win64.tar.gz\n",
    "\n",
    "Follow these [instructions](https://2018-03-06-ibioic.readthedocs.io/en/latest/install_blast.html)\n"
   ]
  },
  {
   "cell_type": "code",
   "execution_count": null,
   "id": "1cef5ffe-fe5f-44e7-a2e2-a2960f8748e0",
   "metadata": {
    "tags": []
   },
   "outputs": [],
   "source": [
    "# MacOSX and Linux, you can get the conda package\n",
    "# type this line in a terminal (click on File > New > Terminal)\n",
    "# conda install -c bioconda blast "
   ]
  },
  {
   "cell_type": "code",
   "execution_count": 2,
   "id": "5a0a892c-eee3-4fff-af30-ffc1b52f8925",
   "metadata": {
    "tags": []
   },
   "outputs": [
    {
     "name": "stdout",
     "output_type": "stream",
     "text": [
      "USAGE\n",
      "  blastp [-h] [-help] [-import_search_strategy filename]\n",
      "    [-export_search_strategy filename] [-task task_name] [-db database_name]\n",
      "    [-dbsize num_letters] [-gilist filename] [-seqidlist filename]\n",
      "    [-negative_gilist filename] [-entrez_query entrez_query]\n",
      "    [-db_soft_mask filtering_algorithm] [-db_hard_mask filtering_algorithm]\n",
      "    [-subject subject_input_file] [-subject_loc range] [-query input_file]\n",
      "    [-out output_file] [-evalue evalue] [-word_size int_value]\n",
      "    [-gapopen open_penalty] [-gapextend extend_penalty]\n",
      "    [-qcov_hsp_perc float_value] [-max_hsps int_value]\n",
      "    [-xdrop_ungap float_value] [-xdrop_gap float_value]\n",
      "    [-xdrop_gap_final float_value] [-searchsp int_value]\n",
      "    [-sum_stats bool_value] [-seg SEG_options] [-soft_masking soft_masking]\n",
      "    [-matrix matrix_name] [-threshold float_value] [-culling_limit int_value]\n",
      "    [-best_hit_overhang float_value] [-best_hit_score_edge float_value]\n",
      "    [-window_size int_value] [-lcase_masking] [-query_loc range]\n",
      "    [-parse_deflines] [-outfmt format] [-show_gis]\n",
      "    [-num_descriptions int_value] [-num_alignments int_value]\n",
      "    [-line_length line_length] [-html] [-max_target_seqs num_sequences]\n",
      "    [-num_threads int_value] [-ungapped] [-remote] [-comp_based_stats compo]\n",
      "    [-use_sw_tback] [-version]\n",
      "\n",
      "DESCRIPTION\n",
      "   Protein-Protein BLAST 2.5.0+\n",
      "\n",
      "OPTIONAL ARGUMENTS\n",
      " -h\n",
      "   Print USAGE and DESCRIPTION;  ignore all other parameters\n",
      " -help\n",
      "   Print USAGE, DESCRIPTION and ARGUMENTS; ignore all other parameters\n",
      " -version\n",
      "   Print version number;  ignore other arguments\n",
      "\n",
      " *** Input query options\n",
      " -query <File_In>\n",
      "   Input file name\n",
      "   Default = `-'\n",
      " -query_loc <String>\n",
      "   Location on the query sequence in 1-based offsets (Format: start-stop)\n",
      "\n",
      " *** General search options\n",
      " -task <String, Permissible values: 'blastp' 'blastp-fast' 'blastp-short' >\n",
      "   Task to execute\n",
      "   Default = `blastp'\n",
      " -db <String>\n",
      "   BLAST database name\n",
      "    * Incompatible with:  subject, subject_loc\n",
      " -out <File_Out>\n",
      "   Output file name\n",
      "   Default = `-'\n",
      " -evalue <Real>\n",
      "   Expectation value (E) threshold for saving hits \n",
      "   Default = `10'\n",
      " -word_size <Integer, >=2>\n",
      "   Word size for wordfinder algorithm\n",
      " -gapopen <Integer>\n",
      "   Cost to open a gap\n",
      " -gapextend <Integer>\n",
      "   Cost to extend a gap\n",
      " -matrix <String>\n",
      "   Scoring matrix name (normally BLOSUM62)\n",
      " -threshold <Real, >=0>\n",
      "   Minimum word score such that the word is added to the BLAST lookup table\n",
      " -comp_based_stats <String>\n",
      "   Use composition-based statistics:\n",
      "       D or d: default (equivalent to 2 )\n",
      "       0 or F or f: No composition-based statistics\n",
      "       1: Composition-based statistics as in NAR 29:2994-3005, 2001\n",
      "       2 or T or t : Composition-based score adjustment as in Bioinformatics\n",
      "   21:902-911,\n",
      "       2005, conditioned on sequence properties\n",
      "       3: Composition-based score adjustment as in Bioinformatics 21:902-911,\n",
      "       2005, unconditionally\n",
      "   Default = `2'\n",
      "\n",
      " *** BLAST-2-Sequences options\n",
      " -subject <File_In>\n",
      "   Subject sequence(s) to search\n",
      "    * Incompatible with:  db, gilist, seqidlist, negative_gilist,\n",
      "   db_soft_mask, db_hard_mask\n",
      " -subject_loc <String>\n",
      "   Location on the subject sequence in 1-based offsets (Format: start-stop)\n",
      "    * Incompatible with:  db, gilist, seqidlist, negative_gilist,\n",
      "   db_soft_mask, db_hard_mask, remote\n",
      "\n",
      " *** Formatting options\n",
      " -outfmt <String>\n",
      "   alignment view options:\n",
      "     0 = Pairwise,\n",
      "     1 = Query-anchored showing identities,\n",
      "     2 = Query-anchored no identities,\n",
      "     3 = Flat query-anchored showing identities,\n",
      "     4 = Flat query-anchored no identities,\n",
      "     5 = BLAST XML,\n",
      "     6 = Tabular,\n",
      "     7 = Tabular with comment lines,\n",
      "     8 = Seqalign (Text ASN.1),\n",
      "     9 = Seqalign (Binary ASN.1),\n",
      "    10 = Comma-separated values,\n",
      "    11 = BLAST archive (ASN.1),\n",
      "    12 = Seqalign (JSON),\n",
      "    13 = Multiple-file BLAST JSON,\n",
      "    14 = Multiple-file BLAST XML2,\n",
      "    15 = Single-file BLAST JSON,\n",
      "    16 = Single-file BLAST XML2,\n",
      "    18 = Organism Report\n",
      "   \n",
      "   Options 6, 7 and 10 can be additionally configured to produce\n",
      "   a custom format specified by space delimited format specifiers.\n",
      "   The supported format specifiers are:\n",
      "   \t    qseqid means Query Seq-id\n",
      "   \t       qgi means Query GI\n",
      "   \t      qacc means Query accesion\n",
      "   \t   qaccver means Query accesion.version\n",
      "   \t      qlen means Query sequence length\n",
      "   \t    sseqid means Subject Seq-id\n",
      "   \t sallseqid means All subject Seq-id(s), separated by a ';'\n",
      "   \t       sgi means Subject GI\n",
      "   \t    sallgi means All subject GIs\n",
      "   \t      sacc means Subject accession\n",
      "   \t   saccver means Subject accession.version\n",
      "   \t   sallacc means All subject accessions\n",
      "   \t      slen means Subject sequence length\n",
      "   \t    qstart means Start of alignment in query\n",
      "   \t      qend means End of alignment in query\n",
      "   \t    sstart means Start of alignment in subject\n",
      "   \t      send means End of alignment in subject\n",
      "   \t      qseq means Aligned part of query sequence\n",
      "   \t      sseq means Aligned part of subject sequence\n",
      "   \t    evalue means Expect value\n",
      "   \t  bitscore means Bit score\n",
      "   \t     score means Raw score\n",
      "   \t    length means Alignment length\n",
      "   \t    pident means Percentage of identical matches\n",
      "   \t    nident means Number of identical matches\n",
      "   \t  mismatch means Number of mismatches\n",
      "   \t  positive means Number of positive-scoring matches\n",
      "   \t   gapopen means Number of gap openings\n",
      "   \t      gaps means Total number of gaps\n",
      "   \t      ppos means Percentage of positive-scoring matches\n",
      "   \t    frames means Query and subject frames separated by a '/'\n",
      "   \t    qframe means Query frame\n",
      "   \t    sframe means Subject frame\n",
      "   \t      btop means Blast traceback operations (BTOP)\n",
      "   \t    staxid means Subject Taxonomy ID\n",
      "   \t  ssciname means Subject Scientific Name\n",
      "   \t  scomname means Subject Common Name\n",
      "   \tsblastname means Subject Blast Name\n",
      "   \t sskingdom means Subject Super Kingdom\n",
      "   \t   staxids means unique Subject Taxonomy ID(s), separated by a ';'\n",
      "   \t\t\t (in numerical order)\n",
      "   \t sscinames means unique Subject Scientific Name(s), separated by a ';'\n",
      "   \t scomnames means unique Subject Common Name(s), separated by a ';'\n",
      "   \tsblastnames means unique Subject Blast Name(s), separated by a ';'\n",
      "   \t\t\t (in alphabetical order)\n",
      "   \tsskingdoms means unique Subject Super Kingdom(s), separated by a ';'\n",
      "   \t\t\t (in alphabetical order) \n",
      "   \t    stitle means Subject Title\n",
      "   \tsalltitles means All Subject Title(s), separated by a '<>'\n",
      "   \t   sstrand means Subject Strand\n",
      "   \t     qcovs means Query Coverage Per Subject\n",
      "   \t   qcovhsp means Query Coverage Per HSP\n",
      "   \t    qcovus means Query Coverage Per Unique Subject (blastn only)\n",
      "   When not provided, the default value is:\n",
      "   'qacc sacc pident length mismatch gapopen qstart qend sstart send evalue\n",
      "   bitscore', which is equivalent to the keyword 'std'\n",
      "   Default = `0'\n",
      " -show_gis\n",
      "   Show NCBI GIs in deflines?\n",
      " -num_descriptions <Integer, >=0>\n",
      "   Number of database sequences to show one-line descriptions for\n",
      "   Not applicable for outfmt > 4\n",
      "   Default = `500'\n",
      "    * Incompatible with:  max_target_seqs\n",
      " -num_alignments <Integer, >=0>\n",
      "   Number of database sequences to show alignments for\n",
      "   Default = `250'\n",
      "    * Incompatible with:  max_target_seqs\n",
      " -line_length <Integer, >=1>\n",
      "   Line length for formatting alignments\n",
      "   Not applicable for outfmt > 4\n",
      "   Default = `60'\n",
      " -html\n",
      "   Produce HTML output?\n",
      "\n",
      " *** Query filtering options\n",
      " -seg <String>\n",
      "   Filter query sequence with SEG (Format: 'yes', 'window locut hicut', or\n",
      "   'no' to disable)\n",
      "   Default = `no'\n",
      " -soft_masking <Boolean>\n",
      "   Apply filtering locations as soft masks\n",
      "   Default = `false'\n",
      " -lcase_masking\n",
      "   Use lower case filtering in query and subject sequence(s)?\n",
      "\n",
      " *** Restrict search or results\n",
      " -gilist <String>\n",
      "   Restrict search of database to list of GI's\n",
      "    * Incompatible with:  negative_gilist, seqidlist, remote, subject,\n",
      "   subject_loc\n",
      " -seqidlist <String>\n",
      "   Restrict search of database to list of SeqId's\n",
      "    * Incompatible with:  gilist, negative_gilist, remote, subject,\n",
      "   subject_loc\n",
      " -negative_gilist <String>\n",
      "   Restrict search of database to everything except the listed GIs\n",
      "    * Incompatible with:  gilist, seqidlist, remote, subject, subject_loc\n",
      " -entrez_query <String>\n",
      "   Restrict search with the given Entrez query\n",
      "    * Requires:  remote\n",
      " -db_soft_mask <String>\n",
      "   Filtering algorithm ID to apply to the BLAST database as soft masking\n",
      "    * Incompatible with:  db_hard_mask, subject, subject_loc\n",
      " -db_hard_mask <String>\n",
      "   Filtering algorithm ID to apply to the BLAST database as hard masking\n",
      "    * Incompatible with:  db_soft_mask, subject, subject_loc\n",
      " -qcov_hsp_perc <Real, 0..100>\n",
      "   Percent query coverage per hsp\n",
      " -max_hsps <Integer, >=1>\n",
      "   Set maximum number of HSPs per subject sequence to save for each query\n",
      " -culling_limit <Integer, >=0>\n",
      "   If the query range of a hit is enveloped by that of at least this many\n",
      "   higher-scoring hits, delete the hit\n",
      "    * Incompatible with:  best_hit_overhang, best_hit_score_edge\n",
      " -best_hit_overhang <Real, (>0 and <0.5)>\n",
      "   Best Hit algorithm overhang value (recommended value: 0.1)\n",
      "    * Incompatible with:  culling_limit\n",
      " -best_hit_score_edge <Real, (>0 and <0.5)>\n",
      "   Best Hit algorithm score edge value (recommended value: 0.1)\n",
      "    * Incompatible with:  culling_limit\n",
      " -max_target_seqs <Integer, >=1>\n",
      "   Maximum number of aligned sequences to keep \n",
      "   Not applicable for outfmt <= 4\n",
      "   Default = `500'\n",
      "    * Incompatible with:  num_descriptions, num_alignments\n",
      "\n",
      " *** Statistical options\n",
      " -dbsize <Int8>\n",
      "   Effective length of the database \n",
      " -searchsp <Int8, >=0>\n",
      "   Effective length of the search space\n",
      " -sum_stats <Boolean>\n",
      "   Use sum statistics\n",
      "\n",
      " *** Search strategy options\n",
      " -import_search_strategy <File_In>\n",
      "   Search strategy to use\n",
      "    * Incompatible with:  export_search_strategy\n",
      " -export_search_strategy <File_Out>\n",
      "   File name to record the search strategy used\n",
      "    * Incompatible with:  import_search_strategy\n",
      "\n",
      " *** Extension options\n",
      " -xdrop_ungap <Real>\n",
      "   X-dropoff value (in bits) for ungapped extensions\n",
      " -xdrop_gap <Real>\n",
      "   X-dropoff value (in bits) for preliminary gapped extensions\n",
      " -xdrop_gap_final <Real>\n",
      "   X-dropoff value (in bits) for final gapped alignment\n",
      " -window_size <Integer, >=0>\n",
      "   Multiple hits window size, use 0 to specify 1-hit algorithm\n",
      " -ungapped\n",
      "   Perform ungapped alignment only?\n",
      "\n",
      " *** Miscellaneous options\n",
      " -parse_deflines\n",
      "   Should the query and subject defline(s) be parsed?\n",
      " -num_threads <Integer, >=1>\n",
      "   Number of threads (CPUs) to use in the BLAST search\n",
      "   Default = `1'\n",
      "    * Incompatible with:  remote\n",
      " -remote\n",
      "   Execute search remotely?\n",
      "    * Incompatible with:  gilist, seqidlist, negative_gilist, subject_loc,\n",
      "   num_threads\n",
      " -use_sw_tback\n",
      "   Compute locally optimal Smith-Waterman alignments?\n",
      "\n"
     ]
    }
   ],
   "source": [
    "# check that it is installed: \n",
    "!blastp -help"
   ]
  },
  {
   "cell_type": "code",
   "execution_count": null,
   "id": "580f1c69-825e-4644-8ab5-8754efa36b6b",
   "metadata": {},
   "outputs": [],
   "source": [
    "%%bash\n",
    "# make a new directory in our current directory\n",
    "mkdir BLASTdb\n",
    "\n",
    "#go into that directory\n",
    "cd BLASTdb\n",
    "\n",
    "#show available databases -- this will take a minute\n",
    "update_blastdb.pl --showall\n",
    "\n",
    "#download a small one: \n",
    "update_blastdb.pl --verbose --verbose --decompress swissprot "
   ]
  },
  {
   "cell_type": "code",
   "execution_count": null,
   "id": "657d1493-9a98-48eb-bec0-f72851ffc997",
   "metadata": {},
   "outputs": [],
   "source": [
    "%%bash\n",
    "pwd\n",
    "# Check if the database is there?\n",
    "cd BLASTdb/\n",
    "ls -lhtr"
   ]
  },
  {
   "cell_type": "code",
   "execution_count": null,
   "id": "5713898c-d021-4d2c-880a-35ce989f30db",
   "metadata": {},
   "outputs": [],
   "source": [
    "## DEFINE VARIABLES for the interactive python environment. \n",
    "%env blastQuery=blastQuery.fasta\n",
    "%env db=BLASTdb/swissprot"
   ]
  },
  {
   "cell_type": "code",
   "execution_count": null,
   "id": "fd3c7ba4-7662-4778-b99c-edd1beca980a",
   "metadata": {},
   "outputs": [],
   "source": [
    "# This sets the variables so they are acccessible in the bash"
   ]
  },
  {
   "cell_type": "code",
   "execution_count": null,
   "id": "9d0ea3d4-13f6-40e7-a07f-458be82f5766",
   "metadata": {},
   "outputs": [],
   "source": [
    "%%bash\n",
    "#Spaces are important here: \n",
    "# bash would like the file name without quotes: \n",
    "# call the variables with a $\n",
    "blastp -query $blastQuery -db $db -outfmt 6 -out $blastQuery.outfmt6.csv "
   ]
  },
  {
   "cell_type": "code",
   "execution_count": null,
   "id": "9223ffb0-c10e-4909-bfca-b4617469cb64",
   "metadata": {},
   "outputs": [],
   "source": [
    "# Look at the output file: \n",
    "!ls $blastQuery.outfmt6.csv\n",
    "# Bash: \n",
    "!head $blastQuery.outfmt6.csv"
   ]
  },
  {
   "cell_type": "markdown",
   "id": "0533977c-cceb-41a0-a741-9e1f046f22d7",
   "metadata": {},
   "source": [
    "The columns correspond to the following: \n",
    "> 'qaccver saccver pident length mismatch gapopen qstart qend sstart send evalue bitscore'\n",
    "\n",
    "- qaccver = query ID\n",
    "- saccver = hit ID\n",
    "- pident = percent identity\n",
    "- length = length\n",
    "- mismatch = mismatch\n",
    "- gapopen = gaps opened \n",
    "- qstart= query start\n",
    "- qend = query end\n",
    "- sstart = subject start\n",
    "- send = subject end\n",
    "- evalue = e-value (the lower the better!)\n",
    "- bitscore = bit score (the higher the better!)\n"
   ]
  },
  {
   "cell_type": "markdown",
   "id": "1c6c1c60-cddd-468f-ba49-f2c2f4df445e",
   "metadata": {},
   "source": [
    "### BLAST with biopython\n",
    "\n",
    "To blast with biopython: \n",
    "\n",
    "- put the swissprot database files (swissprot.\\*) from the google drive Day4 into a directory called 'BLASTdb'\n",
    "- generate the command-lind (cline) for the BLASTP package as follows"
   ]
  },
  {
   "cell_type": "code",
   "execution_count": null,
   "id": "581d75c5-0829-4484-982e-47838e59c2fd",
   "metadata": {},
   "outputs": [],
   "source": [
    "from Bio.Blast.Applications import NcbiblastpCommandline\n",
    "\n",
    "blastp_cline = NcbiblastpCommandline(query=\"blastQuery.fasta\", # query file (protein)\n",
    "                                     db=\"BLASTdb/swissprot\",  # path2database\n",
    "                                     out=\"output.csv\" , # output file - make i\n",
    "                                     outfmt=\"6\", # csv format\n",
    "                                     evalue=0.001) # evalue cuutoff, 0.001 is fine\n",
    "print(blastp_cline) # make sure it looks ok \n"
   ]
  },
  {
   "cell_type": "code",
   "execution_count": null,
   "id": "d79c979a-4930-47a8-91fe-589c1e3cae9b",
   "metadata": {},
   "outputs": [],
   "source": [
    "#run your blast by calling blastp_cline()\n",
    "blastp_cline()"
   ]
  },
  {
   "cell_type": "code",
   "execution_count": null,
   "id": "fdbd366f-a6dd-405a-b6d5-e09e9ccf3a63",
   "metadata": {},
   "outputs": [],
   "source": [
    "# PRACTICE\n",
    "\n",
    "# Do this analyse again using your own protein"
   ]
  },
  {
   "cell_type": "code",
   "execution_count": null,
   "id": "9c5149d7-b77d-4b08-8251-9d98b65ff388",
   "metadata": {},
   "outputs": [],
   "source": [
    "# PRATICE\n",
    "\n",
    "# Read the CSV file using python core and store the subject IDs of those sequences that are greater than 64% identical to your query sequence. \n"
   ]
  },
  {
   "cell_type": "markdown",
   "id": "ad2ee508-230d-403a-a675-c52514052187",
   "metadata": {},
   "source": [
    "\n",
    "Hints - in python core: \n",
    "\n",
    "- open the file line by line \n",
    "- uses the '.split()' function to split the line into a list \n",
    "- store variables for the positions you are interested in (i.e., subject ID)\n",
    "  - for example, your query ID is going to be YOURLINE.split()[0] since it is the first cell on the line\n",
    "- save a txt file with the subject IDs, each on their own line \n",
    "  - Q9UMS0.2\n",
    "  - Q9QZ23.2 ... \n",
    "\n"
   ]
  },
  {
   "cell_type": "code",
   "execution_count": null,
   "id": "7ba9107b-c3aa-4a67-a31c-d784fe7f9a47",
   "metadata": {},
   "outputs": [],
   "source": [
    "output = open(\"blastQuery.fasta.outfmt6.csv\", \"r\")\n",
    "output = output.readlines()\n",
    "\n",
    "length64 = []\n",
    "for line in output:\n",
    "    new = line.split(\"\\t\")[1:3] # you want the id and the %identity\n",
    "    if float(new[1]) > 64:\n",
    "        length64.append(new[0])\n",
    "        \n",
    "print(length64)\n",
    "print(f'Sequences {length64} share >64% identity with my query sequence.')"
   ]
  },
  {
   "cell_type": "code",
   "execution_count": null,
   "id": "3cde9f4c-d12d-4553-ae88-c790f787d3ad",
   "metadata": {},
   "outputs": [],
   "source": []
  }
 ],
 "metadata": {
  "kernelspec": {
   "display_name": "Python 3 (ipykernel)",
   "language": "python",
   "name": "python3"
  },
  "language_info": {
   "codemirror_mode": {
    "name": "ipython",
    "version": 3
   },
   "file_extension": ".py",
   "mimetype": "text/x-python",
   "name": "python",
   "nbconvert_exporter": "python",
   "pygments_lexer": "ipython3",
   "version": "3.9.7"
  }
 },
 "nbformat": 4,
 "nbformat_minor": 5
}
