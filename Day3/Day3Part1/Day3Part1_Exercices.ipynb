{
 "cells": [
  {
   "cell_type": "markdown",
   "id": "c8c14426-d41a-45f0-b662-4cd614696eb6",
   "metadata": {},
   "source": [
    "# Day 3 Part 1 - more exercices!\n",
    "---\n"
   ]
  },
  {
   "cell_type": "markdown",
   "id": "2fdad8af-e472-4e39-9bb1-0ef5a2823ddc",
   "metadata": {},
   "source": [
    "One powerful function of biopython is its ability to read file formats of biological data. Let's try and read in a single fasta sequene from the file \"myFavouriteProtein_ncbi.fasta\""
   ]
  },
  {
   "cell_type": "code",
   "execution_count": null,
   "id": "afdf8a1d-5356-41f6-ba9e-d9f25b748840",
   "metadata": {},
   "outputs": [],
   "source": [
    "from Bio import SeqIO\n",
    "\n",
    "# Here, we call the module SeqIO, let's see what it is\n",
    "SeqIO\n",
    "print(SeqIO)"
   ]
  },
  {
   "cell_type": "markdown",
   "id": "58dfedb3-65a8-4466-85b0-3953caaa08a9",
   "metadata": {},
   "source": [
    "### Reading a single fasta-formatting sequence \n",
    "\n",
    "Reminder, fasta files look like this :"
   ]
  },
  {
   "cell_type": "raw",
   "id": "5a75f643-1cf0-4636-b072-7b2a83fd6065",
   "metadata": {},
   "source": [
    ">Wrapped_seq\n",
    "GGGAAAGGAAGGGGAAAAAAAAATTTTAAAGGAATTAAAGGAATGGAATTTAAAGGAGGAAATTTAAAAGAAAGAAGGGAATTGGTAAGGAAAGGAAAGGAA\n",
    "\n",
    ">MultiLine_seq\n",
    "GGGAATTTGGGGAAATTTAAAAGAAAGAAGGGAATTTGGGGAAATTTAAAAGAAAGAA\n",
    "GGAATTTAAAGGAGGAAATTTAAAAGAAAGAAGGGAATTGGTAAGGAAAGGAAAGGAA"
   ]
  },
  {
   "cell_type": "code",
   "execution_count": null,
   "id": "6ddb8602-1db7-44a2-ab07-75f16d6dd4c8",
   "metadata": {},
   "outputs": [],
   "source": [
    "# myFastaRecord is a single fasta record from the file \n",
    "# myFastaRecord IS NOT a string\n",
    "# myFastaRecord IS NOT a list\n",
    "# myFastaRecord is a Biopython Object = SeqRecord\n",
    "myFastaRecord = SeqIO.read(\"myFavouriteProtein_ncbi.fasta\", \"fasta\")\n",
    "\n",
    "# what does it look like?\n",
    "print(myFastaRecord)"
   ]
  },
  {
   "cell_type": "code",
   "execution_count": null,
   "id": "dbac18a8-6e92-4bbe-a9ce-aee2a04f3b0b",
   "metadata": {},
   "outputs": [],
   "source": [
    "# Let's call (not print) myFastaRecord\n",
    "myFastaRecord"
   ]
  },
  {
   "cell_type": "markdown",
   "id": "1db7288f-a7e0-4745-a67b-9abd3fc05d6f",
   "metadata": {},
   "source": [
    "Above, we can see that there is some 'SeqRecord' object that lists all the elements encoded in the object.  You can access all of these elements by typing the string myFastaRecord.XXX "
   ]
  },
  {
   "cell_type": "code",
   "execution_count": null,
   "id": "3af56202-3f9e-47e1-9ae2-c94469c9b183",
   "metadata": {},
   "outputs": [],
   "source": [
    "# this is the sequence as a biopython object\n",
    "myFastaRecord.seq"
   ]
  },
  {
   "cell_type": "code",
   "execution_count": null,
   "id": "f4d32d88-3201-4502-9203-e4306c1abcaf",
   "metadata": {},
   "outputs": [],
   "source": [
    "# this is the sequence as a biopython object\n",
    "print(myFastaRecord.seq)"
   ]
  },
  {
   "cell_type": "code",
   "execution_count": null,
   "id": "890f1ef2-2db8-4494-ae6f-92275cf64757",
   "metadata": {},
   "outputs": [],
   "source": [
    "# you can query the length of the biopython object using len()\n",
    "len(myFastaRecord.seq)"
   ]
  },
  {
   "cell_type": "code",
   "execution_count": null,
   "id": "c8f5f2b3-0960-43d7-bd68-d019f08c143b",
   "metadata": {},
   "outputs": [],
   "source": [
    "# In this box try to query another element of myFastaRecord. \n",
    "# call myFastaRecord to see you option (press play)\n",
    "# or try tabbing with a 'myFastaRecord.'\n",
    "myFastaRecord.description\n"
   ]
  },
  {
   "cell_type": "markdown",
   "id": "9d395e28-df20-4b43-a0b2-5e7084949d17",
   "metadata": {},
   "source": [
    "Let's try and get some information out of the description.  Write a conditional statement asking whether there is a string 'protein' in the description of the sequence.  "
   ]
  },
  {
   "cell_type": "code",
   "execution_count": null,
   "id": "8b711df2-79c9-4013-ac2e-82516cc1584c",
   "metadata": {},
   "outputs": [],
   "source": [
    "# Does this protein description have the word 'protein'\n",
    "\"protein\" in myFastaRecord.description\n"
   ]
  },
  {
   "cell_type": "code",
   "execution_count": null,
   "id": "fe3e702e-3d05-482d-af9e-561bf1c59b73",
   "metadata": {},
   "outputs": [],
   "source": [
    "# What is the accession number (=id) of this protein? \n",
    "myFastaRecord.id\n",
    "# store the accession number in a variable \n",
    "mySeqID = myFastaRecord.id\n",
    "mySeqID"
   ]
  },
  {
   "cell_type": "markdown",
   "id": "72b2492b-0bbc-4366-a1bf-d1bfd0ea6b45",
   "metadata": {},
   "source": [
    "## Parsing a file with more than one sequence\n",
    "\n",
    "To parse a larger file, it is best to read through the file sequence by sequence and store the information you are interested in. We can do this using the SeqIO.parse()"
   ]
  },
  {
   "cell_type": "code",
   "execution_count": null,
   "id": "32289cb3-5ea4-4ec4-af36-e68e4c7809f1",
   "metadata": {},
   "outputs": [],
   "source": [
    "SeqIO.parse(\"NFU1_proteins.fasta\", \"fasta\")"
   ]
  },
  {
   "cell_type": "markdown",
   "id": "0dbc02d9-0d1e-45a7-8920-47323b955137",
   "metadata": {},
   "source": [
    "Here it says that this object is a 'Fasta Iterator' this gives you a hint that whatever is stored in this object is iterable - that is, you can iterate over it. Just like you would iterate over a list, dictionary or string. "
   ]
  },
  {
   "cell_type": "code",
   "execution_count": null,
   "id": "d14fc787-e793-4b61-808e-7df0ba616235",
   "metadata": {},
   "outputs": [],
   "source": [
    "for record in SeqIO.parse(\"NFU1_proteins.fasta\", \"fasta\"):\n",
    "    print(record)"
   ]
  },
  {
   "cell_type": "code",
   "execution_count": null,
   "id": "a8f3aa57-f887-4b06-900f-e0ab49acf60c",
   "metadata": {},
   "outputs": [],
   "source": [
    "# let's print just the first 3 records to the screen.\n",
    "# hint: we can use 'break' to stop the for loop if \n",
    "# we need to\n",
    "\n",
    "counter = 0\n",
    "for record in list(SeqIO.parse(\"NFU1_proteins.fasta\", \"fasta\")):\n",
    "    counter +=1\n",
    "    if counter <= 3 :\n",
    "        print(record)\n",
    "    else:\n",
    "        break\n",
    "\n"
   ]
  },
  {
   "cell_type": "markdown",
   "id": "e02cc55c-4e60-47a4-b92f-9c087be69120",
   "metadata": {},
   "source": []
  },
  {
   "cell_type": "code",
   "execution_count": null,
   "id": "e9e7f04c-f57a-4d83-881a-5263c2c10288",
   "metadata": {},
   "outputs": [],
   "source": [
    "# Find all the records with 'Drosophila' in the description\n",
    "# print them to screen AND store their record object in a list \n",
    "# myFlies \n",
    "\n",
    "myFlies = []\n",
    "\n",
    "for record in list(SeqIO.parse(\"NFU1_proteins.fasta\", \"fasta\")):\n",
    "    description = record.description\n",
    "    if 'Drosophila' in description:\n",
    "        print(record.description)\n",
    "\n",
    "for record in list(SeqIO.parse(\"NFU1_proteins.fasta\", \"fasta\")):\n",
    "    description = record.description\n",
    "    if 'Drosophila' in description:\n",
    "          myFlies.append(record)\n",
    "\n",
    "print(myFlies)\n"
   ]
  },
  {
   "cell_type": "markdown",
   "id": "8ae1078d-18a6-409c-bea7-12800e223548",
   "metadata": {},
   "source": []
  },
  {
   "cell_type": "code",
   "execution_count": null,
   "id": "ea32ee03-2da8-4868-95a7-a49397fded05",
   "metadata": {},
   "outputs": [],
   "source": [
    "# Let's try and perform some actions on the myFlies records    \n",
    "# Try printing the length of every sequences \n",
    "\n",
    "for record in myFlies:\n",
    "    print(\"The sequence %s is %i amino acids long\" % ((record.id), len(record.seq)))"
   ]
  },
  {
   "cell_type": "code",
   "execution_count": null,
   "id": "aa202668-80ed-405a-a454-c607e3f2cff4",
   "metadata": {},
   "outputs": [],
   "source": [
    "# Let's count the number of Alanines in each sequence from myFlies\n",
    "# print 'this sequence has XX Alanines'\n",
    "for record in myFlies:\n",
    "    sequence = record.seq\n",
    "    print(\"The sequence %s has %i Alanines\" % ((record.id), sequence.count('A')))"
   ]
  }
 ],
 "metadata": {
  "kernelspec": {
   "display_name": "Python 3 (ipykernel)",
   "language": "python",
   "name": "python3"
  },
  "language_info": {
   "codemirror_mode": {
    "name": "ipython",
    "version": 3
   },
   "file_extension": ".py",
   "mimetype": "text/x-python",
   "name": "python",
   "nbconvert_exporter": "python",
   "pygments_lexer": "ipython3",
   "version": "3.9.7"
  }
 },
 "nbformat": 4,
 "nbformat_minor": 5
}
