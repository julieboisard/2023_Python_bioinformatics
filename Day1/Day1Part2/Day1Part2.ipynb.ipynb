{
 "cells": [
  {
   "cell_type": "markdown",
   "metadata": {},
   "source": [
    "## Section 04: If, else, for and while\n",
    "---\n",
    "\n",
    "### If/Else\n",
    "For one-line codes like we have run above, python does not really care if there are spaces. E.g., `x=123` is the same as `x = 123` is the same as `x =123`. This is not true in all languages, for example in `bash` one needs to define the variable without a space `x=variable`.  \n",
    "\n",
    "However, spaces (or indents) have a lot of power in loops. Let's look at an `if/else` statement.  "
   ]
  },
  {
   "cell_type": "code",
   "execution_count": null,
   "metadata": {
    "tags": []
   },
   "outputs": [],
   "source": [
    "x=1\n",
    "\n",
    "if x == 1: # to see if an interger matches a value, you use '=='\n",
    "    print(\"It's a 1!\")  # notice the position of the print command\n",
    "\n",
    "    \n",
    "# if commands can exist alone or with 'else'\n",
    "\n",
    "if x == 1: \n",
    "    print(\"It's a 1!\")  # notice the position of the print command\n",
    "else: \n",
    "    print(\"It's not a 1...\")   "
   ]
  },
  {
   "cell_type": "markdown",
   "metadata": {},
   "source": [
    "The `print` command is preceded by spaces (usually 4) or an indent. It's best to decide now what you prefer to use. Jupyter is clever enough to recognize a mixture of indents and spaces, but using python directly on the command-line will not always recognize it. "
   ]
  },
  {
   "cell_type": "code",
   "execution_count": null,
   "metadata": {},
   "outputs": [],
   "source": [
    "#Run the following block to see what an indentation error looks like.  \n",
    "\n",
    "if x == 1: \n",
    "print(\"It's a 1!\")  \n",
    "else: \n",
    "print(\"It's not a 1...\")"
   ]
  },
  {
   "cell_type": "markdown",
   "metadata": {},
   "source": [
    "There is also `elif` (else if) which can help you define additional conditional statements. "
   ]
  },
  {
   "cell_type": "code",
   "execution_count": 5,
   "metadata": {},
   "outputs": [],
   "source": [
    "x=1.5\n",
    "if x<1:\n",
    "    # if x is less than one, print the following\n",
    "    print(\"less than 1\")\n",
    "elif x < 1.5:\n",
    "    # else, if x is less than 1.5, print the following\n",
    "    print(\"less than 1.5\")\n",
    "else:\n",
    "    # if x does not satisfy the conditions above, print the following\n",
    "    print(\"greater than or equal to 1.5\")\n",
    "    \n",
    "# elif is the equivalent of putting an if in an else statement: \n",
    "\n",
    "if x<1:\n",
    "    # if x is less than one, print the following\n",
    "    print(\"less than 1\")\n",
    "else: \n",
    "    if x < 1.5:\n",
    "        # else, if x is less than 1.5, print the following\n",
    "        print(\"less than 1.5\")\n",
    "    else:\n",
    "    # if x does not satisfy the conditions above, print the following\n",
    "        print(\"greater than or equal to 1.5\")\n",
    "    "
   ]
  },
  {
   "cell_type": "markdown",
   "metadata": {},
   "source": [
    "**Logical statements for integers/floats**\n",
    "\n",
    "- Equals: a == b\n",
    "- Not Equals: a != b\n",
    "- Less than: a < b\n",
    "- Less than or equal to: a <= b\n",
    "- Greater than: a > b\n",
    "- Greater than or equal to: a >= b"
   ]
  },
  {
   "cell_type": "markdown",
   "metadata": {},
   "source": [
    "`If/else` statements can also be applied to strings, lists and dictionaries using `in` `not in` or == (equal to) or != (not equal to). "
   ]
  },
  {
   "cell_type": "code",
   "execution_count": null,
   "metadata": {},
   "outputs": [],
   "source": [
    "myString = \"abcde\"\n",
    "myList = [1,2,3,4]\n",
    "myDictionary = {\"a\":1,\"b\":2,\"c\":3}\n",
    "\n",
    "if \"bcd\" in myString:\n",
    "    print(\"bcd found!\")\n",
    "if \"xyz\" not in myString:\n",
    "    print(\"no 'xyz' here!\")\n",
    "if 1 in myList:\n",
    "    print(\"Found 1!\")\n",
    "if \"a\" in myDictionary:\n",
    "    print(\"Found a!\")\n",
    "if \"a\" in myDictionary.keys():\n",
    "    print(\"Found a in keys!\")\n",
    "if 1 in myDictionary.values():\n",
    "    print(\"Found 1 in values!\")\n",
    "if myString[0] == \"a\" :\n",
    "    print(\"First element in myString is a!\")    "
   ]
  },
  {
   "cell_type": "markdown",
   "metadata": {},
   "source": [
    "You can also use `if` statements to assess whether a variable is a `str, list, int, dict,` or `float`"
   ]
  },
  {
   "cell_type": "code",
   "execution_count": null,
   "metadata": {},
   "outputs": [],
   "source": [
    "myString = \"abcde\"\n",
    "\n",
    "if type(myString) == list:\n",
    "    print(\"myString is a list\")\n",
    "elif type(myString) == int:\n",
    "    print(\"myString is an integer\")\n",
    "elif type(myString) == str:\n",
    "    print(\"myString is a ... string\")"
   ]
  },
  {
   "cell_type": "markdown",
   "metadata": {},
   "source": [
    "### For and while\n",
    "\n",
    "`for` loops can help you iterate over a list of items or elements in a string.  "
   ]
  },
  {
   "cell_type": "code",
   "execution_count": null,
   "metadata": {},
   "outputs": [],
   "source": [
    "myList = [1,2,3,4]\n",
    "myString = \"5678\"\n",
    "myDictionary = {\"a\":1,\"b\":2,\"c\":3}\n",
    "# the variable after 'for' does not need to be defined before first mention\n",
    "\n",
    "for number in myList:\n",
    "    print(number)\n",
    "for number in myString:\n",
    "    print(number)\n",
    "for key in myDictionary:\n",
    "    print(myDictionary[key])"
   ]
  },
  {
   "cell_type": "markdown",
   "metadata": {},
   "source": [
    "You can also use `for` loops over interger rangers using the `range` command. "
   ]
  },
  {
   "cell_type": "code",
   "execution_count": null,
   "metadata": {},
   "outputs": [],
   "source": [
    "# here, you are going to run the loop over a range of integers from 0 to 5\n",
    "for x in range(5):\n",
    "    print(x)"
   ]
  },
  {
   "cell_type": "markdown",
   "metadata": {},
   "source": [
    "`while` is also a sort of loop that allows you to enter the loop ONLY if a certain condition is met.  But be careful to not creat an infinite loop where the `while` condition is always met.  "
   ]
  },
  {
   "cell_type": "code",
   "execution_count": null,
   "metadata": {
    "tags": []
   },
   "outputs": [],
   "source": [
    "x = 1\n",
    "while x < 10:\n",
    "    print(x)\n",
    "    x += 1 # if we did not alter the x variable the while loop would go on forever!"
   ]
  },
  {
   "cell_type": "markdown",
   "metadata": {},
   "source": [
    "## HAND-IN ASSIGNMENTS"
   ]
  },
  {
   "cell_type": "markdown",
   "metadata": {},
   "source": [
    "Complete the following two assignments and hand them into me by the end of day, I will give you comments back tomorrow"
   ]
  },
  {
   "cell_type": "code",
   "execution_count": null,
   "metadata": {},
   "outputs": [],
   "source": [
    "# HAND-IN 1 combine what you have learned\n",
    "\n",
    "myList = [1,2,3,4]\n",
    "\n",
    "# Add a string 's' to to myList\n",
    "\n",
    "# Delete the third item\n",
    "\n",
    "# Make an if/else statement to ask if the third item is still present\n",
    "\n",
    "# Write another if/else statement to check if the first item is odd or even\n",
    "    \n",
    "# print your list and check your answer\n",
    "\n",
    "# Copy your code to a text file or new Jupyter notebook and label it HAND-IN 1"
   ]
  },
  {
   "cell_type": "code",
   "execution_count": null,
   "metadata": {},
   "outputs": [],
   "source": [
    "# HAND-IN 2 combine what you have learned\n",
    "\n",
    "myDictionary = {\"a\":1, \"b\":\"Lund\", \"c\":[1,2,3]}\n",
    "\n",
    "# write a for loop to read a dictionary that will print the \n",
    "# value for each key and what type of element it is (string, integer, list) \n",
    "# replace the value of type 'list' with a string \"s\"\n",
    "# Your resulting dictionary should be: {'a': 1, 'b': 'Lund', 'c': 's'}\n",
    "\n",
    "\n",
    "# Copy your code to a text file or new Jupyter notebook and label it HAND-IN 2"
   ]
  }
 ],
 "metadata": {
  "colab": {
   "collapsed_sections": [],
   "name": "Copy of Day01_PythonBasics",
   "provenance": [],
   "toc_visible": true
  },
  "kernelspec": {
   "display_name": "Python 3.10.6 64-bit",
   "language": "python",
   "name": "python3"
  },
  "language_info": {
   "codemirror_mode": {
    "name": "ipython",
    "version": 3
   },
   "file_extension": ".py",
   "mimetype": "text/x-python",
   "name": "python",
   "nbconvert_exporter": "python",
   "pygments_lexer": "ipython3",
   "version": "3.10.6"
  },
  "vscode": {
   "interpreter": {
    "hash": "23742a4e8944d48a93d44bd4da51eaf469d5ab386391183f487f05d3ea4bf65b"
   }
  }
 },
 "nbformat": 4,
 "nbformat_minor": 4
}
