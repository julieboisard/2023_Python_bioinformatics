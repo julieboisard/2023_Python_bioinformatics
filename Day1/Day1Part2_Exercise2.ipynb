{
 "cells": [
  {
   "cell_type": "code",
   "execution_count": null,
   "metadata": {},
   "outputs": [],
   "source": [
    "# HAND-IN 2 combine what you have learned\n",
    "myDictionary = {\"a\":1, \"b\":\"Lund\", \"c\":[1,2,3]}\n",
    "\n",
    "# write a for loop to read a dictionary that will print the \n",
    "# value for each key and what type of element it is (string, integer, list) \n",
    "# replace the value of type 'list' with a string \"s\"\n",
    "# Your resulting dictionary should be: {'a': 1, 'b': 'Lund', 'c': 's'}\n",
    "\n",
    "\n",
    "# Copy your code to a text file or new Jupyter notebook and label it HAND-IN 2"
   ]
  }
 ],
 "metadata": {
  "colab": {
   "collapsed_sections": [],
   "name": "Copy of Day01_PythonBasics",
   "provenance": [],
   "toc_visible": true
  },
  "kernelspec": {
   "display_name": "Python 3.10.6 64-bit",
   "language": "python",
   "name": "python3"
  },
  "language_info": {
   "codemirror_mode": {
    "name": "ipython",
    "version": 3
   },
   "file_extension": ".py",
   "mimetype": "text/x-python",
   "name": "python",
   "nbconvert_exporter": "python",
   "pygments_lexer": "ipython3",
   "version": "3.10.6"
  },
  "vscode": {
   "interpreter": {
    "hash": "23742a4e8944d48a93d44bd4da51eaf469d5ab386391183f487f05d3ea4bf65b"
   }
  }
 },
 "nbformat": 4,
 "nbformat_minor": 4
}
