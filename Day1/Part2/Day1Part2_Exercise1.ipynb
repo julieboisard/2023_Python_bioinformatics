{
 "cells": [
  {
   "cell_type": "markdown",
   "metadata": {},
   "source": [
    "## HAND-IN ASSIGNMENTS"
   ]
  },
  {
   "cell_type": "markdown",
   "metadata": {},
   "source": [
    "Complete the following two assignments and hand them into me by the end of day, I will give you comments back tomorrow"
   ]
  },
  {
   "cell_type": "code",
   "execution_count": null,
   "metadata": {},
   "outputs": [],
   "source": [
    "# HAND-IN 1 combine what you have learned\n",
    "\n",
    "myList = [1,2,3,4]\n",
    "\n",
    "# Add a string 's' to to myList\n",
    "\n",
    "# Delete the third item\n",
    "\n",
    "# Make an if/else statement to ask if the third item is still present\n",
    "\n",
    "# Write another if/else statement to check if the first item is odd or even\n",
    "    \n",
    "# print your list and check your answer\n",
    "\n",
    "# Copy your code to a text file or new Jupyter notebook and label it HAND-IN 1"
   ]
  }
 ],
 "metadata": {
  "colab": {
   "collapsed_sections": [],
   "name": "Copy of Day01_PythonBasics",
   "provenance": [],
   "toc_visible": true
  },
  "kernelspec": {
   "display_name": "Python 3.10.6 64-bit",
   "language": "python",
   "name": "python3"
  },
  "language_info": {
   "codemirror_mode": {
    "name": "ipython",
    "version": 3
   },
   "file_extension": ".py",
   "mimetype": "text/x-python",
   "name": "python",
   "nbconvert_exporter": "python",
   "pygments_lexer": "ipython3",
   "version": "3.10.6"
  },
  "vscode": {
   "interpreter": {
    "hash": "23742a4e8944d48a93d44bd4da51eaf469d5ab386391183f487f05d3ea4bf65b"
   }
  }
 },
 "nbformat": 4,
 "nbformat_minor": 4
}
