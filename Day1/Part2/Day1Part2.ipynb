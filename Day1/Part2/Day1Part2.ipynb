{
 "cells": [
  {
   "cell_type": "markdown",
   "metadata": {},
   "source": [
    "### Section 04: If, else, for and while\n",
    "\n",
    "---\n",
    "\n",
    "### 1. If/Else Statements\n",
    "\n",
    "In Python, spaces around operators like `=` are optional, but they enhance readability. For instance:\n",
    "- `x=123` \n",
    "- `x = 123` \n",
    "- `x =123` \n",
    "\n",
    "All of the above are equivalent in Python. However, this is not the case in all languages. For instance, in `bash`, variables are defined without spaces, like `x=variable`.\n",
    "\n",
    "#### Importance of Indentation in Python\n",
    "\n",
    "Indentation is crucial in Python, especially for loops and conditional statements. It determines the scope of the code block. \n",
    "\n",
    "#### Logical Operators for Integers/Floats:\n",
    "\n",
    "| Operator | Description | Example |\n",
    "|----------|-------------|---------|\n",
    "| `==`     | Equals      | a == b  |\n",
    "| `!=`     | Not Equals  | a != b  |\n",
    "| `<`      | Less than   | a < b   |\n",
    "| `<=`     | Less than or equal to | a <= b |\n",
    "| `>`      | Greater than | a > b  |\n",
    "| `>=`     | Greater than or equal to | a >= b |\n"
   ]
  },
  {
   "cell_type": "code",
   "execution_count": 4,
   "metadata": {},
   "outputs": [
    {
     "name": "stdout",
     "output_type": "stream",
     "text": [
      "It's a 1!\n",
      "It's a 1!\n"
     ]
    }
   ],
   "source": [
    "x = 1\n",
    "if x == 1:  # To check if an integer matches a value, use '=='\n",
    "    print(\"It's a 1!\")  # Notice the indentation of the print command\n",
    "\n",
    "# 'if' statements can be paired with 'else'\n",
    "if x == 1: \n",
    "    print(\"It's a 1!\")\n",
    "else: \n",
    "    print(\"It's not a 1...\")\n"
   ]
  },
  {
   "cell_type": "markdown",
   "metadata": {},
   "source": [
    "### 2. Importance of Correct Indentation\n",
    "\n",
    "The `print` command should be indented correctly under the `if` or `else` statement. Incorrect indentation will result in an error.\n"
   ]
  },
  {
   "cell_type": "code",
   "execution_count": 5,
   "metadata": {},
   "outputs": [
    {
     "ename": "IndentationError",
     "evalue": "expected an indented block after 'if' statement on line 2 (1595701700.py, line 3)",
     "output_type": "error",
     "traceback": [
      "\u001b[1;36m  Cell \u001b[1;32mIn[5], line 3\u001b[1;36m\u001b[0m\n\u001b[1;33m    print(\"It's a 1!\")\u001b[0m\n\u001b[1;37m    ^\u001b[0m\n\u001b[1;31mIndentationError\u001b[0m\u001b[1;31m:\u001b[0m expected an indented block after 'if' statement on line 2\n"
     ]
    }
   ],
   "source": [
    "# This will raise an indentation error\n",
    "if x == 1: \n",
    "print(\"It's a 1!\")  \n",
    "else: \n",
    "print(\"It's not a 1...\")\n"
   ]
  },
  {
   "cell_type": "markdown",
   "metadata": {},
   "source": [
    "### 3. Using `elif` (else if)\n",
    "\n",
    "The `elif` statement allows you to add additional conditions to your `if` statement.\n"
   ]
  },
  {
   "cell_type": "code",
   "execution_count": 6,
   "metadata": {},
   "outputs": [
    {
     "name": "stdout",
     "output_type": "stream",
     "text": [
      "greater than or equal to 1.5\n",
      "greater than or equal to 1.5\n"
     ]
    }
   ],
   "source": [
    "x = 1.5\n",
    "if x < 1:\n",
    "    print(\"less than 1\")\n",
    "elif x < 1.5:\n",
    "    print(\"less than 1.5\")\n",
    "else:\n",
    "    print(\"greater than or equal to 1.5\")\n",
    "\n",
    "# Using nested if-else statements achieves the same result as using elif\n",
    "if x < 1:\n",
    "    print(\"less than 1\")\n",
    "else: \n",
    "    if x < 1.5:\n",
    "        print(\"less than 1.5\")\n",
    "    else:\n",
    "        print(\"greater than or equal to 1.5\")\n"
   ]
  },
  {
   "cell_type": "markdown",
   "metadata": {},
   "source": [
    "### 4. Using If/Else with Strings, Lists, and Dictionaries\n",
    "\n",
    "`If/else` statements can be applied to various data types like strings, lists, and dictionaries. You can use operators like `in`, `not in`, `==` (equal to), or `!=` (not equal to) to evaluate conditions.\n"
   ]
  },
  {
   "cell_type": "code",
   "execution_count": 7,
   "metadata": {},
   "outputs": [
    {
     "name": "stdout",
     "output_type": "stream",
     "text": [
      "bcd found!\n",
      "no 'xyz' here!\n",
      "Found 1!\n",
      "Found a!\n",
      "Found a in keys!\n",
      "Found 1 in values!\n",
      "First element in myString is a!\n"
     ]
    }
   ],
   "source": [
    "myString = \"abcde\"\n",
    "myList = [1,2,3,4]\n",
    "myDictionary = {\"a\":1,\"b\":2,\"c\":3}\n",
    "\n",
    "if \"bcd\" in myString:\n",
    "    print(\"bcd found!\")\n",
    "if \"xyz\" not in myString:\n",
    "    print(\"no 'xyz' here!\")\n",
    "if 1 in myList:\n",
    "    print(\"Found 1!\")\n",
    "if \"a\" in myDictionary:\n",
    "    print(\"Found a!\")\n",
    "if \"a\" in myDictionary.keys():\n",
    "    print(\"Found a in keys!\")\n",
    "if 1 in myDictionary.values():\n",
    "    print(\"Found 1 in values!\")\n",
    "if myString[0] == \"a\":\n",
    "    print(\"First element in myString is a!\")\n"
   ]
  },
  {
   "cell_type": "markdown",
   "metadata": {},
   "source": [
    "### 5. Checking Variable Types with If Statements\n",
    "\n",
    "You can use `if` statements to determine the type of a variable, whether it's a `str`, `list`, `int`, `dict`, or `float`.\n"
   ]
  },
  {
   "cell_type": "code",
   "execution_count": 8,
   "metadata": {},
   "outputs": [
    {
     "name": "stdout",
     "output_type": "stream",
     "text": [
      "myString is a ... string\n"
     ]
    }
   ],
   "source": [
    "myString = \"abcde\"\n",
    "\n",
    "if type(myString) == list:\n",
    "    print(\"myString is a list\")\n",
    "elif type(myString) == int:\n",
    "    print(\"myString is an integer\")\n",
    "elif type(myString) == str:\n",
    "    print(\"myString is a ... string\")\n"
   ]
  },
  {
   "cell_type": "markdown",
   "metadata": {},
   "source": [
    "### 6. For and While Loops\n",
    "\n",
    "`for` loops are used to iterate over a sequence (like a list, tuple, dictionary, set, or string). It's a powerful tool that allows you to process each item in a sequence.\n"
   ]
  },
  {
   "cell_type": "code",
   "execution_count": 9,
   "metadata": {},
   "outputs": [
    {
     "name": "stdout",
     "output_type": "stream",
     "text": [
      "1\n",
      "2\n",
      "3\n",
      "4\n",
      "5\n",
      "6\n",
      "7\n",
      "8\n",
      "1\n",
      "2\n",
      "3\n"
     ]
    }
   ],
   "source": [
    "myList = [1,2,3,4]\n",
    "myString = \"5678\"\n",
    "myDictionary = {\"a\":1,\"b\":2,\"c\":3}\n",
    "\n",
    "for number in myList:\n",
    "    print(number)\n",
    "for number in myString:\n",
    "    print(number)\n",
    "for key in myDictionary:\n",
    "    print(myDictionary[key])\n"
   ]
  },
  {
   "cell_type": "markdown",
   "metadata": {},
   "source": [
    "### 7. Using For Loops with the Range Function\n",
    "\n",
    "The `range()` function returns a sequence of numbers, starting from 0 by default, and increments by 1 (also by default), and stops before a specified number.\n"
   ]
  },
  {
   "cell_type": "code",
   "execution_count": 10,
   "metadata": {},
   "outputs": [
    {
     "name": "stdout",
     "output_type": "stream",
     "text": [
      "0\n",
      "1\n",
      "2\n",
      "3\n",
      "4\n",
      "1\n",
      "3\n",
      "5\n",
      "7\n",
      "9\n"
     ]
    }
   ],
   "source": [
    "# Looping over a range of integers from 0 to 4 (5 is exclusive)\n",
    "for x in range(5):\n",
    "    print(x)\n",
    "\n",
    "# Example: Looping from 1 to 10 with a step of 2\n",
    "for x in range(1, 10, 2):\n",
    "    print(x)\n"
   ]
  },
  {
   "cell_type": "markdown",
   "metadata": {},
   "source": [
    "### 8. While Loops\n",
    "\n",
    "The `while` loop allows you to execute a block of code as long as a specified condition is true. It's essential to ensure that the condition becomes false at some point, or else you'll end up with an infinite loop.\n"
   ]
  },
  {
   "cell_type": "code",
   "execution_count": 11,
   "metadata": {},
   "outputs": [
    {
     "name": "stdout",
     "output_type": "stream",
     "text": [
      "1\n",
      "2\n",
      "3\n",
      "4\n",
      "5\n",
      "6\n",
      "7\n",
      "8\n",
      "9\n"
     ]
    }
   ],
   "source": [
    "x = 1\n",
    "while x < 10:\n",
    "    print(x)\n",
    "    x += 1  # Incrementing the value of x. Without this, the loop would run indefinitely.\n"
   ]
  },
  {
   "cell_type": "markdown",
   "metadata": {},
   "source": [
    "## HAND-IN ASSIGNMENTS"
   ]
  },
  {
   "cell_type": "markdown",
   "metadata": {},
   "source": [
    "Complete the following two assignments and hand them into me by the end of day, I will give you comments back tomorrow"
   ]
  },
  {
   "cell_type": "code",
   "execution_count": 12,
   "metadata": {},
   "outputs": [],
   "source": [
    "# HAND-IN 1 combine what you have learned\n",
    "\n",
    "myList = [1,2,3,4]\n",
    "\n",
    "# Add a string 's' to to myList\n",
    "\n",
    "# Delete the third item\n",
    "\n",
    "# Make an if/else statement to ask if the third item is still present\n",
    "\n",
    "# Write another if/else statement to check if the first item is odd or even\n",
    "    \n",
    "# print your list and check your answer\n",
    "\n",
    "# Copy your code to a text file or new Jupyter notebook and label it HAND-IN 1"
   ]
  },
  {
   "cell_type": "code",
   "execution_count": 13,
   "metadata": {},
   "outputs": [],
   "source": [
    "# HAND-IN 2 combine what you have learned\n",
    "\n",
    "myDictionary = {\"a\":1, \"b\":\"Lund\", \"c\":[1,2,3]}\n",
    "\n",
    "# write a for loop to read a dictionary that will print the \n",
    "# value for each key and what type of element it is (string, integer, list) \n",
    "# replace the value of type 'list' with a string \"s\"\n",
    "# Your resulting dictionary should be: {'a': 1, 'b': 'Lund', 'c': 's'}\n",
    "\n",
    "\n",
    "# Copy your code to a text file or new Jupyter notebook and label it HAND-IN 2"
   ]
  }
 ],
 "metadata": {
  "colab": {
   "collapsed_sections": [],
   "name": "Copy of Day01_PythonBasics",
   "provenance": [],
   "toc_visible": true
  },
  "kernelspec": {
   "display_name": "Python 3.10.6 64-bit",
   "language": "python",
   "name": "python3"
  },
  "language_info": {
   "codemirror_mode": {
    "name": "ipython",
    "version": 3
   },
   "file_extension": ".py",
   "mimetype": "text/x-python",
   "name": "python",
   "nbconvert_exporter": "python",
   "pygments_lexer": "ipython3",
   "version": "3.11.0"
  },
  "vscode": {
   "interpreter": {
    "hash": "23742a4e8944d48a93d44bd4da51eaf469d5ab386391183f487f05d3ea4bf65b"
   }
  }
 },
 "nbformat": 4,
 "nbformat_minor": 4
}
