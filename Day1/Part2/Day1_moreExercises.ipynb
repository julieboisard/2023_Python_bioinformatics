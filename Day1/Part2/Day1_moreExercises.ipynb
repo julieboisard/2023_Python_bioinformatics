{
 "cells": [
  {
   "cell_type": "markdown",
   "id": "62acd98f-31ef-4ac6-ac28-27d87414ac2b",
   "metadata": {},
   "source": [
    "# Part 3 - More Exercises\n",
    "---\n",
    "\n",
    "## Learning objectives for Part 3\n",
    "\n",
    "- Strengthen python skills\n",
    "- Debugging code\n",
    "\n",
    "\n",
    "Go to Rosalind.info and make an account. Complete the first 6 exercises in http://rosalind.info/problems/list-view/?location=python-village\n",
    "\n",
    "Fill in the the code blocks below with your solutions - remember to include comments! Add a desciption before each block if you wish in Markdown format.  We will share our solutions later today."
   ]
  },
  {
   "cell_type": "code",
   "execution_count": null,
   "id": "1c11db6d-ff67-4141-b645-b7a836253e49",
   "metadata": {},
   "outputs": [],
   "source": [
    "# INSTALLING PYTHON"
   ]
  },
  {
   "cell_type": "code",
   "execution_count": null,
   "id": "f45294bc-033c-4b12-a440-7f2bddf12153",
   "metadata": {},
   "outputs": [],
   "source": [
    "# VARIABLES AND SOME ARITHMETIC"
   ]
  },
  {
   "cell_type": "code",
   "execution_count": null,
   "id": "82de70b2-61d9-400b-87a1-eff3c751587a",
   "metadata": {},
   "outputs": [],
   "source": [
    "# STRINGS AND LISTS"
   ]
  },
  {
   "cell_type": "code",
   "execution_count": null,
   "id": "4b77921b-997b-4c8c-85f5-e7e3b9889a76",
   "metadata": {},
   "outputs": [],
   "source": [
    "# CONDITIONS AND LOOPS"
   ]
  },
  {
   "cell_type": "code",
   "execution_count": null,
   "id": "b8397c38-a672-479f-a77e-17b037fa6f56",
   "metadata": {},
   "outputs": [],
   "source": [
    "# WORKING WITH FILES"
   ]
  },
  {
   "cell_type": "code",
   "execution_count": null,
   "id": "3c8a0cf3-03e7-4ac8-b633-967779d0b5b3",
   "metadata": {},
   "outputs": [],
   "source": [
    "# DICTIONARIES"
   ]
  },
  {
   "cell_type": "markdown",
   "id": "6c357519-147f-4df7-b220-543109c85809",
   "metadata": {},
   "source": [
    "### Debugging exercises\n",
    "\n",
    "Fix the mistakes in the following code blocks. Hint, press 'play' to see what sort of error is generated? We will go over the answers together."
   ]
  },
  {
   "cell_type": "code",
   "execution_count": null,
   "id": "53132e23-cbe1-4519-94e9-09c296ee342a",
   "metadata": {},
   "outputs": [],
   "source": [
    "# DEBUGGING EXERCISE 1 (1 error)\n",
    "\n",
    "myList = [0,1,2,3]\n",
    "\n",
    "for x in myList\n",
    "    print(x)\n"
   ]
  },
  {
   "cell_type": "code",
   "execution_count": null,
   "id": "00b22833-9092-4bac-b116-52e2cdbbaf5f",
   "metadata": {},
   "outputs": [],
   "source": [
    "# DEBUGGING EXERCISE 2 \n",
    "\n",
    "greeting = input(\"Hello, possible pirate! What's the password?)\n",
    "                 \n",
    "if greeting in [\"Arrr!\"):\n",
    "print(\"Go away, pirate.\")\n",
    "elif\n",
    "print(\"Greetings, hater of pirates!\")"
   ]
  },
  {
   "cell_type": "code",
   "execution_count": null,
   "id": "950c64fc-d6bf-4996-9566-588eb8297fcf",
   "metadata": {},
   "outputs": [],
   "source": [
    "# DEBUGGING EXERCISE 3\n",
    "\n",
    "# Create a collection of these authors and\n",
    "# the year they kicked the bucket;\n",
    "# print the collection in the following format e.g.,:\n",
    "\n",
    "# Charles Dickens died in 1870.\n",
    "\n",
    "authrs = {\"Charles Dickens\": \"1870\", \"William Thackeray\": \"1863\",\"Anthony Trollope\": \"1882\", \"Gerard Manley Hopkins\": \"1889\"\n",
    "\n",
    "for author in authors:\n",
    "    print author + \" died in \" + authors(author))"
   ]
  },
  {
   "cell_type": "code",
   "execution_count": null,
   "id": "5baaf009-96f7-4f40-adf2-ad3dbe96beaf",
   "metadata": {},
   "outputs": [],
   "source": [
    "# DEBUGGING EXERCISE 4\n",
    "\n",
    "\n",
    "# A time traveler has suddenly appeared in your classroom!\n",
    "\n",
    "# Create a variable representing the traveler's\n",
    "# year of origin (e.g., year = 2000)\n",
    "# and greet our strange visitor with a different message\n",
    "# if he is from the distant past (before 1900),\n",
    "# the present era (1900-2020) or from the far future (beyond 2020).\n",
    "\n",
    "year == int.input(\"Greetings! What is your year of origin? '))\n",
    "\n",
    "if year <= 1900\n",
    "    print ('Woah, that's the past!')\n",
    "elif year > 1900 and year < 2021:\n",
    "    print (\"That's totally the present!\")\n",
    "elif:\n",
    "    print (\"Far out, that's the future!!\")"
   ]
  }
 ],
 "metadata": {
  "kernelspec": {
   "display_name": "Python 3 (ipykernel)",
   "language": "python",
   "name": "python3"
  },
  "language_info": {
   "codemirror_mode": {
    "name": "ipython",
    "version": 3
   },
   "file_extension": ".py",
   "mimetype": "text/x-python",
   "name": "python",
   "nbconvert_exporter": "python",
   "pygments_lexer": "ipython3",
   "version": "3.9.7"
  }
 },
 "nbformat": 4,
 "nbformat_minor": 5
}
