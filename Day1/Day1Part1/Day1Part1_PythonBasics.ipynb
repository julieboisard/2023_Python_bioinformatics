{
 "cells": [
  {
   "cell_type": "markdown",
   "id": "3f08d2b9-f69e-44c1-adf6-77e721b684b8",
   "metadata": {},
   "source": [
    "# **Day 1 - Part I** \n",
    "\n",
    "## Learning objectives for Part I\n",
    "\n",
    "- Get familiar with Jupyter lab\n",
    "- Basic introduction to Markdown\n",
    "- Basics of Python data types\n",
    "- Basics of string manipulation\n"
   ]
  },
  {
   "cell_type": "markdown",
   "id": "78efc410-e838-4cee-adb0-6d116e11412e",
   "metadata": {
    "tags": []
   },
   "source": [
    "## Section 00 - Installation check-up and troubleshooting\n",
    "---\n",
    "\n",
    "This is an interactive notebook you can use to keep track of your code AND run your code. Its a great way to share simple code or experimental designs.\n",
    "\n",
    "You _can edit anything you want_ in the file, however, **it will not be saved** to the master document stored on github. \n",
    "\n",
    "So do not worry, you won't be able to destroy the course notes :)\n",
    "\n",
    "If you delete something or break the page, remember you can always go back to the Master document and material on github and re-download it!\n",
    "\n"
   ]
  },
  {
   "cell_type": "markdown",
   "id": "bdb6126c-2396-4147-bb1e-eeffcda01285",
   "metadata": {
    "jp-MarkdownHeadingCollapsed": true,
    "tags": []
   },
   "source": [
    "Open a terminal (within `jupyter lab` if you already installed it).\n",
    "\n",
    "### Did you install `conda` on your machine?\n",
    "\n",
    "```bash\n",
    "#verify conda install and check version \n",
    "conda info\n",
    "#update conda in base environment \n",
    "conda update -n base conda\n",
    "#create a new environment\n",
    "#tip: name environment descriptively! \n",
    "conda create --name ENVNAME\n",
    "conda create --name PythonCourses22\n",
    "#list all environments and locations \n",
    "conda env list\n",
    "#activate environment\n",
    "#do this before installing packages!\n",
    "conda activate ENVNAME\n",
    "#list installed packages \n",
    "conda list\n",
    "#install a new package (like jupyter lab!)\n",
    "conda install\n",
    "\n",
    "```\n",
    "\n",
    "[Here](https://docs.conda.io/projects/conda/en/latest/_downloads/843d9e0198f2a193a3484886fa28163c/conda-cheatsheet.pdf) you can find a useful cheatsheet with conda commands :)\n",
    "\n",
    "### Did you install `jupyter lab` on your machine (in your conda environment!)?\n",
    "\n",
    "```bash\n",
    "#check if the package is installed\n",
    "conda list\n",
    "#install jupyter lab in conda\n",
    "conda install -c conda-forge jupyterlab\n",
    "#starting jupyter lab \n",
    "## from your current directory\n",
    "jupyter lab\n",
    "```\n",
    "[Here](https://jupyterlab.readthedocs.io/en/stable/index.html) you can find usefuls info on Jupyter lab."
   ]
  },
  {
   "cell_type": "markdown",
   "id": "87d345cd-7b20-4ff2-ba45-f411b8709b8d",
   "metadata": {
    "tags": []
   },
   "source": [
    "### Quickly format texts with Markdown\n",
    "\n",
    "\n",
    "The text in these interactive notebooks is normally in 'Markdown', which is a language in itself.   Try double clicking on this text. \n",
    "\n",
    "We can use the asterisk character once to *italicize*, twice to **bold**, thrice for ***both*** . \n",
    "\n",
    "You can set headings using the '#' character, #=top heading; ##=second heading etc. \n",
    "\n",
    "To return this text to formatted markdown, click the play button above. You can also render all markdown text within the notebook using Run>Render All Markdown Cells.\n",
    "\n",
    "[Here](https://www.markdownguide.org/cheat-sheet/) you can find a cheat sheet for basic Markdown commands :)"
   ]
  },
  {
   "cell_type": "markdown",
   "id": "4b383e0e-707d-46f1-90bb-d745bb642ca6",
   "metadata": {},
   "source": [
    "#### Practice - Markdown\n",
    "\n",
    "*Here you can try to write a little text using Markdown formats* (**bold**, *italics*, lists, titles...)\n",
    "\n",
    "\n",
    "\n",
    "\n",
    "\n",
    "\n"
   ]
  },
  {
   "cell_type": "markdown",
   "id": "cb737772-b4c5-4822-b21d-79e80a00f05e",
   "metadata": {},
   "source": [
    "**Markdown tips**\n",
    "\n",
    "To return your text to *formatted markdown*, click the **play button** above.\n",
    "\n",
    "You can also render *all markdown text within the notebook* using **Run>Render All Markdown Cells**.\n",
    "\n",
    "The point of markdown in this context, is for you to be able to write *explanatory text ahead of your code that looks nice*. \n",
    "\n",
    "*For example*: The code below uses the `print` command to print a string to the screen.  \n",
    "\n",
    "You can learn more about the `print` command at the [python webpage](https://docs.python.org/3/library/functions.html#print)."
   ]
  },
  {
   "cell_type": "code",
   "execution_count": null,
   "id": "f87084f0-897b-4f0f-a8fa-94b122b88ec8",
   "metadata": {},
   "outputs": [],
   "source": [
    "print(\"Hi!\")"
   ]
  },
  {
   "cell_type": "markdown",
   "id": "3946f5d9-66b7-4b5a-aa79-528b39cff016",
   "metadata": {},
   "source": [
    "### Keeping track of what you're doing with Comments\n",
    "\n",
    "We can also using commenting directly in our code.  This is done using the hash # character. "
   ]
  },
  {
   "cell_type": "code",
   "execution_count": null,
   "id": "3aafeafd-71a9-4171-b84b-d830eb567c6d",
   "metadata": {},
   "outputs": [],
   "source": [
    "# This is a comment line. \n",
    "# It is often in green\n",
    "# python will ignore this.\n",
    "# The code below uses the print command to print a string 'Hi' to the screen. \n",
    "print(\"Hi!\")\n",
    "print(\"Hej!\") # Comments can even go after commands"
   ]
  },
  {
   "cell_type": "markdown",
   "id": "3f97a2f2-7039-47a2-ad92-3ab5a7c489e0",
   "metadata": {},
   "source": [
    "Now we are all set :) Let's start pythoning!"
   ]
  },
  {
   "cell_type": "markdown",
   "id": "0bacb221-fd02-47fc-9543-84eb662890ac",
   "metadata": {
    "jp-MarkdownHeadingCollapsed": true,
    "tags": []
   },
   "source": [
    "## Section 01 - Introduction to bioinformatics using Python\n",
    "---\n",
    "### What is bioinformatics\n",
    "\n",
    "* The 2000s saw the development of **bioinformatics**, which is a science *at the interface* of several other disciplines: biology, computer science, mathematics, chemistry, physics...\n",
    "\n",
    "* Bioinformatics has allowed to address the need to *store, process, automate the analysis* and *share data* through the development of **dedicated algorithms and methods**\n",
    "\n",
    "* It has enabled major progress to be achieved in *solving complex problems* such as deciphering entire genomes.\n",
    "\n",
    "* There are many different uses of bioinformatics, from **biomedical to environmental or evolutionary biology** - bioinformatics can be used to predict the evolution of ecosystems or to reconstruct the evolutionary history of a given group.\n",
    "\n",
    "* There are also a variety of uses, from *developing new algorithms and software*, to *working with bioinformatics tools*.\n",
    "\n",
    "* Nowadays, it is important for a biologist/chemist **to be trained in bioinformatics**, since it seems hardly plausible to never use bioinformatics tools in a big data context. \n",
    "\n",
    "\n",
    "### What is Python? \n",
    "\n",
    "* Python is an easy-to-learn **programming language** that has become increasingly popular among scientists. \n",
    "\n",
    "* It is *easy to use, yet powerful enough* to accomplish most programming tasks of interest for biologists."
   ]
  },
  {
   "cell_type": "markdown",
   "id": "3a1d3dbd-bc7b-4e01-b766-50d48502abcd",
   "metadata": {},
   "source": [
    "## Section 02: Python Basics\n",
    "---\n",
    "\n",
    "### Strings & integers\n",
    "We can make variables to store information. \n",
    "* The basic syntax is `variableName = variable`. \n",
    "* The name of the variable must not have spaces. \n",
    "* To store a string (=sequence of characters) in a variable we have to use quotation marks.  In contrast, integers are stored in variables without quotation marks."
   ]
  },
  {
   "cell_type": "code",
   "execution_count": null,
   "id": "f909eed2-a468-4ff8-b551-832220d4a1cd",
   "metadata": {
    "colab": {
     "base_uri": "https://localhost:8080/",
     "height": 35
    },
    "id": "M-4bKWwnHc_z",
    "outputId": "bdab9b46-8222-4a07-ebd5-1fdb2c54e7a0",
    "tags": []
   },
   "outputs": [],
   "source": [
    "this_is_a_variable=\"this is a string\" # string\n",
    "this_is_also_a_variable=1234  # integer\n",
    "this_is_a_variable_too=\"1234\" # string \n",
    "\n",
    "# you can define two variables at once separated by a comma\n",
    "efficient, variables = \"1234\" , 1234 "
   ]
  },
  {
   "cell_type": "code",
   "execution_count": null,
   "id": "cd9449c2-5fef-4a68-bd45-d5b2d6699b1a",
   "metadata": {},
   "outputs": [],
   "source": [
    "print(this_is_a_variable)"
   ]
  },
  {
   "cell_type": "markdown",
   "id": "2aa99828-6d7f-4948-b813-7afef0aef403",
   "metadata": {},
   "source": [
    "#### Practice\n",
    "Write your own variables in *a new code cell* \n",
    "\n",
    "Tip: you can add a new cell by clicking on the + sign above or at the top right of the current cell."
   ]
  },
  {
   "cell_type": "markdown",
   "id": "3df13faa-c265-4cce-ba86-99a11fa11314",
   "metadata": {},
   "source": [
    "Variables can be overwritten, so be careful!"
   ]
  },
  {
   "cell_type": "code",
   "execution_count": null,
   "id": "4bc4fb34-af68-400d-b926-5d0bc770d38a",
   "metadata": {
    "tags": []
   },
   "outputs": [],
   "source": [
    "overwrite_variable=\"abc\"\n",
    "overwrite_variable=\"def\"\n",
    "print(overwrite_variable)"
   ]
  },
  {
   "cell_type": "markdown",
   "id": "c91844a4-88bd-42a2-8920-fb457096f6d3",
   "metadata": {
    "id": "Y4fORGPlXL0r"
   },
   "source": [
    "You can perform addition with integers using '+'. "
   ]
  },
  {
   "cell_type": "code",
   "execution_count": null,
   "id": "57e3deef-f33a-49e3-959f-782ba7329d89",
   "metadata": {
    "colab": {
     "base_uri": "https://localhost:8080/"
    },
    "id": "1NW95e1DXa0s",
    "outputId": "89da5732-0afc-46a7-875c-65c60940204e",
    "tags": []
   },
   "outputs": [],
   "source": [
    "# Here are some integers \n",
    "a=1\n",
    "b=2\n",
    "c=3 \n",
    "\n",
    "# we can print the result\n",
    "print(a+b+c)"
   ]
  },
  {
   "cell_type": "markdown",
   "id": "e86d796f-3fbc-4528-8f48-fcad2610a683",
   "metadata": {
    "id": "TL1CGrfh0Zi_"
   },
   "source": [
    "You can also use '+' to concatenate strings:"
   ]
  },
  {
   "cell_type": "code",
   "execution_count": null,
   "id": "c1ee502e-be39-4c1e-8a86-d240de4505c9",
   "metadata": {
    "colab": {
     "base_uri": "https://localhost:8080/",
     "height": 35
    },
    "id": "EXzW9S4F0nXo",
    "outputId": "4cedb483-b52a-4649-e9ff-1e23b8c76512"
   },
   "outputs": [],
   "source": [
    "x=\"1\"\n",
    "y=\"2\"\n",
    "z=\"potatis\"\n",
    "\n",
    "# if you are returning only one result from a particular code block, you can omit the 'print'\n",
    "x+y+z"
   ]
  },
  {
   "cell_type": "markdown",
   "id": "a8f75e45-9cee-463a-a459-6bbe59b26c05",
   "metadata": {
    "id": "dswzb7ZV0woy"
   },
   "source": [
    "What happens if you try to concatnate/add a mixture of strings and integers?"
   ]
  },
  {
   "cell_type": "markdown",
   "id": "53f6efe5-c745-426c-84c7-a69a5b54b86a",
   "metadata": {
    "id": "g52SyL4I020d"
   },
   "source": [
    "### Practice\n",
    "Try to concatenate a mixture of strings and integers, what happens?\n"
   ]
  },
  {
   "cell_type": "code",
   "execution_count": 3,
   "id": "ebff2c33-4062-47bd-af5f-394c861c1e34",
   "metadata": {},
   "outputs": [
    {
     "name": "stdout",
     "output_type": "stream",
     "text": [
      "1\n"
     ]
    },
    {
     "data": {
      "text/plain": [
       "'1'"
      ]
     },
     "execution_count": 3,
     "metadata": {},
     "output_type": "execute_result"
    }
   ],
   "source": [
    "a=1\n",
    "x=\"1\"\n",
    "int(x)\n",
    "print(x)\n",
    "(x)"
   ]
  },
  {
   "cell_type": "markdown",
   "id": "9e816c71-5770-46a2-99f3-796cfbb00c1c",
   "metadata": {
    "id": "B7XVmZSL1G3h"
   },
   "source": [
    "You can convert variables between integer and string states with the following functions: `str()` and `int()`.  E.g., str(1) will turn 1 into \"1\""
   ]
  },
  {
   "cell_type": "code",
   "execution_count": null,
   "id": "f13d1bf8-30de-4513-9974-fc0bc4d03f4f",
   "metadata": {
    "tags": []
   },
   "outputs": [],
   "source": [
    "# PRACTICE\n",
    "# Fix you code above to make it work using str() or int()\n",
    "a=1\n",
    "x=\"1\"\n"
   ]
  },
  {
   "cell_type": "markdown",
   "id": "631bbed0-fa82-4249-b8c6-003da402f127",
   "metadata": {},
   "source": [
    "`type()`can be helpful to tell you what your variable is."
   ]
  },
  {
   "cell_type": "code",
   "execution_count": null,
   "id": "45bc6907-7103-4a4d-af94-632c678b0a94",
   "metadata": {
    "colab": {
     "base_uri": "https://localhost:8080/"
    },
    "id": "Z-DmcOiY1TO8",
    "outputId": "574d6968-aa37-4af1-a5d1-1a7ec25d3c18"
   },
   "outputs": [],
   "source": [
    "x=\"1\"\n",
    "print(type(x)) # type() tells you what your variable is\n",
    "int_x=int(x)\n",
    "print(type(int_x))"
   ]
  },
  {
   "cell_type": "markdown",
   "id": "e09c955c-5133-47ba-82f1-bd27490de401",
   "metadata": {
    "id": "ygBwirhJCF9Y"
   },
   "source": [
    "For both integers and strings, you can 'add in place' using  `+=` "
   ]
  },
  {
   "cell_type": "code",
   "execution_count": null,
   "id": "e0a8ce07-72c2-493c-987d-4b3b79f97821",
   "metadata": {
    "colab": {
     "base_uri": "https://localhost:8080/"
    },
    "id": "8irsMiVdDdSh",
    "outputId": "8bde1235-18be-42e4-e40c-036db594dd7c"
   },
   "outputs": [],
   "source": [
    "x = \"1234\"\n",
    "x += \"5678\"\n",
    "print(x) # now our variable will encode \"1234\" + \"5678\"\n",
    "\n",
    "a = 1234\n",
    "a += 5678\n",
    "print(a) # now our variable will encode 1234 + 5678"
   ]
  },
  {
   "cell_type": "markdown",
   "id": "71878ff8-03b0-4c22-a2cd-7e68d035cddd",
   "metadata": {},
   "source": [
    "### Splitting strings\n",
    "\n",
    "Sometimes you will have a string containing multiple pieces of information, separated by a delimiter. You can ask python to 'split' the string based on these delimiting characters. The default output of splitting is a `list` which we will learn more about below.  "
   ]
  },
  {
   "cell_type": "code",
   "execution_count": null,
   "id": "ebe93a38-3662-4a2a-8ba5-bd111b7d9ecd",
   "metadata": {
    "tags": []
   },
   "outputs": [],
   "source": [
    "string=\"ABCD.EFGH.IJKLM NOPQ.split.RST\"\n",
    "print(string.split()) # will split on blank space\n",
    "print(string.split(\".\")) # will split on '.' \n",
    "print(string.split(\"split\"))  # will split on 'split'"
   ]
  },
  {
   "cell_type": "markdown",
   "id": "0c661e45-7925-4589-aa71-7ee9f2a6a443",
   "metadata": {},
   "source": [
    "### Float values\n",
    "'float' values or 'floating point numbers' contain decimals. Most calculations require you to store values as floats, unless you only encounter whole numbers. \n"
   ]
  },
  {
   "cell_type": "code",
   "execution_count": null,
   "id": "494bbd43-a84e-4cb9-8c80-9410623f5d22",
   "metadata": {},
   "outputs": [],
   "source": [
    "# Let's print an interger that has a decimal place\n",
    "x=int(1e-6)\n",
    "print(x)\n",
    "\n",
    "# How about a float?\n",
    "y=float(0.0004)\n",
    "print(y)"
   ]
  },
  {
   "cell_type": "markdown",
   "id": "dbfe19c7-52c4-4b05-a1d8-0d788461d0dd",
   "metadata": {},
   "source": [
    "### Arithmetic "
   ]
  },
  {
   "cell_type": "markdown",
   "id": "dc790b81-a0ce-4d92-b863-c45d2dc87238",
   "metadata": {},
   "source": [
    "Quick reference (hint, double click on this Markdown block to see how to write tables!):\n",
    "\n",
    "|Operator|Description|Example|\n",
    "|:---:|:---|:---|\n",
    "|+|adds two operands|x + y|\n",
    "|-|subtracts two operands| x - y |\n",
    "|\\*|multiplies two operands|x \\* y|\n",
    "|/|divides two operands | x / y|\n",
    "|%|'Modulus', returns the remainer of a divions| x % y|\n",
    "|\\*\\*|Exponential, raised to the power of the following number| x \\*\\* y|"
   ]
  },
  {
   "cell_type": "markdown",
   "id": "ef46eede-59d7-405f-a999-a4d1e897d4de",
   "metadata": {},
   "source": [
    "You can use the Modulus (percent sign) to check if a number is even or odd since it returns the remainder of 1 following a division operation. "
   ]
  },
  {
   "cell_type": "code",
   "execution_count": null,
   "id": "70cd41d0-97a1-46a6-ad39-51e4996e7a98",
   "metadata": {},
   "outputs": [],
   "source": [
    "# try \n",
    "3 % 2"
   ]
  },
  {
   "attachments": {
    "114e83fd-46c1-40ef-874c-67e0ba424620.png": {
     "image/png": "[encoded data removed]"
    }
   },
   "cell_type": "markdown",
   "id": "5236c516-27e6-4efc-b959-ab78e46b673b",
   "metadata": {},
   "source": [
    "Forbidden variables names\n",
    "https://realpython.com/python-variables/#object-references\n",
    "\n",
    "\n",
    "![image.png](attachment:114e83fd-46c1-40ef-874c-67e0ba424620.png)"
   ]
  },
  {
   "cell_type": "markdown",
   "id": "d21a5644-cae4-4165-a6c3-750da673cafd",
   "metadata": {},
   "source": [
    "## Section 03: Lists and Dictionaries and the 0-index\n",
    "---\n",
    "\n",
    "### Lists\n",
    "**Lists**(also called 'arrays' or 'vectors' in other languages) are a collection of ordered items. Lists are represented with square parentheses separated by commas."
   ]
  },
  {
   "cell_type": "code",
   "execution_count": null,
   "id": "142c9bc4-b819-4a00-8892-209d6578ae94",
   "metadata": {},
   "outputs": [],
   "source": [
    "this_is_a_list_of_integers = [1,2,3,4]\n",
    "this_is_a_list_of_strings = [\"a\",\"c\",\"b\"]\n",
    "\n",
    "# You can also have lists within lists\n",
    "this_is_a_list_of_integers_strings_and_lists = [1,2,3,4,\"a\",\"c\",\"b\",this_is_a_list_of_strings]\n",
    "print(this_is_a_list_of_integers_strings_and_lists)"
   ]
  },
  {
   "cell_type": "markdown",
   "id": "44c9a04a-1fea-4c40-bdd8-78dc7b8ee5d9",
   "metadata": {},
   "source": [
    "You can retrieve items from a list based on their position in the list. However, python uses a 0-index, which means the first item in the list is 'item 0' and the second item is 'item 1' the last item is the length of the list - 1."
   ]
  },
  {
   "cell_type": "code",
   "execution_count": null,
   "id": "fdea7fc0-1d17-4b0b-a814-ba907448e9a9",
   "metadata": {
    "tags": []
   },
   "outputs": [],
   "source": [
    "myList = [1,2,3,4]\n",
    "\n",
    "# first item in the list\n",
    "first = myList[0] \n",
    "print(first)\n",
    "\n",
    "# last item in the list\n",
    "last = myList[-1]  \n",
    "print(last)\n",
    "\n",
    "# second last item in the list\n",
    "second_last = myList[-2]\n",
    "print(second_last)\n",
    "\n",
    "# provide the list starting with the 2nd item (index 1)\n",
    "skip_first = myList[1:] \n",
    "print(skip_first)\n",
    "\n",
    "# provide the last two items in the list\n",
    "last_two = myList[-2:] \n",
    "print(last_two)\n",
    "\n",
    "# provide item 2 and item 3 in the list\n",
    "myList[1:3]\n"
   ]
  },
  {
   "cell_type": "markdown",
   "id": "e509cb12-1ba2-4abe-9c68-0109e847f25f",
   "metadata": {},
   "source": [
    "You can add an item to a list using `.append()` or remove items from a list using `.pop()` or `del` or `.remove()`"
   ]
  },
  {
   "cell_type": "code",
   "execution_count": null,
   "id": "5753e3a1-86aa-48b7-8948-c0cabc5a2d84",
   "metadata": {},
   "outputs": [],
   "source": [
    "myList = [1,2,3,4]\n",
    "myList.append(\"apple\")\n",
    "print(myList)\n",
    "\n",
    "myList.pop(1) # 'pops' out the 2nd item in myList\n",
    "print(myList)\n",
    "\n",
    "del myList[1] # deletes the 2nd item in the new myList\n",
    "print(myList)\n",
    "\n",
    "myList.remove(\"apple\") # removes the item called 'apple'\n",
    "print(myList)"
   ]
  },
  {
   "cell_type": "markdown",
   "id": "ba1ef229-3825-4d63-aa49-6a9f182d550b",
   "metadata": {},
   "source": [
    "### Dictionaries \n",
    "\n",
    "Dictionaries are incredibly powerful tools for storing information. A dictionary is a list of keys (=entries) and values (=attributes) you would like to store with each key separated with a ':'.  They are stored in {}."
   ]
  },
  {
   "cell_type": "code",
   "execution_count": null,
   "id": "6ed0c7c6-f996-4789-ac94-6a0ce7bc90b9",
   "metadata": {},
   "outputs": [],
   "source": [
    "myDictionary = {\"a\":1,\"b\":2,\"c\":3}\n",
    "\n",
    "# You can access the value of key 'b' using the following syntax.  \n",
    "print(myDictionary[\"b\"])\n",
    "\n",
    "# You can add elements to a dictionary\n",
    "myDictionary[\"d\"] = 4\n",
    "print(myDictionary)\n",
    "\n",
    "# Overwrite elements of a key \n",
    "myDictionary[\"d\"] = 5\n",
    "print(myDictionary)\n",
    "\n",
    "# Add/subtract elements of a keys\n",
    "myDictionary[\"d\"] += 5\n",
    "print(myDictionary)\n",
    "\n",
    "# Remove keys from a dictionary \n",
    "del myDictionary[\"d\"] \n",
    "myDictionary.pop(\"a\")\n",
    "print(myDictionary)"
   ]
  }
 ],
 "metadata": {
  "kernelspec": {
   "display_name": "Python 3 (ipykernel)",
   "language": "python",
   "name": "python3"
  },
  "language_info": {
   "codemirror_mode": {
    "name": "ipython",
    "version": 3
   },
   "file_extension": ".py",
   "mimetype": "text/x-python",
   "name": "python",
   "nbconvert_exporter": "python",
   "pygments_lexer": "ipython3",
   "version": "3.9.7"
  }
 },
 "nbformat": 4,
 "nbformat_minor": 5
}
