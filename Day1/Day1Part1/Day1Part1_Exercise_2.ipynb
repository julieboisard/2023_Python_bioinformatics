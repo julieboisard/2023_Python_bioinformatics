{
 "cells": [
  {
   "cell_type": "markdown",
   "metadata": {},
   "source": [
    "# Notebook 2\n",
    "\n",
    "-- Modified from [NBIS tutorials](https://github.com/NBISweden/workshop-python/tree/vt17)  by Courtney Stairs\n",
    "\n",
    "Try to predict what each command will do before looking at the answers. "
   ]
  },
  {
   "cell_type": "markdown",
   "metadata": {},
   "source": [
    "### Strings"
   ]
  },
  {
   "cell_type": "code",
   "execution_count": null,
   "metadata": {},
   "outputs": [],
   "source": [
    "word = 'Supercalifragilisticexpialidocious'  \n",
    "word[5]   "
   ]
  },
  {
   "cell_type": "code",
   "execution_count": null,
   "metadata": {},
   "outputs": [],
   "source": [
    "word[0]  "
   ]
  },
  {
   "cell_type": "code",
   "execution_count": null,
   "metadata": {},
   "outputs": [],
   "source": [
    "word[-1]"
   ]
  },
  {
   "cell_type": "code",
   "execution_count": null,
   "metadata": {},
   "outputs": [],
   "source": [
    "word[2000]                                # Python returns an IndexError when the index is out of range"
   ]
  },
  {
   "cell_type": "code",
   "execution_count": null,
   "metadata": {},
   "outputs": [],
   "source": [
    "word[0] = 's'"
   ]
  },
  {
   "cell_type": "markdown",
   "metadata": {},
   "source": [
    "Python uses 0-based indexing for accessing elements in strings or lists. word[0] will access the first element of the string, while word[-1] will access the last element. Trying to access elements outside the range of the index will result in an IndexError. String are immutable, meaning we cannot assign new values to elements in the string, as demonstrated above"
   ]
  },
  {
   "cell_type": "markdown",
   "metadata": {},
   "source": [
    "<b>How many characters are there in word?</b>\n",
    "\n",
    "\\- Use the len() function to get the length of a string or list"
   ]
  },
  {
   "cell_type": "code",
   "execution_count": null,
   "metadata": {},
   "outputs": [],
   "source": [
    "len(word)"
   ]
  },
  {
   "cell_type": "markdown",
   "metadata": {},
   "source": [
    "<b>What are the first 5 characters in word?</b>\n",
    "\n",
    "\\- Remember that the slicing does not include the last element specified, but stops one element before. So the below would include elements from index 0,1,2,3,and 4, but not element at position 5."
   ]
  },
  {
   "cell_type": "code",
   "execution_count": null,
   "metadata": {},
   "outputs": [],
   "source": [
    "word[0:5]"
   ]
  },
  {
   "cell_type": "markdown",
   "metadata": {},
   "source": [
    "<b>What are the last 3 characters in word?</b>\n",
    "\n",
    "\\- As slicing does not include the last element specified, we cannot write word[-3:-1]. Instead, we omit the element to the right of : to indicate that we want the rest of the list. The same principle applies to omitting the element to the left of the : thus including everything from the start until but not including the element specified to the right of :"
   ]
  },
  {
   "cell_type": "code",
   "execution_count": null,
   "metadata": {},
   "outputs": [],
   "source": [
    "word[-3:]"
   ]
  },
  {
   "cell_type": "markdown",
   "metadata": {},
   "source": [
    "<b>Reverse the order of characters in word</b>\n",
    "\n",
    "\\- Here we use the extended slicing with the form word[begin:end:step]. By omitting the begin and end part, and defining step as -1, we tell it to take the whole string, and go one step back at the time."
   ]
  },
  {
   "cell_type": "code",
   "execution_count": null,
   "metadata": {},
   "outputs": [],
   "source": [
    "word[::-1]"
   ]
  },
  {
   "cell_type": "markdown",
   "metadata": {},
   "source": [
    "## Lists"
   ]
  },
  {
   "cell_type": "code",
   "execution_count": null,
   "metadata": {},
   "outputs": [],
   "source": [
    "squares = [1, 4, 9, 16, 25] \n",
    "\n",
    "print(squares[0])\n",
    "print(squares[-1])"
   ]
  },
  {
   "cell_type": "code",
   "execution_count": null,
   "metadata": {},
   "outputs": [],
   "source": [
    "squares[1] = 16\n",
    "squares"
   ]
  },
  {
   "cell_type": "markdown",
   "metadata": {},
   "source": [
    "<b>Add 36 to the list squares</b>\n",
    "\n",
    "\\- Use the append() method to add items to the end of a list. The append() method adds an item to the list in question, without having to re-assign the list to a new variable."
   ]
  },
  {
   "cell_type": "code",
   "execution_count": null,
   "metadata": {},
   "outputs": [],
   "source": [
    "squares.append(36)\n",
    "squares"
   ]
  },
  {
   "cell_type": "markdown",
   "metadata": {},
   "source": [
    "<b>Remove 36 from the list again</b>\n",
    "\n",
    "\\- Easiest here is to use the pop() method, that removes the last item in a list. However, there are other options, both squares.remove(36) and del squares[5] will remove 36 from the list. squares.remove(36) will remove only the first instance of 36 in the list, while del square[5] will delete the item with index position 5."
   ]
  },
  {
   "cell_type": "code",
   "execution_count": null,
   "metadata": {},
   "outputs": [],
   "source": [
    "squares.pop()\n",
    "squares"
   ]
  },
  {
   "cell_type": "markdown",
   "metadata": {},
   "source": [
    "<b>Reverse the order of the list</b>\n",
    "\n",
    "\\- Here we have two options in contrast to when reversing the order of a string. We can both use squares[::-1], and squares.reverse(), which is a method that only works on lists. NOTE! While using squares[::-1] only displays the list in reverse order, squares.reverse() reverses it in place."
   ]
  },
  {
   "cell_type": "code",
   "execution_count": null,
   "metadata": {},
   "outputs": [],
   "source": [
    "print(squares)\n",
    "print(squares[::-1])\n",
    "print(squares)\n",
    "squares.reverse()\n",
    "print(squares)"
   ]
  },
  {
   "cell_type": "code",
   "execution_count": null,
   "metadata": {},
   "outputs": [],
   "source": [
    "justsaying = [\"Grammar, \", \"the difference between \", \"knowing you're shit and \",\"... \", \"knowing your shit\"]\n",
    "\"\".join(justsaying)"
   ]
  },
  {
   "cell_type": "markdown",
   "metadata": {},
   "source": [
    "Above we take all items in a list and join them together to a string using the join() method. The first string defines how to join the item, here the '' means no space in between when joining items."
   ]
  },
  {
   "cell_type": "markdown",
   "metadata": {},
   "source": [
    "<b>Make a list named snplist that contains rs2354, rs325678, rs32468, rs215456  \n",
    "Find out how long this list is</b>"
   ]
  },
  {
   "cell_type": "code",
   "execution_count": null,
   "metadata": {},
   "outputs": [],
   "source": [
    "snplist = [\"rs2354\", \"rs325678\", \"rs32468\", \"rs215456\"]\n",
    "len(snplist)"
   ]
  },
  {
   "cell_type": "markdown",
   "metadata": {},
   "source": [
    "<b>Make a list with 5 random numbers (you can mix integers and floats)  \n",
    "What is the maximum and minimum value in the list?  \n",
    "What happens if you summarize all the values in the list?  \n",
    "Is the result an int or float? Why?</b>  "
   ]
  },
  {
   "cell_type": "code",
   "execution_count": null,
   "metadata": {},
   "outputs": [],
   "source": [
    "random = [1, 5, 4, 6.8, 3.14]\n",
    "print(max(random),min(random))\n",
    "print(sum(random))\n",
    "print(type(sum(random)))\n",
    "\n",
    "# In this example the summarized value is a float, as there are floats present in the list"
   ]
  },
  {
   "cell_type": "markdown",
   "metadata": {},
   "source": [
    "<b>Print appropriately to output the text 'This list has the length 4 and maximum value 64'</b>"
   ]
  },
  {
   "cell_type": "code",
   "execution_count": null,
   "metadata": {},
   "outputs": [],
   "source": [
    "cubes = [1, 8, 27, 64]\n",
    "print('This list has the length '+str(len(cubes))+' and maximum value '+str(max(cubes)))\n",
    "\n",
    "# Don't forget to turn the integers into strings when concatenating with other strings"
   ]
  },
  {
   "cell_type": "markdown",
   "metadata": {},
   "source": [
    "### Operators "
   ]
  },
  {
   "cell_type": "code",
   "execution_count": null,
   "metadata": {},
   "outputs": [],
   "source": [
    "5 > 3"
   ]
  },
  {
   "cell_type": "code",
   "execution_count": null,
   "metadata": {},
   "outputs": [],
   "source": [
    "34 == 34.0             # Comparing a float and an int like this will always be true"
   ]
  },
  {
   "cell_type": "code",
   "execution_count": null,
   "metadata": {},
   "outputs": [],
   "source": [
    "4 + 5 >= 10 - 1        # Remember order of precedence? addition is evaluated before the comparator"
   ]
  },
  {
   "cell_type": "code",
   "execution_count": null,
   "metadata": {},
   "outputs": [],
   "source": [
    "9 != 9                 # Here we are claiming that 9 is not equal 9, which of course is False, as 9 equals 9"
   ]
  },
  {
   "cell_type": "code",
   "execution_count": null,
   "metadata": {},
   "outputs": [],
   "source": [
    "3.14 + 1 == 4.14       # Watch out for this one! Remember how python approximates floats? This is such occasion to be aware of"
   ]
  },
  {
   "cell_type": "code",
   "execution_count": null,
   "metadata": {},
   "outputs": [],
   "source": [
    "x = 3.14\n",
    "y = 2\n",
    "z = [2,4,5,7,0]\n",
    "\n",
    "'a' in z               # No strings in the list z"
   ]
  },
  {
   "cell_type": "code",
   "execution_count": null,
   "metadata": {},
   "outputs": [],
   "source": [
    "y in z                 # Is 2 in the list with [2,4,5,7,0], which it is"
   ]
  },
  {
   "cell_type": "code",
   "execution_count": null,
   "metadata": {},
   "outputs": [],
   "source": [
    "'a' not in z           # As 'a' is not in the list, this evaluates to True"
   ]
  },
  {
   "cell_type": "code",
   "execution_count": null,
   "metadata": {},
   "outputs": [],
   "source": [
    "2 in z and y == 2      # Is the same as writing:\n",
    "True   and y == 2      \n",
    "True   and True        # True and True will evaluate to True"
   ]
  },
  {
   "cell_type": "code",
   "execution_count": null,
   "metadata": {},
   "outputs": [],
   "source": [
    "4 in z and 9 in z      # Is the same as writing:\n",
    "True   and False"
   ]
  },
  {
   "cell_type": "code",
   "execution_count": null,
   "metadata": {},
   "outputs": [],
   "source": [
    "2 in z or w == 5"
   ]
  },
  {
   "cell_type": "markdown",
   "metadata": {},
   "source": [
    "Above is an interesting example! We haven't even defined w, why doesn't python complain? Python uses a lazy approach called short-circuit evaluation when evaluating logical operators. If the left hand side of an OR statement evaluates to True, the entire statement must be true regardless of what the right side evaluates to. In this case python doesn't bother to evaluate the right hand side, meaning it never reads w == 5, thereby not caring that w is not defined. The case is the same for the AND statement as illustrated below. Here python evaluates 8 in z to False, meaning the entire expression has to be false, therefore not bothering to evaluate the right hand side with the undefined variable in."
   ]
  },
  {
   "cell_type": "code",
   "execution_count": null,
   "metadata": {},
   "outputs": [],
   "source": [
    "8 in z and w == 5"
   ]
  },
  {
   "cell_type": "code",
   "execution_count": null,
   "metadata": {},
   "outputs": [],
   "source": [
    "2 in z and y == 2 or 1 in z"
   ]
  },
  {
   "cell_type": "code",
   "execution_count": null,
   "metadata": {},
   "outputs": [],
   "source": [
    "2 in z or 4 in z and w == 2"
   ]
  },
  {
   "cell_type": "markdown",
   "metadata": {},
   "source": [
    "In the example above we have both AND and OR operators. In this case the AND operator has higher precedence than the OR operator. The above example would be the equivalent of writing:"
   ]
  },
  {
   "cell_type": "code",
   "execution_count": null,
   "metadata": {},
   "outputs": [],
   "source": [
    "2 in z or (4 in z and w == 2)"
   ]
  },
  {
   "cell_type": "markdown",
   "metadata": {},
   "source": [
    "The point to remember here is that the whole expression is still evaluated left to right. So, step by step it would be:"
   ]
  },
  {
   "cell_type": "code",
   "execution_count": null,
   "metadata": {},
   "outputs": [],
   "source": [
    "2 in z or  4 in z and w == 2\n",
    "2 in z or (4 in z and w == 2)\n",
    "True   or (4 in z and w == 2)"
   ]
  },
  {
   "cell_type": "markdown",
   "metadata": {},
   "source": [
    "And as the expression left of the OR operator evaluates to True, the entire expression must be true, and the right side is never evaluated."
   ]
  }
 ],
 "metadata": {
  "kernelspec": {
   "display_name": "Python 3 (ipykernel)",
   "language": "python",
   "name": "python3"
  },
  "language_info": {
   "codemirror_mode": {
    "name": "ipython",
    "version": 3
   },
   "file_extension": ".py",
   "mimetype": "text/x-python",
   "name": "python",
   "nbconvert_exporter": "python",
   "pygments_lexer": "ipython3",
   "version": "3.9.7"
  }
 },
 "nbformat": 4,
 "nbformat_minor": 4
}
